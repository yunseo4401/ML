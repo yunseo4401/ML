{
  "nbformat": 4,
  "nbformat_minor": 0,
  "metadata": {
    "colab": {
      "provenance": [],
      "authorship_tag": "ABX9TyPuOuwji6kZA4sGXg5eydEK",
      "include_colab_link": true
    },
    "kernelspec": {
      "name": "python3",
      "display_name": "Python 3"
    },
    "language_info": {
      "name": "python"
    }
  },
  "cells": [
    {
      "cell_type": "markdown",
      "metadata": {
        "id": "view-in-github",
        "colab_type": "text"
      },
      "source": [
        "<a href=\"https://colab.research.google.com/github/yunseo4401/start/blob/master/CountVectorizer.ipynb\" target=\"_parent\"><img src=\"https://colab.research.google.com/assets/colab-badge.svg\" alt=\"Open In Colab\"/></a>"
      ]
    },
    {
      "cell_type": "code",
      "execution_count": 1,
      "metadata": {
        "id": "aBx7nTFUen2E"
      },
      "outputs": [],
      "source": [
        "from sklearn.feature_extraction.text import CountVectorizer\n",
        "corpus=[\n",
        "    'This is the first document.',\n",
        "    'This document is the second document.',\n",
        "    'And this is the third one.',\n",
        "    'Is this the first document?'\n",
        "]\n",
        "vectorizer1=CountVectorizer(stop_words='english') #불용어 지정 \n",
        "vectorizer2=CountVectorizer() # 불용어 미지정 \n",
        "\n"
      ]
    },
    {
      "cell_type": "code",
      "source": [
        "x_feature1=vectorizer1.fit_transform(corpus)\n",
        "x_feature2=vectorizer2.fit_transform(corpus)\n",
        "\n",
        "\n",
        "print('불용어 지정:', vectorizer1.get_feature_names_out())\n",
        "print('불용어 미지정:', vectorizer2.get_feature_names_out())"
      ],
      "metadata": {
        "colab": {
          "base_uri": "https://localhost:8080/"
        },
        "id": "QH7Iy5vufZVB",
        "outputId": "b9dac018-768b-4c78-a83f-81ec237b5562"
      },
      "execution_count": 2,
      "outputs": [
        {
          "output_type": "stream",
          "name": "stdout",
          "text": [
            "불용어 지정: ['document' 'second']\n",
            "불용어 미지정: ['and' 'document' 'first' 'is' 'one' 'second' 'the' 'third' 'this']\n"
          ]
        }
      ]
    },
    {
      "cell_type": "code",
      "source": [
        "print(vectorizer1.vocabulary_) #각 단어의 인덱스가 어떻게 부여되는지 보여준다. \n",
        "print(vectorizer2.vocabulary_)"
      ],
      "metadata": {
        "colab": {
          "base_uri": "https://localhost:8080/"
        },
        "id": "HXYp3nWkh32b",
        "outputId": "59163252-779b-4c28-d559-5b893ad9e655"
      },
      "execution_count": 3,
      "outputs": [
        {
          "output_type": "stream",
          "name": "stdout",
          "text": [
            "{'document': 0, 'second': 1}\n",
            "{'this': 8, 'is': 3, 'the': 6, 'first': 2, 'document': 1, 'second': 5, 'and': 0, 'third': 7, 'one': 4}\n"
          ]
        }
      ]
    },
    {
      "cell_type": "code",
      "source": [
        "print(x_feature1.toarray()) # 각 단어의 빈도수를 보여줌 \n",
        "print(x_feature1.shape)"
      ],
      "metadata": {
        "colab": {
          "base_uri": "https://localhost:8080/"
        },
        "id": "KpF8LYPeiKeb",
        "outputId": "ca6d5fc9-91af-4213-9cec-e345aa46dd83"
      },
      "execution_count": 4,
      "outputs": [
        {
          "output_type": "stream",
          "name": "stdout",
          "text": [
            "[[1 0]\n",
            " [2 1]\n",
            " [0 0]\n",
            " [1 0]]\n",
            "(4, 2)\n"
          ]
        }
      ]
    },
    {
      "cell_type": "code",
      "source": [
        "#from sklearn.feature_extraction.text import Tfidfvectorizer\n",
        "#from gensim.models.word2vec import word2vec"
      ],
      "metadata": {
        "id": "5347abmcioQ-"
      },
      "execution_count": null,
      "outputs": []
    }
  ]
}