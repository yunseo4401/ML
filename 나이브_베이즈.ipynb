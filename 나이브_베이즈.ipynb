{
  "nbformat": 4,
  "nbformat_minor": 0,
  "metadata": {
    "colab": {
      "provenance": [],
      "authorship_tag": "ABX9TyMXX4Rs5cF4jffmP+gD0Pl9",
      "include_colab_link": true
    },
    "kernelspec": {
      "name": "python3",
      "display_name": "Python 3"
    },
    "language_info": {
      "name": "python"
    }
  },
  "cells": [
    {
      "cell_type": "markdown",
      "metadata": {
        "id": "view-in-github",
        "colab_type": "text"
      },
      "source": [
        "<a href=\"https://colab.research.google.com/github/yunseo4401/start/blob/master/%EB%82%98%EC%9D%B4%EB%B8%8C_%EB%B2%A0%EC%9D%B4%EC%A6%88.ipynb\" target=\"_parent\"><img src=\"https://colab.research.google.com/assets/colab-badge.svg\" alt=\"Open In Colab\"/></a>"
      ]
    },
    {
      "cell_type": "code",
      "execution_count": 1,
      "metadata": {
        "colab": {
          "base_uri": "https://localhost:8080/"
        },
        "id": "gZOmiCkoXw1K",
        "outputId": "a6b897ee-62b0-4485-ce47-ac22732def26"
      },
      "outputs": [
        {
          "output_type": "stream",
          "name": "stdout",
          "text": [
            "dict_keys(['data', 'filenames', 'target_names', 'target', 'DESCR'])\n"
          ]
        }
      ],
      "source": [
        "from sklearn.datasets import fetch_20newsgroups \n",
        "newsdata=fetch_20newsgroups(subset='train') #train만 다운로드 핡요 \n",
        "print(newsdata.keys())"
      ]
    },
    {
      "cell_type": "code",
      "source": [
        "print(newsdata.target_names) #20개의 카테고리 이름에 대하여 출력 "
      ],
      "metadata": {
        "colab": {
          "base_uri": "https://localhost:8080/"
        },
        "id": "-aaoal4YZuBC",
        "outputId": "eaba3e75-3b34-45da-de89-ced7945eca75"
      },
      "execution_count": 3,
      "outputs": [
        {
          "output_type": "stream",
          "name": "stdout",
          "text": [
            "['alt.atheism', 'comp.graphics', 'comp.os.ms-windows.misc', 'comp.sys.ibm.pc.hardware', 'comp.sys.mac.hardware', 'comp.windows.x', 'misc.forsale', 'rec.autos', 'rec.motorcycles', 'rec.sport.baseball', 'rec.sport.hockey', 'sci.crypt', 'sci.electronics', 'sci.med', 'sci.space', 'soc.religion.christian', 'talk.politics.guns', 'talk.politics.mideast', 'talk.politics.misc', 'talk.religion.misc']\n"
          ]
        }
      ]
    },
    {
      "cell_type": "code",
      "source": [
        "print(newsdata.target[0]) \n",
        "#첫번째 샘플에 대하여 7번 카테고리에 속하는 데이터임을 확인 "
      ],
      "metadata": {
        "colab": {
          "base_uri": "https://localhost:8080/"
        },
        "id": "gkU-kLlgZ2N1",
        "outputId": "7814470d-bbd2-4d09-d4c0-d6f007e36767"
      },
      "execution_count": 4,
      "outputs": [
        {
          "output_type": "stream",
          "name": "stdout",
          "text": [
            "7\n"
          ]
        }
      ]
    },
    {
      "cell_type": "code",
      "source": [
        "print(newsdata.target_names[7])\n",
        "#7번 카테고리의 이름은 rec.autos"
      ],
      "metadata": {
        "colab": {
          "base_uri": "https://localhost:8080/"
        },
        "id": "zrx4ryFkZ_pH",
        "outputId": "69155757-7d00-493f-f94a-65693e683e6d"
      },
      "execution_count": 5,
      "outputs": [
        {
          "output_type": "stream",
          "name": "stdout",
          "text": [
            "rec.autos\n"
          ]
        }
      ]
    },
    {
      "cell_type": "code",
      "source": [
        "print(newsdata.data[0])"
      ],
      "metadata": {
        "colab": {
          "base_uri": "https://localhost:8080/"
        },
        "id": "iwK73PuLaIUm",
        "outputId": "c1b9a573-731a-405a-c8c2-4dcc3fc86fc6"
      },
      "execution_count": 6,
      "outputs": [
        {
          "output_type": "stream",
          "name": "stdout",
          "text": [
            "From: lerxst@wam.umd.edu (where's my thing)\n",
            "Subject: WHAT car is this!?\n",
            "Nntp-Posting-Host: rac3.wam.umd.edu\n",
            "Organization: University of Maryland, College Park\n",
            "Lines: 15\n",
            "\n",
            " I was wondering if anyone out there could enlighten me on this car I saw\n",
            "the other day. It was a 2-door sports car, looked to be from the late 60s/\n",
            "early 70s. It was called a Bricklin. The doors were really small. In addition,\n",
            "the front bumper was separate from the rest of the body. This is \n",
            "all I know. If anyone can tellme a model name, engine specs, years\n",
            "of production, where this car is made, history, or whatever info you\n",
            "have on this funky looking car, please e-mail.\n",
            "\n",
            "Thanks,\n",
            "- IL\n",
            "   ---- brought to you by your neighborhood Lerxst ----\n",
            "\n",
            "\n",
            "\n",
            "\n",
            "\n"
          ]
        }
      ]
    },
    {
      "cell_type": "code",
      "source": [
        "#텍스트데이터를 BoW로 만드는 CountVectorizer 라이브러리 사용 \n",
        "#단어의 순서를 고려하지 않고, 문서 내에 단어의 등장 횟수를 고려하여 BoW vector 생성 \n",
        "#각 단어에 index를 지정 후, 각 단어의 등장횟수를 index에 맞게 배치 \n",
        "\n",
        "from sklearn.feature_extraction.text import CountVectorizer\n",
        "from sklearn.feature_extraction.text import TfidfVectorizer\n",
        "from sklearn.naive_bayes import MultinomialNB\n",
        "from sklearn.metrics import accuracy_score\n",
        "\n",
        "dtmvector=CountVectorizer()\n",
        "x_train_dtm= dtmvector.fit_transform(newsdata.data)\n",
        "print(x_train_dtm.shape)\n",
        "#trainset의 개수가 11314개 , 단어는 130107개 "
      ],
      "metadata": {
        "colab": {
          "base_uri": "https://localhost:8080/"
        },
        "id": "Qt6art2vaN_X",
        "outputId": "a133c56d-d77d-4392-8825-654653983902"
      },
      "execution_count": 12,
      "outputs": [
        {
          "output_type": "stream",
          "name": "stdout",
          "text": [
            "(11314, 130107)\n"
          ]
        }
      ]
    },
    {
      "cell_type": "code",
      "source": [
        "#TF-IDF는 단어의 빈도와 역문서 빈도의 값을 사용하여 단어들마다 중요한 가중치를 주는 방식 \n",
        "#TF는 특정 문서 d에서의 특정 단어 t의 등장횟수 \n",
        "#DF는 특정단어 t가 등장한 문서의 수 IDF는 DF의 반비례 값이다.\n",
        "tfidfvector=TfidfVectorizer()\n",
        "x_train_tdf=tfidfvector.fit_transform(newsdata.data)\n",
        "print(x_train_tdf.shape)"
      ],
      "metadata": {
        "colab": {
          "base_uri": "https://localhost:8080/"
        },
        "id": "hW6ZyBrNbapo",
        "outputId": "4bae96f8-e0b1-4af1-d60b-a99c2a7c68f8"
      },
      "execution_count": 14,
      "outputs": [
        {
          "output_type": "stream",
          "name": "stdout",
          "text": [
            "(11314, 130107)\n"
          ]
        }
      ]
    },
    {
      "cell_type": "code",
      "source": [
        "#multinomial NB는 데이터 특징이 출현 횟수로 표현된다.ㅏ \n",
        "#설명변수가 연속형 변수일때 Gaussian NB\n",
        "#설명변수가 범주형 변수일때 Multinomial NB\n",
        "#범주형인데 이진형인 경우 Bernoulli NB\n",
        "mod=MultinomialNB(alpha=0.1)\n",
        "mod.fit(x_train_tdf,newsdata.target)"
      ],
      "metadata": {
        "colab": {
          "base_uri": "https://localhost:8080/"
        },
        "id": "IIaIjo-EdKCJ",
        "outputId": "018ab0e1-f3c5-4a51-f4f4-13bc548d47a8"
      },
      "execution_count": 15,
      "outputs": [
        {
          "output_type": "execute_result",
          "data": {
            "text/plain": [
              "MultinomialNB(alpha=0.1)"
            ]
          },
          "metadata": {},
          "execution_count": 15
        }
      ]
    },
    {
      "cell_type": "code",
      "source": [
        "newsdata_test=fetch_20newsgroups(subset='test',shuffle=True)\n",
        "x_test_dtm=dtmvector.transform(newsdata_test.data)\n",
        "tfidfv_test=tfidfvector.transform(newsdata_test.data)\n",
        "\n",
        "predicted=mod.predict(tfidfv_test)\n",
        "print(accuracy_score(newsdata_test.target,predicted))"
      ],
      "metadata": {
        "colab": {
          "base_uri": "https://localhost:8080/"
        },
        "id": "APDLUNTpdtdB",
        "outputId": "b859da1f-9320-4658-d07c-0fcf7ace2ac6"
      },
      "execution_count": 16,
      "outputs": [
        {
          "output_type": "stream",
          "name": "stdout",
          "text": [
            "0.8263409453000531\n"
          ]
        }
      ]
    }
  ]
}