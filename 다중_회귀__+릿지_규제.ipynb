{
  "nbformat": 4,
  "nbformat_minor": 0,
  "metadata": {
    "colab": {
      "provenance": [],
      "authorship_tag": "ABX9TyNaSWiDq3Uo38nmezsn72EQ",
      "include_colab_link": true
    },
    "kernelspec": {
      "name": "python3",
      "display_name": "Python 3"
    },
    "language_info": {
      "name": "python"
    }
  },
  "cells": [
    {
      "cell_type": "markdown",
      "metadata": {
        "id": "view-in-github",
        "colab_type": "text"
      },
      "source": [
        "<a href=\"https://colab.research.google.com/github/yunseo4401/start/blob/master/%EB%8B%A4%EC%A4%91_%ED%9A%8C%EA%B7%80__%2B%EB%A6%BF%EC%A7%80_%EA%B7%9C%EC%A0%9C.ipynb\" target=\"_parent\"><img src=\"https://colab.research.google.com/assets/colab-badge.svg\" alt=\"Open In Colab\"/></a>"
      ]
    },
    {
      "cell_type": "code",
      "execution_count": 2,
      "metadata": {
        "id": "m_jwMN3xLp23"
      },
      "outputs": [],
      "source": [
        "from sklearn.datasets import load_diabetes\n",
        "import pandas as pd\n",
        "\n",
        "diabetes=load_diabetes()\n",
        "x=pd.DataFrame(diabetes.data,columns=diabetes.feature_names)\n",
        "y=diabetes.target"
      ]
    },
    {
      "cell_type": "code",
      "source": [
        "from sklearn.model_selection import train_test_split \n",
        "train_input,test_input,train_target,test_target=train_test_split(x,y,test_size=0.3,random_state=1)\n",
        "\n",
        "print(train_input.shape,train_target.shape)\n",
        "print(test_input.shape,test_target.shape)"
      ],
      "metadata": {
        "colab": {
          "base_uri": "https://localhost:8080/"
        },
        "id": "d5jxXvzsMk25",
        "outputId": "06b0ec52-27c4-4737-c895-b1eac9b90d2d"
      },
      "execution_count": 3,
      "outputs": [
        {
          "output_type": "stream",
          "name": "stdout",
          "text": [
            "(309, 10) (309,)\n",
            "(133, 10) (133,)\n"
          ]
        }
      ]
    },
    {
      "cell_type": "code",
      "source": [
        "from sklearn.preprocessing import StandardScaler\n",
        "\n",
        "ss=StandardScaler()\n",
        "ss.fit(train_input)\n",
        "\n",
        "train_scaled=ss.transform(train_input)\n",
        "test_scaled=ss.transform(test_input)"
      ],
      "metadata": {
        "id": "E5JOQs0pMqd7"
      },
      "execution_count": 4,
      "outputs": []
    },
    {
      "cell_type": "code",
      "source": [
        "from sklearn.linear_model import Ridge  #릿지 회귀 import\n",
        "ridge=Ridge() #알파값 디폴트 1\n",
        "ridge.fit(train_scaled,train_target)\n",
        "print(ridge.score(train_scaled,train_target))"
      ],
      "metadata": {
        "colab": {
          "base_uri": "https://localhost:8080/"
        },
        "id": "z2LQPKVBNOSb",
        "outputId": "07730f22-1580-496c-a690-69fff65dbe81"
      },
      "execution_count": 5,
      "outputs": [
        {
          "output_type": "stream",
          "name": "stdout",
          "text": [
            "0.5416025957852131\n"
          ]
        }
      ]
    },
    {
      "cell_type": "code",
      "source": [
        "print(ridge.score(test_scaled,test_target))"
      ],
      "metadata": {
        "colab": {
          "base_uri": "https://localhost:8080/"
        },
        "id": "8kVt1T8HNrCu",
        "outputId": "4c6fcb70-77b5-40a1-9127-d29f811a6f47"
      },
      "execution_count": 6,
      "outputs": [
        {
          "output_type": "stream",
          "name": "stdout",
          "text": [
            "0.4371580945873186\n"
          ]
        }
      ]
    },
    {
      "cell_type": "code",
      "source": [
        "#적절한 알파값을 찾기 위해 결정계수 그래프를 그려보자 \n",
        "import matplotlib.pyplot as plt\n",
        "train_score=[]\n",
        "test_score=[] #알파값 바꿀때마다 score()매서드의 결과를 저장할 리스트 생성 \n",
        "\n",
        "alpha_list=[1,10,100,500,1000,100000]\n",
        "for alpha in alpha_list:\n",
        "  ridge=Ridge(alpha=alpha)\n",
        "  ridge.fit(train_scaled,train_target)\n",
        "  train_score.append(ridge.score(train_scaled,train_target))\n",
        "  test_score.append(ridge.score(test_scaled,test_target))"
      ],
      "metadata": {
        "id": "FUMMBfMkN57_"
      },
      "execution_count": 13,
      "outputs": []
    },
    {
      "cell_type": "code",
      "source": [
        "import numpy as np\n",
        "plt.plot(np.log10(alpha_list),train_score)\n",
        "plt.plot(np.log10(alpha_list),test_score)\n",
        "plt.xlabel('alpha')\n",
        "plt.ylabel('R^2')\n",
        "plt.show()\n",
        "#알파리스트에 있는 6개의 값을 동일한 간격으로 나타내기 위해 로그 함수로 바꾸어 지수로 표현 \n",
        "#100일때 두 그래프가 그나마 가장 가깝고 테스트 점수가 높다 "
      ],
      "metadata": {
        "colab": {
          "base_uri": "https://localhost:8080/",
          "height": 279
        },
        "id": "6DdUNtTOOo77",
        "outputId": "b5713ddb-d6ba-4233-ad61-17a2255b006e"
      },
      "execution_count": 14,
      "outputs": [
        {
          "output_type": "display_data",
          "data": {
            "text/plain": [
              "<Figure size 432x288 with 1 Axes>"
            ],
            "image/png": "[encoded data removed]"
          },
          "metadata": {
            "needs_background": "light"
          }
        }
      ]
    },
    {
      "cell_type": "code",
      "source": [
        "ridge=Ridge(alpha=100)\n",
        "ridge.fit(train_scaled,train_target)\n",
        "\n",
        "print(ridge.score(train_scaled,train_target))\n",
        "print(ridge.score(test_scaled,test_target))\n",
        "#음 근데 별로 완화가..?"
      ],
      "metadata": {
        "colab": {
          "base_uri": "https://localhost:8080/"
        },
        "id": "ZE0dMhSmPYB-",
        "outputId": "68e4a6de-0a26-40d3-f897-19e923fa886e"
      },
      "execution_count": 15,
      "outputs": [
        {
          "output_type": "stream",
          "name": "stdout",
          "text": [
            "0.5254688480904277\n",
            "0.4361814911395614\n"
          ]
        }
      ]
    }
  ]
}