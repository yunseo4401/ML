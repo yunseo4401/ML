{
  "nbformat": 4,
  "nbformat_minor": 0,
  "metadata": {
    "colab": {
      "provenance": [],
      "mount_file_id": "1DMDaXCtEHuhKxSl8ncL9kd4ZxS9eQTML",
      "authorship_tag": "ABX9TyOp7tdTv7pHWl/PtWpPHFN7",
      "include_colab_link": true
    },
    "kernelspec": {
      "name": "python3",
      "display_name": "Python 3"
    },
    "language_info": {
      "name": "python"
    }
  },
  "cells": [
    {
      "cell_type": "markdown",
      "metadata": {
        "id": "view-in-github",
        "colab_type": "text"
      },
      "source": [
        "<a href=\"https://colab.research.google.com/github/yunseo4401/ML/blob/master/2021311041_%EA%B9%80%EC%9C%A4%EC%84%9C_%EA%B8%B0%EA%B3%84%ED%95%99%EC%8A%B5%EC%9E%85%EB%AC%B8_%EC%A4%91%EA%B0%84%ED%94%84%EB%A1%9C%EC%A0%9D%ED%8A%B8_ipynb%EC%9D%98_%EC%82%AC%EB%B3%B8.ipynb\" target=\"_parent\"><img src=\"https://colab.research.google.com/assets/colab-badge.svg\" alt=\"Open In Colab\"/></a>"
      ]
    },
    {
      "cell_type": "markdown",
      "source": [
        "# 데이터 로드"
      ],
      "metadata": {
        "id": "K7Q3hIOmzsyL"
      }
    },
    {
      "cell_type": "code",
      "source": [
        "#구글 드라이브 마운트\n",
        "from google.colab import drive\n",
        "drive.mount('/content/drive')\n",
        "import pandas as pd\n",
        "import numpy as np\n",
        "\n",
        "#데이터 불러오기 \n",
        "session=pd.read_csv('/content/drive/MyDrive/sessions.csv')\n",
        "user1=pd.read_csv('/content/drive/MyDrive/train_users_2.csv')\n",
        "user2=pd.read_csv('/content/drive/MyDrive/test_users.csv')"
      ],
      "metadata": {
        "colab": {
          "base_uri": "https://localhost:8080/"
        },
        "id": "uonwGJR6xH5N",
        "outputId": "58a56a5e-fd00-48a4-c1dc-ae54bebfb8fd"
      },
      "execution_count": null,
      "outputs": [
        {
          "output_type": "stream",
          "name": "stdout",
          "text": [
            "Drive already mounted at /content/drive; to attempt to forcibly remount, call drive.mount(\"/content/drive\", force_remount=True).\n"
          ]
        }
      ]
    },
    {
      "cell_type": "markdown",
      "source": [
        "# 데이터 정보 확인 "
      ],
      "metadata": {
        "id": "OW1jneeazzRC"
      }
    },
    {
      "cell_type": "code",
      "source": [
        "#user데이터가 두개로 나누어져 있으므로 하나로 합쳐준다.\n",
        "user=pd.concat([user1,user2],axis=0,ignore_index=True) "
      ],
      "metadata": {
        "id": "l03yQ1-uxMoo"
      },
      "execution_count": null,
      "outputs": []
    },
    {
      "cell_type": "code",
      "execution_count": null,
      "metadata": {
        "colab": {
          "base_uri": "https://localhost:8080/"
        },
        "id": "6yfZgqjZd0pe",
        "outputId": "3bb35042-56ac-4342-fe5e-3e6b62c12ddd"
      },
      "outputs": [
        {
          "output_type": "stream",
          "name": "stdout",
          "text": [
            "<class 'pandas.core.frame.DataFrame'>\n",
            "RangeIndex: 275547 entries, 0 to 275546\n",
            "Data columns (total 16 columns):\n",
            " #   Column                   Non-Null Count   Dtype  \n",
            "---  ------                   --------------   -----  \n",
            " 0   id                       275547 non-null  object \n",
            " 1   date_account_created     275547 non-null  object \n",
            " 2   timestamp_first_active   275547 non-null  int64  \n",
            " 3   date_first_booking       88908 non-null   object \n",
            " 4   gender                   275547 non-null  object \n",
            " 5   age                      158681 non-null  float64\n",
            " 6   signup_method            275547 non-null  object \n",
            " 7   signup_flow              275547 non-null  int64  \n",
            " 8   language                 275547 non-null  object \n",
            " 9   affiliate_channel        275547 non-null  object \n",
            " 10  affiliate_provider       275547 non-null  object \n",
            " 11  first_affiliate_tracked  269462 non-null  object \n",
            " 12  signup_app               275547 non-null  object \n",
            " 13  first_device_type        275547 non-null  object \n",
            " 14  first_browser            275547 non-null  object \n",
            " 15  country_destination      213451 non-null  object \n",
            "dtypes: float64(1), int64(2), object(13)\n",
            "memory usage: 33.6+ MB\n"
          ]
        }
      ],
      "source": [
        "user.info()"
      ]
    },
    {
      "cell_type": "code",
      "execution_count": null,
      "metadata": {
        "colab": {
          "base_uri": "https://localhost:8080/",
          "height": 305
        },
        "id": "hiMGlvqTd3DL",
        "outputId": "67fa5d08-708a-4d99-8a1f-7c7c5004404c"
      },
      "outputs": [
        {
          "output_type": "execute_result",
          "data": {
            "text/plain": [
              "           id date_account_created  timestamp_first_active date_first_booking  \\\n",
              "0  gxn3p5htnn           2010-06-28          20090319043255                NaN   \n",
              "1  820tgsjxq7           2011-05-25          20090523174809                NaN   \n",
              "2  4ft3gnwmtx           2010-09-28          20090609231247         2010-08-02   \n",
              "3  bjjt8pjhuk           2011-12-05          20091031060129         2012-09-08   \n",
              "4  87mebub9p4           2010-09-14          20091208061105         2010-02-18   \n",
              "\n",
              "      gender   age signup_method  signup_flow language affiliate_channel  \\\n",
              "0  -unknown-   NaN      facebook            0       en            direct   \n",
              "1       MALE  38.0      facebook            0       en               seo   \n",
              "2     FEMALE  56.0         basic            3       en            direct   \n",
              "3     FEMALE  42.0      facebook            0       en            direct   \n",
              "4  -unknown-  41.0         basic            0       en            direct   \n",
              "\n",
              "  affiliate_provider first_affiliate_tracked signup_app first_device_type  \\\n",
              "0             direct               untracked        Web       Mac Desktop   \n",
              "1             google               untracked        Web       Mac Desktop   \n",
              "2             direct               untracked        Web   Windows Desktop   \n",
              "3             direct               untracked        Web       Mac Desktop   \n",
              "4             direct               untracked        Web       Mac Desktop   \n",
              "\n",
              "  first_browser country_destination  \n",
              "0        Chrome                 NDF  \n",
              "1        Chrome                 NDF  \n",
              "2            IE                  US  \n",
              "3       Firefox               other  \n",
              "4        Chrome                  US  "
            ],
            "text/html": [
              "\n",
              "  <div id=\"df-0b3411df-11cf-4428-8820-b83fefa21fad\">\n",
              "    <div class=\"colab-df-container\">\n",
              "      <div>\n",
              "<style scoped>\n",
              "    .dataframe tbody tr th:only-of-type {\n",
              "        vertical-align: middle;\n",
              "    }\n",
              "\n",
              "    .dataframe tbody tr th {\n",
              "        vertical-align: top;\n",
              "    }\n",
              "\n",
              "    .dataframe thead th {\n",
              "        text-align: right;\n",
              "    }\n",
              "</style>\n",
              "<table border=\"1\" class=\"dataframe\">\n",
              "  <thead>\n",
              "    <tr style=\"text-align: right;\">\n",
              "      <th></th>\n",
              "      <th>id</th>\n",
              "      <th>date_account_created</th>\n",
              "      <th>timestamp_first_active</th>\n",
              "      <th>date_first_booking</th>\n",
              "      <th>gender</th>\n",
              "      <th>age</th>\n",
              "      <th>signup_method</th>\n",
              "      <th>signup_flow</th>\n",
              "      <th>language</th>\n",
              "      <th>affiliate_channel</th>\n",
              "      <th>affiliate_provider</th>\n",
              "      <th>first_affiliate_tracked</th>\n",
              "      <th>signup_app</th>\n",
              "      <th>first_device_type</th>\n",
              "      <th>first_browser</th>\n",
              "      <th>country_destination</th>\n",
              "    </tr>\n",
              "  </thead>\n",
              "  <tbody>\n",
              "    <tr>\n",
              "      <th>0</th>\n",
              "      <td>gxn3p5htnn</td>\n",
              "      <td>2010-06-28</td>\n",
              "      <td>20090319043255</td>\n",
              "      <td>NaN</td>\n",
              "      <td>-unknown-</td>\n",
              "      <td>NaN</td>\n",
              "      <td>facebook</td>\n",
              "      <td>0</td>\n",
              "      <td>en</td>\n",
              "      <td>direct</td>\n",
              "      <td>direct</td>\n",
              "      <td>untracked</td>\n",
              "      <td>Web</td>\n",
              "      <td>Mac Desktop</td>\n",
              "      <td>Chrome</td>\n",
              "      <td>NDF</td>\n",
              "    </tr>\n",
              "    <tr>\n",
              "      <th>1</th>\n",
              "      <td>820tgsjxq7</td>\n",
              "      <td>2011-05-25</td>\n",
              "      <td>20090523174809</td>\n",
              "      <td>NaN</td>\n",
              "      <td>MALE</td>\n",
              "      <td>38.0</td>\n",
              "      <td>facebook</td>\n",
              "      <td>0</td>\n",
              "      <td>en</td>\n",
              "      <td>seo</td>\n",
              "      <td>google</td>\n",
              "      <td>untracked</td>\n",
              "      <td>Web</td>\n",
              "      <td>Mac Desktop</td>\n",
              "      <td>Chrome</td>\n",
              "      <td>NDF</td>\n",
              "    </tr>\n",
              "    <tr>\n",
              "      <th>2</th>\n",
              "      <td>4ft3gnwmtx</td>\n",
              "      <td>2010-09-28</td>\n",
              "      <td>20090609231247</td>\n",
              "      <td>2010-08-02</td>\n",
              "      <td>FEMALE</td>\n",
              "      <td>56.0</td>\n",
              "      <td>basic</td>\n",
              "      <td>3</td>\n",
              "      <td>en</td>\n",
              "      <td>direct</td>\n",
              "      <td>direct</td>\n",
              "      <td>untracked</td>\n",
              "      <td>Web</td>\n",
              "      <td>Windows Desktop</td>\n",
              "      <td>IE</td>\n",
              "      <td>US</td>\n",
              "    </tr>\n",
              "    <tr>\n",
              "      <th>3</th>\n",
              "      <td>bjjt8pjhuk</td>\n",
              "      <td>2011-12-05</td>\n",
              "      <td>20091031060129</td>\n",
              "      <td>2012-09-08</td>\n",
              "      <td>FEMALE</td>\n",
              "      <td>42.0</td>\n",
              "      <td>facebook</td>\n",
              "      <td>0</td>\n",
              "      <td>en</td>\n",
              "      <td>direct</td>\n",
              "      <td>direct</td>\n",
              "      <td>untracked</td>\n",
              "      <td>Web</td>\n",
              "      <td>Mac Desktop</td>\n",
              "      <td>Firefox</td>\n",
              "      <td>other</td>\n",
              "    </tr>\n",
              "    <tr>\n",
              "      <th>4</th>\n",
              "      <td>87mebub9p4</td>\n",
              "      <td>2010-09-14</td>\n",
              "      <td>20091208061105</td>\n",
              "      <td>2010-02-18</td>\n",
              "      <td>-unknown-</td>\n",
              "      <td>41.0</td>\n",
              "      <td>basic</td>\n",
              "      <td>0</td>\n",
              "      <td>en</td>\n",
              "      <td>direct</td>\n",
              "      <td>direct</td>\n",
              "      <td>untracked</td>\n",
              "      <td>Web</td>\n",
              "      <td>Mac Desktop</td>\n",
              "      <td>Chrome</td>\n",
              "      <td>US</td>\n",
              "    </tr>\n",
              "  </tbody>\n",
              "</table>\n",
              "</div>\n",
              "      <button class=\"colab-df-convert\" onclick=\"convertToInteractive('df-0b3411df-11cf-4428-8820-b83fefa21fad')\"\n",
              "              title=\"Convert this dataframe to an interactive table.\"\n",
              "              style=\"display:none;\">\n",
              "        \n",
              "  <svg xmlns=\"http://www.w3.org/2000/svg\" height=\"24px\"viewBox=\"0 0 24 24\"\n",
              "       width=\"24px\">\n",
              "    <path d=\"M0 0h24v24H0V0z\" fill=\"none\"/>\n",
              "    <path d=\"M18.56 5.44l.94 2.06.94-2.06 2.06-.94-2.06-.94-.94-2.06-.94 2.06-2.06.94zm-11 1L8.5 8.5l.94-2.06 2.06-.94-2.06-.94L8.5 2.5l-.94 2.06-2.06.94zm10 10l.94 2.06.94-2.06 2.06-.94-2.06-.94-.94-2.06-.94 2.06-2.06.94z\"/><path d=\"M17.41 7.96l-1.37-1.37c-.4-.4-.92-.59-1.43-.59-.52 0-1.04.2-1.43.59L10.3 9.45l-7.72 7.72c-.78.78-.78 2.05 0 2.83L4 21.41c.39.39.9.59 1.41.59.51 0 1.02-.2 1.41-.59l7.78-7.78 2.81-2.81c.8-.78.8-2.07 0-2.86zM5.41 20L4 18.59l7.72-7.72 1.47 1.35L5.41 20z\"/>\n",
              "  </svg>\n",
              "      </button>\n",
              "      \n",
              "  <style>\n",
              "    .colab-df-container {\n",
              "      display:flex;\n",
              "      flex-wrap:wrap;\n",
              "      gap: 12px;\n",
              "    }\n",
              "\n",
              "    .colab-df-convert {\n",
              "      background-color: #E8F0FE;\n",
              "      border: none;\n",
              "      border-radius: 50%;\n",
              "      cursor: pointer;\n",
              "      display: none;\n",
              "      fill: #1967D2;\n",
              "      height: 32px;\n",
              "      padding: 0 0 0 0;\n",
              "      width: 32px;\n",
              "    }\n",
              "\n",
              "    .colab-df-convert:hover {\n",
              "      background-color: #E2EBFA;\n",
              "      box-shadow: 0px 1px 2px rgba(60, 64, 67, 0.3), 0px 1px 3px 1px rgba(60, 64, 67, 0.15);\n",
              "      fill: #174EA6;\n",
              "    }\n",
              "\n",
              "    [theme=dark] .colab-df-convert {\n",
              "      background-color: #3B4455;\n",
              "      fill: #D2E3FC;\n",
              "    }\n",
              "\n",
              "    [theme=dark] .colab-df-convert:hover {\n",
              "      background-color: #434B5C;\n",
              "      box-shadow: 0px 1px 3px 1px rgba(0, 0, 0, 0.15);\n",
              "      filter: drop-shadow(0px 1px 2px rgba(0, 0, 0, 0.3));\n",
              "      fill: #FFFFFF;\n",
              "    }\n",
              "  </style>\n",
              "\n",
              "      <script>\n",
              "        const buttonEl =\n",
              "          document.querySelector('#df-0b3411df-11cf-4428-8820-b83fefa21fad button.colab-df-convert');\n",
              "        buttonEl.style.display =\n",
              "          google.colab.kernel.accessAllowed ? 'block' : 'none';\n",
              "\n",
              "        async function convertToInteractive(key) {\n",
              "          const element = document.querySelector('#df-0b3411df-11cf-4428-8820-b83fefa21fad');\n",
              "          const dataTable =\n",
              "            await google.colab.kernel.invokeFunction('convertToInteractive',\n",
              "                                                     [key], {});\n",
              "          if (!dataTable) return;\n",
              "\n",
              "          const docLinkHtml = 'Like what you see? Visit the ' +\n",
              "            '<a target=\"_blank\" href=https://colab.research.google.com/notebooks/data_table.ipynb>data table notebook</a>'\n",
              "            + ' to learn more about interactive tables.';\n",
              "          element.innerHTML = '';\n",
              "          dataTable['output_type'] = 'display_data';\n",
              "          await google.colab.output.renderOutput(dataTable, element);\n",
              "          const docLink = document.createElement('div');\n",
              "          docLink.innerHTML = docLinkHtml;\n",
              "          element.appendChild(docLink);\n",
              "        }\n",
              "      </script>\n",
              "    </div>\n",
              "  </div>\n",
              "  "
            ]
          },
          "metadata": {},
          "execution_count": 4
        }
      ],
      "source": [
        "user.head()"
      ]
    },
    {
      "cell_type": "code",
      "source": [
        "#필요한것만 뽑기 \n",
        "user=user.loc[:,['id','date_account_created','date_first_booking','signup_method','gender','age','country_destination']]\n",
        "user"
      ],
      "metadata": {
        "colab": {
          "base_uri": "https://localhost:8080/",
          "height": 424
        },
        "id": "_A82SEKBxO2U",
        "outputId": "a4d307ec-2b06-4bb1-f0ef-ca01da4d1159"
      },
      "execution_count": null,
      "outputs": [
        {
          "output_type": "execute_result",
          "data": {
            "text/plain": [
              "                id date_account_created date_first_booking signup_method  \\\n",
              "0       gxn3p5htnn           2010-06-28                NaN      facebook   \n",
              "1       820tgsjxq7           2011-05-25                NaN      facebook   \n",
              "2       4ft3gnwmtx           2010-09-28         2010-08-02         basic   \n",
              "3       bjjt8pjhuk           2011-12-05         2012-09-08      facebook   \n",
              "4       87mebub9p4           2010-09-14         2010-02-18         basic   \n",
              "...            ...                  ...                ...           ...   \n",
              "275542  cv0na2lf5a           2014-09-30                NaN         basic   \n",
              "275543  zp8xfonng8           2014-09-30                NaN         basic   \n",
              "275544  fa6260ziny           2014-09-30                NaN         basic   \n",
              "275545  87k0fy4ugm           2014-09-30                NaN         basic   \n",
              "275546  9uqfg8txu3           2014-09-30                NaN         basic   \n",
              "\n",
              "           gender   age country_destination  \n",
              "0       -unknown-   NaN                 NDF  \n",
              "1            MALE  38.0                 NDF  \n",
              "2          FEMALE  56.0                  US  \n",
              "3          FEMALE  42.0               other  \n",
              "4       -unknown-  41.0                  US  \n",
              "...           ...   ...                 ...  \n",
              "275542  -unknown-  31.0                 NaN  \n",
              "275543  -unknown-   NaN                 NaN  \n",
              "275544  -unknown-   NaN                 NaN  \n",
              "275545  -unknown-   NaN                 NaN  \n",
              "275546     FEMALE  49.0                 NaN  \n",
              "\n",
              "[275547 rows x 7 columns]"
            ],
            "text/html": [
              "\n",
              "  <div id=\"df-51433bf9-62d4-44fd-9dc8-da94e7ba9114\">\n",
              "    <div class=\"colab-df-container\">\n",
              "      <div>\n",
              "<style scoped>\n",
              "    .dataframe tbody tr th:only-of-type {\n",
              "        vertical-align: middle;\n",
              "    }\n",
              "\n",
              "    .dataframe tbody tr th {\n",
              "        vertical-align: top;\n",
              "    }\n",
              "\n",
              "    .dataframe thead th {\n",
              "        text-align: right;\n",
              "    }\n",
              "</style>\n",
              "<table border=\"1\" class=\"dataframe\">\n",
              "  <thead>\n",
              "    <tr style=\"text-align: right;\">\n",
              "      <th></th>\n",
              "      <th>id</th>\n",
              "      <th>date_account_created</th>\n",
              "      <th>date_first_booking</th>\n",
              "      <th>signup_method</th>\n",
              "      <th>gender</th>\n",
              "      <th>age</th>\n",
              "      <th>country_destination</th>\n",
              "    </tr>\n",
              "  </thead>\n",
              "  <tbody>\n",
              "    <tr>\n",
              "      <th>0</th>\n",
              "      <td>gxn3p5htnn</td>\n",
              "      <td>2010-06-28</td>\n",
              "      <td>NaN</td>\n",
              "      <td>facebook</td>\n",
              "      <td>-unknown-</td>\n",
              "      <td>NaN</td>\n",
              "      <td>NDF</td>\n",
              "    </tr>\n",
              "    <tr>\n",
              "      <th>1</th>\n",
              "      <td>820tgsjxq7</td>\n",
              "      <td>2011-05-25</td>\n",
              "      <td>NaN</td>\n",
              "      <td>facebook</td>\n",
              "      <td>MALE</td>\n",
              "      <td>38.0</td>\n",
              "      <td>NDF</td>\n",
              "    </tr>\n",
              "    <tr>\n",
              "      <th>2</th>\n",
              "      <td>4ft3gnwmtx</td>\n",
              "      <td>2010-09-28</td>\n",
              "      <td>2010-08-02</td>\n",
              "      <td>basic</td>\n",
              "      <td>FEMALE</td>\n",
              "      <td>56.0</td>\n",
              "      <td>US</td>\n",
              "    </tr>\n",
              "    <tr>\n",
              "      <th>3</th>\n",
              "      <td>bjjt8pjhuk</td>\n",
              "      <td>2011-12-05</td>\n",
              "      <td>2012-09-08</td>\n",
              "      <td>facebook</td>\n",
              "      <td>FEMALE</td>\n",
              "      <td>42.0</td>\n",
              "      <td>other</td>\n",
              "    </tr>\n",
              "    <tr>\n",
              "      <th>4</th>\n",
              "      <td>87mebub9p4</td>\n",
              "      <td>2010-09-14</td>\n",
              "      <td>2010-02-18</td>\n",
              "      <td>basic</td>\n",
              "      <td>-unknown-</td>\n",
              "      <td>41.0</td>\n",
              "      <td>US</td>\n",
              "    </tr>\n",
              "    <tr>\n",
              "      <th>...</th>\n",
              "      <td>...</td>\n",
              "      <td>...</td>\n",
              "      <td>...</td>\n",
              "      <td>...</td>\n",
              "      <td>...</td>\n",
              "      <td>...</td>\n",
              "      <td>...</td>\n",
              "    </tr>\n",
              "    <tr>\n",
              "      <th>275542</th>\n",
              "      <td>cv0na2lf5a</td>\n",
              "      <td>2014-09-30</td>\n",
              "      <td>NaN</td>\n",
              "      <td>basic</td>\n",
              "      <td>-unknown-</td>\n",
              "      <td>31.0</td>\n",
              "      <td>NaN</td>\n",
              "    </tr>\n",
              "    <tr>\n",
              "      <th>275543</th>\n",
              "      <td>zp8xfonng8</td>\n",
              "      <td>2014-09-30</td>\n",
              "      <td>NaN</td>\n",
              "      <td>basic</td>\n",
              "      <td>-unknown-</td>\n",
              "      <td>NaN</td>\n",
              "      <td>NaN</td>\n",
              "    </tr>\n",
              "    <tr>\n",
              "      <th>275544</th>\n",
              "      <td>fa6260ziny</td>\n",
              "      <td>2014-09-30</td>\n",
              "      <td>NaN</td>\n",
              "      <td>basic</td>\n",
              "      <td>-unknown-</td>\n",
              "      <td>NaN</td>\n",
              "      <td>NaN</td>\n",
              "    </tr>\n",
              "    <tr>\n",
              "      <th>275545</th>\n",
              "      <td>87k0fy4ugm</td>\n",
              "      <td>2014-09-30</td>\n",
              "      <td>NaN</td>\n",
              "      <td>basic</td>\n",
              "      <td>-unknown-</td>\n",
              "      <td>NaN</td>\n",
              "      <td>NaN</td>\n",
              "    </tr>\n",
              "    <tr>\n",
              "      <th>275546</th>\n",
              "      <td>9uqfg8txu3</td>\n",
              "      <td>2014-09-30</td>\n",
              "      <td>NaN</td>\n",
              "      <td>basic</td>\n",
              "      <td>FEMALE</td>\n",
              "      <td>49.0</td>\n",
              "      <td>NaN</td>\n",
              "    </tr>\n",
              "  </tbody>\n",
              "</table>\n",
              "<p>275547 rows × 7 columns</p>\n",
              "</div>\n",
              "      <button class=\"colab-df-convert\" onclick=\"convertToInteractive('df-51433bf9-62d4-44fd-9dc8-da94e7ba9114')\"\n",
              "              title=\"Convert this dataframe to an interactive table.\"\n",
              "              style=\"display:none;\">\n",
              "        \n",
              "  <svg xmlns=\"http://www.w3.org/2000/svg\" height=\"24px\"viewBox=\"0 0 24 24\"\n",
              "       width=\"24px\">\n",
              "    <path d=\"M0 0h24v24H0V0z\" fill=\"none\"/>\n",
              "    <path d=\"M18.56 5.44l.94 2.06.94-2.06 2.06-.94-2.06-.94-.94-2.06-.94 2.06-2.06.94zm-11 1L8.5 8.5l.94-2.06 2.06-.94-2.06-.94L8.5 2.5l-.94 2.06-2.06.94zm10 10l.94 2.06.94-2.06 2.06-.94-2.06-.94-.94-2.06-.94 2.06-2.06.94z\"/><path d=\"M17.41 7.96l-1.37-1.37c-.4-.4-.92-.59-1.43-.59-.52 0-1.04.2-1.43.59L10.3 9.45l-7.72 7.72c-.78.78-.78 2.05 0 2.83L4 21.41c.39.39.9.59 1.41.59.51 0 1.02-.2 1.41-.59l7.78-7.78 2.81-2.81c.8-.78.8-2.07 0-2.86zM5.41 20L4 18.59l7.72-7.72 1.47 1.35L5.41 20z\"/>\n",
              "  </svg>\n",
              "      </button>\n",
              "      \n",
              "  <style>\n",
              "    .colab-df-container {\n",
              "      display:flex;\n",
              "      flex-wrap:wrap;\n",
              "      gap: 12px;\n",
              "    }\n",
              "\n",
              "    .colab-df-convert {\n",
              "      background-color: #E8F0FE;\n",
              "      border: none;\n",
              "      border-radius: 50%;\n",
              "      cursor: pointer;\n",
              "      display: none;\n",
              "      fill: #1967D2;\n",
              "      height: 32px;\n",
              "      padding: 0 0 0 0;\n",
              "      width: 32px;\n",
              "    }\n",
              "\n",
              "    .colab-df-convert:hover {\n",
              "      background-color: #E2EBFA;\n",
              "      box-shadow: 0px 1px 2px rgba(60, 64, 67, 0.3), 0px 1px 3px 1px rgba(60, 64, 67, 0.15);\n",
              "      fill: #174EA6;\n",
              "    }\n",
              "\n",
              "    [theme=dark] .colab-df-convert {\n",
              "      background-color: #3B4455;\n",
              "      fill: #D2E3FC;\n",
              "    }\n",
              "\n",
              "    [theme=dark] .colab-df-convert:hover {\n",
              "      background-color: #434B5C;\n",
              "      box-shadow: 0px 1px 3px 1px rgba(0, 0, 0, 0.15);\n",
              "      filter: drop-shadow(0px 1px 2px rgba(0, 0, 0, 0.3));\n",
              "      fill: #FFFFFF;\n",
              "    }\n",
              "  </style>\n",
              "\n",
              "      <script>\n",
              "        const buttonEl =\n",
              "          document.querySelector('#df-51433bf9-62d4-44fd-9dc8-da94e7ba9114 button.colab-df-convert');\n",
              "        buttonEl.style.display =\n",
              "          google.colab.kernel.accessAllowed ? 'block' : 'none';\n",
              "\n",
              "        async function convertToInteractive(key) {\n",
              "          const element = document.querySelector('#df-51433bf9-62d4-44fd-9dc8-da94e7ba9114');\n",
              "          const dataTable =\n",
              "            await google.colab.kernel.invokeFunction('convertToInteractive',\n",
              "                                                     [key], {});\n",
              "          if (!dataTable) return;\n",
              "\n",
              "          const docLinkHtml = 'Like what you see? Visit the ' +\n",
              "            '<a target=\"_blank\" href=https://colab.research.google.com/notebooks/data_table.ipynb>data table notebook</a>'\n",
              "            + ' to learn more about interactive tables.';\n",
              "          element.innerHTML = '';\n",
              "          dataTable['output_type'] = 'display_data';\n",
              "          await google.colab.output.renderOutput(dataTable, element);\n",
              "          const docLink = document.createElement('div');\n",
              "          docLink.innerHTML = docLinkHtml;\n",
              "          element.appendChild(docLink);\n",
              "        }\n",
              "      </script>\n",
              "    </div>\n",
              "  </div>\n",
              "  "
            ]
          },
          "metadata": {},
          "execution_count": 5
        }
      ]
    },
    {
      "cell_type": "code",
      "source": [
        "#칼럼 확인 \n",
        "user.info()"
      ],
      "metadata": {
        "colab": {
          "base_uri": "https://localhost:8080/"
        },
        "id": "YD0rTxtnyA3c",
        "outputId": "c43e95be-424a-4a9c-e453-134ec2426529"
      },
      "execution_count": null,
      "outputs": [
        {
          "output_type": "stream",
          "name": "stdout",
          "text": [
            "<class 'pandas.core.frame.DataFrame'>\n",
            "RangeIndex: 275547 entries, 0 to 275546\n",
            "Data columns (total 7 columns):\n",
            " #   Column                Non-Null Count   Dtype  \n",
            "---  ------                --------------   -----  \n",
            " 0   id                    275547 non-null  object \n",
            " 1   date_account_created  275547 non-null  object \n",
            " 2   date_first_booking    88908 non-null   object \n",
            " 3   signup_method         275547 non-null  object \n",
            " 4   gender                275547 non-null  object \n",
            " 5   age                   158681 non-null  float64\n",
            " 6   country_destination   213451 non-null  object \n",
            "dtypes: float64(1), object(6)\n",
            "memory usage: 14.7+ MB\n"
          ]
        }
      ]
    },
    {
      "cell_type": "markdown",
      "source": [
        "# 데이터 전처리 "
      ],
      "metadata": {
        "id": "qaKQ6xcv0OK9"
      }
    },
    {
      "cell_type": "code",
      "source": [
        "#이상치가 있는듯하다 \n",
        "user['age'].value_counts()"
      ],
      "metadata": {
        "colab": {
          "base_uri": "https://localhost:8080/"
        },
        "id": "SBUe6nxmxa_K",
        "outputId": "2db71a15-2008-40f1-cb30-276ee1125b6a"
      },
      "execution_count": null,
      "outputs": [
        {
          "output_type": "execute_result",
          "data": {
            "text/plain": [
              "30.0      7712\n",
              "28.0      7687\n",
              "29.0      7647\n",
              "31.0      7540\n",
              "27.0      7462\n",
              "          ... \n",
              "1953.0       1\n",
              "132.0        1\n",
              "150.0        1\n",
              "112.0        1\n",
              "1941.0       1\n",
              "Name: age, Length: 145, dtype: int64"
            ]
          },
          "metadata": {},
          "execution_count": 7
        }
      ]
    },
    {
      "cell_type": "code",
      "source": [
        "#boxplot을 그리기위해서 일단 결측값을 평균으로 대체해준다. \n",
        "user['age']=user['age'].fillna(user['age'].mean())"
      ],
      "metadata": {
        "id": "Z0DPUVQByOjT"
      },
      "execution_count": null,
      "outputs": []
    },
    {
      "cell_type": "code",
      "source": [
        "#boxplot그리기. 이상치 확인 whis를 일부러 1.5가 아닌 2.5로 설정. \n",
        "#1.5로 설정시 너무 많은 이상치가 생긴다. \n",
        "import matplotlib.pyplot as plt\n",
        "plt.boxplot(user['age'],whis=2.5)\n",
        "plt.title('age')\n",
        "plt.show()"
      ],
      "metadata": {
        "colab": {
          "base_uri": "https://localhost:8080/",
          "height": 281
        },
        "id": "WSiug22ezCWn",
        "outputId": "c637b187-1cb3-41d9-e6e0-2781b7cf239c"
      },
      "execution_count": null,
      "outputs": [
        {
          "output_type": "display_data",
          "data": {
            "text/plain": [
              "<Figure size 432x288 with 1 Axes>"
            ],
            "image/png": "[encoded data removed]"
          },
          "metadata": {
            "needs_background": "light"
          }
        }
      ]
    },
    {
      "cell_type": "code",
      "source": [
        "#이상치 제거 함수 \n",
        "def outliers_iqr(dt,col):\n",
        "  quartile_1,quartile_3=np.percentile(dt[col],[25,75])\n",
        "  iqr=quartile_3-quartile_1\n",
        "  lower_whis=quartile_1-(iqr*2.5)\n",
        "  upper_whis=quartile_3+(iqr*2.5)\n",
        "  outliers=dt[(dt[col]>upper_whis)|(dt[col]<lower_whis)]\n",
        "  return outliers[[col]]\n",
        "outliers=outliers_iqr(user,'age')\n",
        "outliers"
      ],
      "metadata": {
        "colab": {
          "base_uri": "https://localhost:8080/",
          "height": 424
        },
        "id": "mQsJsjEWxl_R",
        "outputId": "762f89de-bb8f-4a9d-8604-a57f6873d1d0"
      },
      "execution_count": null,
      "outputs": [
        {
          "output_type": "execute_result",
          "data": {
            "text/plain": [
              "           age\n",
              "388     2014.0\n",
              "398      104.0\n",
              "627      105.0\n",
              "645       95.0\n",
              "673     2014.0\n",
              "...        ...\n",
              "274575    92.0\n",
              "274610   105.0\n",
              "274793   105.0\n",
              "274824   105.0\n",
              "274850   110.0\n",
              "\n",
              "[3041 rows x 1 columns]"
            ],
            "text/html": [
              "\n",
              "  <div id=\"df-b4ef5571-5bdf-48b4-a2bf-277207ee0de7\">\n",
              "    <div class=\"colab-df-container\">\n",
              "      <div>\n",
              "<style scoped>\n",
              "    .dataframe tbody tr th:only-of-type {\n",
              "        vertical-align: middle;\n",
              "    }\n",
              "\n",
              "    .dataframe tbody tr th {\n",
              "        vertical-align: top;\n",
              "    }\n",
              "\n",
              "    .dataframe thead th {\n",
              "        text-align: right;\n",
              "    }\n",
              "</style>\n",
              "<table border=\"1\" class=\"dataframe\">\n",
              "  <thead>\n",
              "    <tr style=\"text-align: right;\">\n",
              "      <th></th>\n",
              "      <th>age</th>\n",
              "    </tr>\n",
              "  </thead>\n",
              "  <tbody>\n",
              "    <tr>\n",
              "      <th>388</th>\n",
              "      <td>2014.0</td>\n",
              "    </tr>\n",
              "    <tr>\n",
              "      <th>398</th>\n",
              "      <td>104.0</td>\n",
              "    </tr>\n",
              "    <tr>\n",
              "      <th>627</th>\n",
              "      <td>105.0</td>\n",
              "    </tr>\n",
              "    <tr>\n",
              "      <th>645</th>\n",
              "      <td>95.0</td>\n",
              "    </tr>\n",
              "    <tr>\n",
              "      <th>673</th>\n",
              "      <td>2014.0</td>\n",
              "    </tr>\n",
              "    <tr>\n",
              "      <th>...</th>\n",
              "      <td>...</td>\n",
              "    </tr>\n",
              "    <tr>\n",
              "      <th>274575</th>\n",
              "      <td>92.0</td>\n",
              "    </tr>\n",
              "    <tr>\n",
              "      <th>274610</th>\n",
              "      <td>105.0</td>\n",
              "    </tr>\n",
              "    <tr>\n",
              "      <th>274793</th>\n",
              "      <td>105.0</td>\n",
              "    </tr>\n",
              "    <tr>\n",
              "      <th>274824</th>\n",
              "      <td>105.0</td>\n",
              "    </tr>\n",
              "    <tr>\n",
              "      <th>274850</th>\n",
              "      <td>110.0</td>\n",
              "    </tr>\n",
              "  </tbody>\n",
              "</table>\n",
              "<p>3041 rows × 1 columns</p>\n",
              "</div>\n",
              "      <button class=\"colab-df-convert\" onclick=\"convertToInteractive('df-b4ef5571-5bdf-48b4-a2bf-277207ee0de7')\"\n",
              "              title=\"Convert this dataframe to an interactive table.\"\n",
              "              style=\"display:none;\">\n",
              "        \n",
              "  <svg xmlns=\"http://www.w3.org/2000/svg\" height=\"24px\"viewBox=\"0 0 24 24\"\n",
              "       width=\"24px\">\n",
              "    <path d=\"M0 0h24v24H0V0z\" fill=\"none\"/>\n",
              "    <path d=\"M18.56 5.44l.94 2.06.94-2.06 2.06-.94-2.06-.94-.94-2.06-.94 2.06-2.06.94zm-11 1L8.5 8.5l.94-2.06 2.06-.94-2.06-.94L8.5 2.5l-.94 2.06-2.06.94zm10 10l.94 2.06.94-2.06 2.06-.94-2.06-.94-.94-2.06-.94 2.06-2.06.94z\"/><path d=\"M17.41 7.96l-1.37-1.37c-.4-.4-.92-.59-1.43-.59-.52 0-1.04.2-1.43.59L10.3 9.45l-7.72 7.72c-.78.78-.78 2.05 0 2.83L4 21.41c.39.39.9.59 1.41.59.51 0 1.02-.2 1.41-.59l7.78-7.78 2.81-2.81c.8-.78.8-2.07 0-2.86zM5.41 20L4 18.59l7.72-7.72 1.47 1.35L5.41 20z\"/>\n",
              "  </svg>\n",
              "      </button>\n",
              "      \n",
              "  <style>\n",
              "    .colab-df-container {\n",
              "      display:flex;\n",
              "      flex-wrap:wrap;\n",
              "      gap: 12px;\n",
              "    }\n",
              "\n",
              "    .colab-df-convert {\n",
              "      background-color: #E8F0FE;\n",
              "      border: none;\n",
              "      border-radius: 50%;\n",
              "      cursor: pointer;\n",
              "      display: none;\n",
              "      fill: #1967D2;\n",
              "      height: 32px;\n",
              "      padding: 0 0 0 0;\n",
              "      width: 32px;\n",
              "    }\n",
              "\n",
              "    .colab-df-convert:hover {\n",
              "      background-color: #E2EBFA;\n",
              "      box-shadow: 0px 1px 2px rgba(60, 64, 67, 0.3), 0px 1px 3px 1px rgba(60, 64, 67, 0.15);\n",
              "      fill: #174EA6;\n",
              "    }\n",
              "\n",
              "    [theme=dark] .colab-df-convert {\n",
              "      background-color: #3B4455;\n",
              "      fill: #D2E3FC;\n",
              "    }\n",
              "\n",
              "    [theme=dark] .colab-df-convert:hover {\n",
              "      background-color: #434B5C;\n",
              "      box-shadow: 0px 1px 3px 1px rgba(0, 0, 0, 0.15);\n",
              "      filter: drop-shadow(0px 1px 2px rgba(0, 0, 0, 0.3));\n",
              "      fill: #FFFFFF;\n",
              "    }\n",
              "  </style>\n",
              "\n",
              "      <script>\n",
              "        const buttonEl =\n",
              "          document.querySelector('#df-b4ef5571-5bdf-48b4-a2bf-277207ee0de7 button.colab-df-convert');\n",
              "        buttonEl.style.display =\n",
              "          google.colab.kernel.accessAllowed ? 'block' : 'none';\n",
              "\n",
              "        async function convertToInteractive(key) {\n",
              "          const element = document.querySelector('#df-b4ef5571-5bdf-48b4-a2bf-277207ee0de7');\n",
              "          const dataTable =\n",
              "            await google.colab.kernel.invokeFunction('convertToInteractive',\n",
              "                                                     [key], {});\n",
              "          if (!dataTable) return;\n",
              "\n",
              "          const docLinkHtml = 'Like what you see? Visit the ' +\n",
              "            '<a target=\"_blank\" href=https://colab.research.google.com/notebooks/data_table.ipynb>data table notebook</a>'\n",
              "            + ' to learn more about interactive tables.';\n",
              "          element.innerHTML = '';\n",
              "          dataTable['output_type'] = 'display_data';\n",
              "          await google.colab.output.renderOutput(dataTable, element);\n",
              "          const docLink = document.createElement('div');\n",
              "          docLink.innerHTML = docLinkHtml;\n",
              "          element.appendChild(docLink);\n",
              "        }\n",
              "      </script>\n",
              "    </div>\n",
              "  </div>\n",
              "  "
            ]
          },
          "metadata": {},
          "execution_count": 10
        }
      ]
    },
    {
      "cell_type": "code",
      "source": [
        "#이상치 값을 결측값으로 바꾼뒤, 이를 평균으로 대체해준다. \n",
        "user.loc[outliers.index,'age']=None\n",
        "user['age']=user['age'].fillna(user['age'].mean())\n",
        "user['age']=user['age'].astype(int)"
      ],
      "metadata": {
        "id": "g1MDCWY3zIrC"
      },
      "execution_count": null,
      "outputs": []
    },
    {
      "cell_type": "code",
      "execution_count": null,
      "metadata": {
        "colab": {
          "base_uri": "https://localhost:8080/"
        },
        "id": "F_nZ4lZBexqv",
        "outputId": "1d749044-7359-4f57-c2ed-63b7c5aa6d38"
      },
      "outputs": [
        {
          "output_type": "execute_result",
          "data": {
            "text/plain": [
              "-unknown-    129480\n",
              "FEMALE        77524\n",
              "MALE          68209\n",
              "OTHER           334\n",
              "Name: gender, dtype: int64"
            ]
          },
          "metadata": {},
          "execution_count": 12
        }
      ],
      "source": [
        "#성별 확인.결측값 대신 unknown과 other 값이 있다. \n",
        "user['gender'].value_counts()"
      ]
    },
    {
      "cell_type": "code",
      "source": [
        "user.loc[(user['gender']=='-unknown-')|(user['gender']=='OTHER')]=None #성별 unknown을 결측값으로 바꾸고 \n",
        "user=user.dropna(subset=['gender']) #성별 결측값 삭제 \n",
        "user['gender'].value_counts()"
      ],
      "metadata": {
        "colab": {
          "base_uri": "https://localhost:8080/"
        },
        "id": "tjJUhYOQzPry",
        "outputId": "8b811c2a-e212-4c3e-8171-e1b4cc4cf317"
      },
      "execution_count": null,
      "outputs": [
        {
          "output_type": "execute_result",
          "data": {
            "text/plain": [
              "FEMALE    77524\n",
              "MALE      68209\n",
              "Name: gender, dtype: int64"
            ]
          },
          "metadata": {},
          "execution_count": 13
        }
      ]
    },
    {
      "cell_type": "code",
      "source": [
        "#['date_first_booking','date_account_created']의 결측값 제거. 결측값은 계산할 수 없기 때문\n",
        "user=user.dropna(subset=['date_first_booking','date_account_created'])\n",
        "\n",
        "user.info()"
      ],
      "metadata": {
        "colab": {
          "base_uri": "https://localhost:8080/"
        },
        "id": "HTpX0yP5zhsJ",
        "outputId": "f5ee6398-22ba-4625-c0e3-9571ad76dd62"
      },
      "execution_count": null,
      "outputs": [
        {
          "output_type": "stream",
          "name": "stdout",
          "text": [
            "<class 'pandas.core.frame.DataFrame'>\n",
            "Int64Index: 59714 entries, 2 to 213445\n",
            "Data columns (total 7 columns):\n",
            " #   Column                Non-Null Count  Dtype  \n",
            "---  ------                --------------  -----  \n",
            " 0   id                    59714 non-null  object \n",
            " 1   date_account_created  59714 non-null  object \n",
            " 2   date_first_booking    59714 non-null  object \n",
            " 3   signup_method         59714 non-null  object \n",
            " 4   gender                59714 non-null  object \n",
            " 5   age                   59714 non-null  float64\n",
            " 6   country_destination   59714 non-null  object \n",
            "dtypes: float64(1), object(6)\n",
            "memory usage: 3.6+ MB\n"
          ]
        }
      ]
    },
    {
      "cell_type": "code",
      "execution_count": null,
      "metadata": {
        "colab": {
          "base_uri": "https://localhost:8080/",
          "height": 424
        },
        "outputId": "e66deeec-c56c-42e5-e45e-6fb38ca4c945",
        "id": "oW0aQwmx032e"
      },
      "outputs": [
        {
          "output_type": "execute_result",
          "data": {
            "text/plain": [
              "                id signup_method  gender   age country_destination  \\\n",
              "3       bjjt8pjhuk      facebook  FEMALE  42.0               other   \n",
              "6       lsw9q7uk0j         basic  FEMALE  46.0                  US   \n",
              "7       0d01nltbrs         basic  FEMALE  47.0                  US   \n",
              "8       a1vcnhxeij         basic  FEMALE  50.0                  US   \n",
              "10      yuuqmid2rp         basic  FEMALE  36.0                  US   \n",
              "...            ...           ...     ...   ...                 ...   \n",
              "213412  a1rvlsdijt         basic  FEMALE  50.0                  US   \n",
              "213439  msucfwmlzc         basic    MALE  43.0                  US   \n",
              "213441  omlc9iku7t         basic  FEMALE  34.0                  ES   \n",
              "213443  0k26r3mir0         basic  FEMALE  36.0                  US   \n",
              "213445  qbxza0xojf         basic  FEMALE  23.0                  US   \n",
              "\n",
              "        gap_booking  \n",
              "3               278  \n",
              "6                 3  \n",
              "7                10  \n",
              "8               206  \n",
              "10                2  \n",
              "...             ...  \n",
              "213412          207  \n",
              "213439          259  \n",
              "213441           44  \n",
              "213443           13  \n",
              "213445            2  \n",
              "\n",
              "[59688 rows x 6 columns]"
            ],
            "text/html": [
              "\n",
              "  <div id=\"df-fa8f6ced-2e69-4de7-8d48-70fc4fd11aee\">\n",
              "    <div class=\"colab-df-container\">\n",
              "      <div>\n",
              "<style scoped>\n",
              "    .dataframe tbody tr th:only-of-type {\n",
              "        vertical-align: middle;\n",
              "    }\n",
              "\n",
              "    .dataframe tbody tr th {\n",
              "        vertical-align: top;\n",
              "    }\n",
              "\n",
              "    .dataframe thead th {\n",
              "        text-align: right;\n",
              "    }\n",
              "</style>\n",
              "<table border=\"1\" class=\"dataframe\">\n",
              "  <thead>\n",
              "    <tr style=\"text-align: right;\">\n",
              "      <th></th>\n",
              "      <th>id</th>\n",
              "      <th>signup_method</th>\n",
              "      <th>gender</th>\n",
              "      <th>age</th>\n",
              "      <th>country_destination</th>\n",
              "      <th>gap_booking</th>\n",
              "    </tr>\n",
              "  </thead>\n",
              "  <tbody>\n",
              "    <tr>\n",
              "      <th>3</th>\n",
              "      <td>bjjt8pjhuk</td>\n",
              "      <td>facebook</td>\n",
              "      <td>FEMALE</td>\n",
              "      <td>42.0</td>\n",
              "      <td>other</td>\n",
              "      <td>278</td>\n",
              "    </tr>\n",
              "    <tr>\n",
              "      <th>6</th>\n",
              "      <td>lsw9q7uk0j</td>\n",
              "      <td>basic</td>\n",
              "      <td>FEMALE</td>\n",
              "      <td>46.0</td>\n",
              "      <td>US</td>\n",
              "      <td>3</td>\n",
              "    </tr>\n",
              "    <tr>\n",
              "      <th>7</th>\n",
              "      <td>0d01nltbrs</td>\n",
              "      <td>basic</td>\n",
              "      <td>FEMALE</td>\n",
              "      <td>47.0</td>\n",
              "      <td>US</td>\n",
              "      <td>10</td>\n",
              "    </tr>\n",
              "    <tr>\n",
              "      <th>8</th>\n",
              "      <td>a1vcnhxeij</td>\n",
              "      <td>basic</td>\n",
              "      <td>FEMALE</td>\n",
              "      <td>50.0</td>\n",
              "      <td>US</td>\n",
              "      <td>206</td>\n",
              "    </tr>\n",
              "    <tr>\n",
              "      <th>10</th>\n",
              "      <td>yuuqmid2rp</td>\n",
              "      <td>basic</td>\n",
              "      <td>FEMALE</td>\n",
              "      <td>36.0</td>\n",
              "      <td>US</td>\n",
              "      <td>2</td>\n",
              "    </tr>\n",
              "    <tr>\n",
              "      <th>...</th>\n",
              "      <td>...</td>\n",
              "      <td>...</td>\n",
              "      <td>...</td>\n",
              "      <td>...</td>\n",
              "      <td>...</td>\n",
              "      <td>...</td>\n",
              "    </tr>\n",
              "    <tr>\n",
              "      <th>213412</th>\n",
              "      <td>a1rvlsdijt</td>\n",
              "      <td>basic</td>\n",
              "      <td>FEMALE</td>\n",
              "      <td>50.0</td>\n",
              "      <td>US</td>\n",
              "      <td>207</td>\n",
              "    </tr>\n",
              "    <tr>\n",
              "      <th>213439</th>\n",
              "      <td>msucfwmlzc</td>\n",
              "      <td>basic</td>\n",
              "      <td>MALE</td>\n",
              "      <td>43.0</td>\n",
              "      <td>US</td>\n",
              "      <td>259</td>\n",
              "    </tr>\n",
              "    <tr>\n",
              "      <th>213441</th>\n",
              "      <td>omlc9iku7t</td>\n",
              "      <td>basic</td>\n",
              "      <td>FEMALE</td>\n",
              "      <td>34.0</td>\n",
              "      <td>ES</td>\n",
              "      <td>44</td>\n",
              "    </tr>\n",
              "    <tr>\n",
              "      <th>213443</th>\n",
              "      <td>0k26r3mir0</td>\n",
              "      <td>basic</td>\n",
              "      <td>FEMALE</td>\n",
              "      <td>36.0</td>\n",
              "      <td>US</td>\n",
              "      <td>13</td>\n",
              "    </tr>\n",
              "    <tr>\n",
              "      <th>213445</th>\n",
              "      <td>qbxza0xojf</td>\n",
              "      <td>basic</td>\n",
              "      <td>FEMALE</td>\n",
              "      <td>23.0</td>\n",
              "      <td>US</td>\n",
              "      <td>2</td>\n",
              "    </tr>\n",
              "  </tbody>\n",
              "</table>\n",
              "<p>59688 rows × 6 columns</p>\n",
              "</div>\n",
              "      <button class=\"colab-df-convert\" onclick=\"convertToInteractive('df-fa8f6ced-2e69-4de7-8d48-70fc4fd11aee')\"\n",
              "              title=\"Convert this dataframe to an interactive table.\"\n",
              "              style=\"display:none;\">\n",
              "        \n",
              "  <svg xmlns=\"http://www.w3.org/2000/svg\" height=\"24px\"viewBox=\"0 0 24 24\"\n",
              "       width=\"24px\">\n",
              "    <path d=\"M0 0h24v24H0V0z\" fill=\"none\"/>\n",
              "    <path d=\"M18.56 5.44l.94 2.06.94-2.06 2.06-.94-2.06-.94-.94-2.06-.94 2.06-2.06.94zm-11 1L8.5 8.5l.94-2.06 2.06-.94-2.06-.94L8.5 2.5l-.94 2.06-2.06.94zm10 10l.94 2.06.94-2.06 2.06-.94-2.06-.94-.94-2.06-.94 2.06-2.06.94z\"/><path d=\"M17.41 7.96l-1.37-1.37c-.4-.4-.92-.59-1.43-.59-.52 0-1.04.2-1.43.59L10.3 9.45l-7.72 7.72c-.78.78-.78 2.05 0 2.83L4 21.41c.39.39.9.59 1.41.59.51 0 1.02-.2 1.41-.59l7.78-7.78 2.81-2.81c.8-.78.8-2.07 0-2.86zM5.41 20L4 18.59l7.72-7.72 1.47 1.35L5.41 20z\"/>\n",
              "  </svg>\n",
              "      </button>\n",
              "      \n",
              "  <style>\n",
              "    .colab-df-container {\n",
              "      display:flex;\n",
              "      flex-wrap:wrap;\n",
              "      gap: 12px;\n",
              "    }\n",
              "\n",
              "    .colab-df-convert {\n",
              "      background-color: #E8F0FE;\n",
              "      border: none;\n",
              "      border-radius: 50%;\n",
              "      cursor: pointer;\n",
              "      display: none;\n",
              "      fill: #1967D2;\n",
              "      height: 32px;\n",
              "      padding: 0 0 0 0;\n",
              "      width: 32px;\n",
              "    }\n",
              "\n",
              "    .colab-df-convert:hover {\n",
              "      background-color: #E2EBFA;\n",
              "      box-shadow: 0px 1px 2px rgba(60, 64, 67, 0.3), 0px 1px 3px 1px rgba(60, 64, 67, 0.15);\n",
              "      fill: #174EA6;\n",
              "    }\n",
              "\n",
              "    [theme=dark] .colab-df-convert {\n",
              "      background-color: #3B4455;\n",
              "      fill: #D2E3FC;\n",
              "    }\n",
              "\n",
              "    [theme=dark] .colab-df-convert:hover {\n",
              "      background-color: #434B5C;\n",
              "      box-shadow: 0px 1px 3px 1px rgba(0, 0, 0, 0.15);\n",
              "      filter: drop-shadow(0px 1px 2px rgba(0, 0, 0, 0.3));\n",
              "      fill: #FFFFFF;\n",
              "    }\n",
              "  </style>\n",
              "\n",
              "      <script>\n",
              "        const buttonEl =\n",
              "          document.querySelector('#df-fa8f6ced-2e69-4de7-8d48-70fc4fd11aee button.colab-df-convert');\n",
              "        buttonEl.style.display =\n",
              "          google.colab.kernel.accessAllowed ? 'block' : 'none';\n",
              "\n",
              "        async function convertToInteractive(key) {\n",
              "          const element = document.querySelector('#df-fa8f6ced-2e69-4de7-8d48-70fc4fd11aee');\n",
              "          const dataTable =\n",
              "            await google.colab.kernel.invokeFunction('convertToInteractive',\n",
              "                                                     [key], {});\n",
              "          if (!dataTable) return;\n",
              "\n",
              "          const docLinkHtml = 'Like what you see? Visit the ' +\n",
              "            '<a target=\"_blank\" href=https://colab.research.google.com/notebooks/data_table.ipynb>data table notebook</a>'\n",
              "            + ' to learn more about interactive tables.';\n",
              "          element.innerHTML = '';\n",
              "          dataTable['output_type'] = 'display_data';\n",
              "          await google.colab.output.renderOutput(dataTable, element);\n",
              "          const docLink = document.createElement('div');\n",
              "          docLink.innerHTML = docLinkHtml;\n",
              "          element.appendChild(docLink);\n",
              "        }\n",
              "      </script>\n",
              "    </div>\n",
              "  </div>\n",
              "  "
            ]
          },
          "metadata": {},
          "execution_count": 15
        }
      ],
      "source": [
        "#위 두 칼럼은 object형식으로 제시되었기 때문에 날짜 형식으로 바꾸어준다. \n",
        "user['date_account_created']=pd.to_datetime(user['date_account_created'],format='%Y-%m-%d %H:%M:%S')\n",
        "user['date_first_booking']=pd.to_datetime(user['date_first_booking'],format='%Y-%m-%d %H:%M:%S')\n",
        "\n",
        "#datetime함수를 통해 두 값을 빼준다. \n",
        "from datetime import timedelta\n",
        "user['gap_booking']=user['date_first_booking']-user['date_account_created']\n",
        "#이값을 'gap_booking'이라는 새로운 칼럼을 만들어 담는다. \n",
        "user['gap_booking']=user['gap_booking'].dt.days\n",
        "\n",
        "#뺀값이 음수인경우는 제외해준다. \n",
        "idx=user[user['gap_booking']<0].index\n",
        "user.drop(idx,inplace=True)\n",
        "\n",
        "#원래 있던 두 칼럼은 없애준다. \n",
        "user=user.drop(columns=['date_account_created','date_first_booking'])\n",
        "\n",
        "user"
      ]
    },
    {
      "cell_type": "code",
      "execution_count": null,
      "metadata": {
        "colab": {
          "base_uri": "https://localhost:8080/"
        },
        "id": "eGf_TZ-MfiBa",
        "outputId": "1cf3047a-85b8-4e38-c5f5-70b8ad3799d7"
      },
      "outputs": [
        {
          "output_type": "execute_result",
          "data": {
            "text/plain": [
              "US       42133\n",
              "other     6602\n",
              "FR        3297\n",
              "IT        1788\n",
              "GB        1562\n",
              "ES        1530\n",
              "CA         930\n",
              "DE         773\n",
              "NL         532\n",
              "AU         394\n",
              "PT         147\n",
              "Name: country_destination, dtype: int64"
            ]
          },
          "metadata": {},
          "execution_count": 16
        }
      ],
      "source": [
        "#나라 칼럼 확인 ,other이 결측값으로 제시 \n",
        "user['country_destination'].value_counts()"
      ]
    },
    {
      "cell_type": "code",
      "source": [
        "user.loc[(user['country_destination']=='other')]=None\n",
        "#other을 nan값으로 바꾸어 주고 \n",
        "user['country_destination']=user['country_destination'].fillna(method='pad')\n",
        "#결측값을 이전 값으로 대체 \n",
        "user['country_destination'].value_counts()"
      ],
      "metadata": {
        "colab": {
          "base_uri": "https://localhost:8080/"
        },
        "id": "JZaJVAkj04hy",
        "outputId": "69b3171a-eb22-471b-d5f1-34aebc3cbb97"
      },
      "execution_count": null,
      "outputs": [
        {
          "output_type": "execute_result",
          "data": {
            "text/plain": [
              "US    47321\n",
              "FR     3715\n",
              "IT     1997\n",
              "GB     1778\n",
              "ES     1724\n",
              "CA     1043\n",
              "DE      887\n",
              "NL      595\n",
              "AU      457\n",
              "PT      170\n",
              "Name: country_destination, dtype: int64"
            ]
          },
          "metadata": {},
          "execution_count": 17
        }
      ]
    },
    {
      "cell_type": "code",
      "execution_count": null,
      "metadata": {
        "colab": {
          "base_uri": "https://localhost:8080/"
        },
        "id": "gAjTZCgbf1cO",
        "outputId": "0bbd1811-8973-4719-c23a-c8061dcb99ba"
      },
      "outputs": [
        {
          "output_type": "stream",
          "name": "stdout",
          "text": [
            "<class 'pandas.core.frame.DataFrame'>\n",
            "RangeIndex: 10567737 entries, 0 to 10567736\n",
            "Data columns (total 6 columns):\n",
            " #   Column         Dtype  \n",
            "---  ------         -----  \n",
            " 0   user_id        object \n",
            " 1   action         object \n",
            " 2   action_type    object \n",
            " 3   action_detail  object \n",
            " 4   device_type    object \n",
            " 5   secs_elapsed   float64\n",
            "dtypes: float64(1), object(5)\n",
            "memory usage: 483.8+ MB\n"
          ]
        }
      ],
      "source": [
        "session.info()"
      ]
    },
    {
      "cell_type": "code",
      "execution_count": null,
      "metadata": {
        "colab": {
          "base_uri": "https://localhost:8080/",
          "height": 206
        },
        "id": "k3rX_pNEf3ed",
        "outputId": "e9135390-543a-4709-94fe-d82d8beea615"
      },
      "outputs": [
        {
          "output_type": "execute_result",
          "data": {
            "text/plain": [
              "      user_id          action action_type        action_detail  \\\n",
              "0  d1mm9tcy42          lookup         NaN                  NaN   \n",
              "1  d1mm9tcy42  search_results       click  view_search_results   \n",
              "2  d1mm9tcy42          lookup         NaN                  NaN   \n",
              "3  d1mm9tcy42  search_results       click  view_search_results   \n",
              "4  d1mm9tcy42          lookup         NaN                  NaN   \n",
              "\n",
              "       device_type  secs_elapsed  \n",
              "0  Windows Desktop         319.0  \n",
              "1  Windows Desktop       67753.0  \n",
              "2  Windows Desktop         301.0  \n",
              "3  Windows Desktop       22141.0  \n",
              "4  Windows Desktop         435.0  "
            ],
            "text/html": [
              "\n",
              "  <div id=\"df-29dce2e7-bf63-41cc-b0b0-fcc02d3f802f\">\n",
              "    <div class=\"colab-df-container\">\n",
              "      <div>\n",
              "<style scoped>\n",
              "    .dataframe tbody tr th:only-of-type {\n",
              "        vertical-align: middle;\n",
              "    }\n",
              "\n",
              "    .dataframe tbody tr th {\n",
              "        vertical-align: top;\n",
              "    }\n",
              "\n",
              "    .dataframe thead th {\n",
              "        text-align: right;\n",
              "    }\n",
              "</style>\n",
              "<table border=\"1\" class=\"dataframe\">\n",
              "  <thead>\n",
              "    <tr style=\"text-align: right;\">\n",
              "      <th></th>\n",
              "      <th>user_id</th>\n",
              "      <th>action</th>\n",
              "      <th>action_type</th>\n",
              "      <th>action_detail</th>\n",
              "      <th>device_type</th>\n",
              "      <th>secs_elapsed</th>\n",
              "    </tr>\n",
              "  </thead>\n",
              "  <tbody>\n",
              "    <tr>\n",
              "      <th>0</th>\n",
              "      <td>d1mm9tcy42</td>\n",
              "      <td>lookup</td>\n",
              "      <td>NaN</td>\n",
              "      <td>NaN</td>\n",
              "      <td>Windows Desktop</td>\n",
              "      <td>319.0</td>\n",
              "    </tr>\n",
              "    <tr>\n",
              "      <th>1</th>\n",
              "      <td>d1mm9tcy42</td>\n",
              "      <td>search_results</td>\n",
              "      <td>click</td>\n",
              "      <td>view_search_results</td>\n",
              "      <td>Windows Desktop</td>\n",
              "      <td>67753.0</td>\n",
              "    </tr>\n",
              "    <tr>\n",
              "      <th>2</th>\n",
              "      <td>d1mm9tcy42</td>\n",
              "      <td>lookup</td>\n",
              "      <td>NaN</td>\n",
              "      <td>NaN</td>\n",
              "      <td>Windows Desktop</td>\n",
              "      <td>301.0</td>\n",
              "    </tr>\n",
              "    <tr>\n",
              "      <th>3</th>\n",
              "      <td>d1mm9tcy42</td>\n",
              "      <td>search_results</td>\n",
              "      <td>click</td>\n",
              "      <td>view_search_results</td>\n",
              "      <td>Windows Desktop</td>\n",
              "      <td>22141.0</td>\n",
              "    </tr>\n",
              "    <tr>\n",
              "      <th>4</th>\n",
              "      <td>d1mm9tcy42</td>\n",
              "      <td>lookup</td>\n",
              "      <td>NaN</td>\n",
              "      <td>NaN</td>\n",
              "      <td>Windows Desktop</td>\n",
              "      <td>435.0</td>\n",
              "    </tr>\n",
              "  </tbody>\n",
              "</table>\n",
              "</div>\n",
              "      <button class=\"colab-df-convert\" onclick=\"convertToInteractive('df-29dce2e7-bf63-41cc-b0b0-fcc02d3f802f')\"\n",
              "              title=\"Convert this dataframe to an interactive table.\"\n",
              "              style=\"display:none;\">\n",
              "        \n",
              "  <svg xmlns=\"http://www.w3.org/2000/svg\" height=\"24px\"viewBox=\"0 0 24 24\"\n",
              "       width=\"24px\">\n",
              "    <path d=\"M0 0h24v24H0V0z\" fill=\"none\"/>\n",
              "    <path d=\"M18.56 5.44l.94 2.06.94-2.06 2.06-.94-2.06-.94-.94-2.06-.94 2.06-2.06.94zm-11 1L8.5 8.5l.94-2.06 2.06-.94-2.06-.94L8.5 2.5l-.94 2.06-2.06.94zm10 10l.94 2.06.94-2.06 2.06-.94-2.06-.94-.94-2.06-.94 2.06-2.06.94z\"/><path d=\"M17.41 7.96l-1.37-1.37c-.4-.4-.92-.59-1.43-.59-.52 0-1.04.2-1.43.59L10.3 9.45l-7.72 7.72c-.78.78-.78 2.05 0 2.83L4 21.41c.39.39.9.59 1.41.59.51 0 1.02-.2 1.41-.59l7.78-7.78 2.81-2.81c.8-.78.8-2.07 0-2.86zM5.41 20L4 18.59l7.72-7.72 1.47 1.35L5.41 20z\"/>\n",
              "  </svg>\n",
              "      </button>\n",
              "      \n",
              "  <style>\n",
              "    .colab-df-container {\n",
              "      display:flex;\n",
              "      flex-wrap:wrap;\n",
              "      gap: 12px;\n",
              "    }\n",
              "\n",
              "    .colab-df-convert {\n",
              "      background-color: #E8F0FE;\n",
              "      border: none;\n",
              "      border-radius: 50%;\n",
              "      cursor: pointer;\n",
              "      display: none;\n",
              "      fill: #1967D2;\n",
              "      height: 32px;\n",
              "      padding: 0 0 0 0;\n",
              "      width: 32px;\n",
              "    }\n",
              "\n",
              "    .colab-df-convert:hover {\n",
              "      background-color: #E2EBFA;\n",
              "      box-shadow: 0px 1px 2px rgba(60, 64, 67, 0.3), 0px 1px 3px 1px rgba(60, 64, 67, 0.15);\n",
              "      fill: #174EA6;\n",
              "    }\n",
              "\n",
              "    [theme=dark] .colab-df-convert {\n",
              "      background-color: #3B4455;\n",
              "      fill: #D2E3FC;\n",
              "    }\n",
              "\n",
              "    [theme=dark] .colab-df-convert:hover {\n",
              "      background-color: #434B5C;\n",
              "      box-shadow: 0px 1px 3px 1px rgba(0, 0, 0, 0.15);\n",
              "      filter: drop-shadow(0px 1px 2px rgba(0, 0, 0, 0.3));\n",
              "      fill: #FFFFFF;\n",
              "    }\n",
              "  </style>\n",
              "\n",
              "      <script>\n",
              "        const buttonEl =\n",
              "          document.querySelector('#df-29dce2e7-bf63-41cc-b0b0-fcc02d3f802f button.colab-df-convert');\n",
              "        buttonEl.style.display =\n",
              "          google.colab.kernel.accessAllowed ? 'block' : 'none';\n",
              "\n",
              "        async function convertToInteractive(key) {\n",
              "          const element = document.querySelector('#df-29dce2e7-bf63-41cc-b0b0-fcc02d3f802f');\n",
              "          const dataTable =\n",
              "            await google.colab.kernel.invokeFunction('convertToInteractive',\n",
              "                                                     [key], {});\n",
              "          if (!dataTable) return;\n",
              "\n",
              "          const docLinkHtml = 'Like what you see? Visit the ' +\n",
              "            '<a target=\"_blank\" href=https://colab.research.google.com/notebooks/data_table.ipynb>data table notebook</a>'\n",
              "            + ' to learn more about interactive tables.';\n",
              "          element.innerHTML = '';\n",
              "          dataTable['output_type'] = 'display_data';\n",
              "          await google.colab.output.renderOutput(dataTable, element);\n",
              "          const docLink = document.createElement('div');\n",
              "          docLink.innerHTML = docLinkHtml;\n",
              "          element.appendChild(docLink);\n",
              "        }\n",
              "      </script>\n",
              "    </div>\n",
              "  </div>\n",
              "  "
            ]
          },
          "metadata": {},
          "execution_count": 19
        }
      ],
      "source": [
        "session.head()"
      ]
    },
    {
      "cell_type": "code",
      "source": [
        "#아이디별로 사용한 시간의 평균을 담음 \n",
        "session=session.groupby('user_id').mean()\n",
        "#결측값은 없앰\n",
        "session=session.dropna(subset=['secs_elapsed'])\n",
        "session.info()\n",
        "#정수화 \n",
        "session['secs_elapsed']=session['secs_elapsed'].astype(int)\n",
        "session\n",
        "\n",
        "\n"
      ],
      "metadata": {
        "colab": {
          "base_uri": "https://localhost:8080/",
          "height": 600
        },
        "id": "OUVGI0Lk1L5I",
        "outputId": "9ebafbf0-28b5-47b4-c994-1266d7ceceae"
      },
      "execution_count": null,
      "outputs": [
        {
          "output_type": "stream",
          "name": "stdout",
          "text": [
            "<class 'pandas.core.frame.DataFrame'>\n",
            "Index: 134057 entries, 00023iyk9l to zzzlylp57e\n",
            "Data columns (total 1 columns):\n",
            " #   Column        Non-Null Count   Dtype  \n",
            "---  ------        --------------   -----  \n",
            " 0   secs_elapsed  134057 non-null  float64\n",
            "dtypes: float64(1)\n",
            "memory usage: 2.0+ MB\n"
          ]
        },
        {
          "output_type": "execute_result",
          "data": {
            "text/plain": [
              "            secs_elapsed\n",
              "user_id                 \n",
              "00023iyk9l         22253\n",
              "0010k6l0om          9460\n",
              "001wyh0pz8          3179\n",
              "0028jgx1x1          9900\n",
              "002qnbzfs5          8232\n",
              "...                  ...\n",
              "zzxox7jnrx          7266\n",
              "zzy7t0y9cm         10538\n",
              "zzysuoqg6x           865\n",
              "zzywmcn0jv         42998\n",
              "zzzlylp57e          5903\n",
              "\n",
              "[134057 rows x 1 columns]"
            ],
            "text/html": [
              "\n",
              "  <div id=\"df-5bdf10de-9eb8-4bff-88ea-1ec15f734d48\">\n",
              "    <div class=\"colab-df-container\">\n",
              "      <div>\n",
              "<style scoped>\n",
              "    .dataframe tbody tr th:only-of-type {\n",
              "        vertical-align: middle;\n",
              "    }\n",
              "\n",
              "    .dataframe tbody tr th {\n",
              "        vertical-align: top;\n",
              "    }\n",
              "\n",
              "    .dataframe thead th {\n",
              "        text-align: right;\n",
              "    }\n",
              "</style>\n",
              "<table border=\"1\" class=\"dataframe\">\n",
              "  <thead>\n",
              "    <tr style=\"text-align: right;\">\n",
              "      <th></th>\n",
              "      <th>secs_elapsed</th>\n",
              "    </tr>\n",
              "    <tr>\n",
              "      <th>user_id</th>\n",
              "      <th></th>\n",
              "    </tr>\n",
              "  </thead>\n",
              "  <tbody>\n",
              "    <tr>\n",
              "      <th>00023iyk9l</th>\n",
              "      <td>22253</td>\n",
              "    </tr>\n",
              "    <tr>\n",
              "      <th>0010k6l0om</th>\n",
              "      <td>9460</td>\n",
              "    </tr>\n",
              "    <tr>\n",
              "      <th>001wyh0pz8</th>\n",
              "      <td>3179</td>\n",
              "    </tr>\n",
              "    <tr>\n",
              "      <th>0028jgx1x1</th>\n",
              "      <td>9900</td>\n",
              "    </tr>\n",
              "    <tr>\n",
              "      <th>002qnbzfs5</th>\n",
              "      <td>8232</td>\n",
              "    </tr>\n",
              "    <tr>\n",
              "      <th>...</th>\n",
              "      <td>...</td>\n",
              "    </tr>\n",
              "    <tr>\n",
              "      <th>zzxox7jnrx</th>\n",
              "      <td>7266</td>\n",
              "    </tr>\n",
              "    <tr>\n",
              "      <th>zzy7t0y9cm</th>\n",
              "      <td>10538</td>\n",
              "    </tr>\n",
              "    <tr>\n",
              "      <th>zzysuoqg6x</th>\n",
              "      <td>865</td>\n",
              "    </tr>\n",
              "    <tr>\n",
              "      <th>zzywmcn0jv</th>\n",
              "      <td>42998</td>\n",
              "    </tr>\n",
              "    <tr>\n",
              "      <th>zzzlylp57e</th>\n",
              "      <td>5903</td>\n",
              "    </tr>\n",
              "  </tbody>\n",
              "</table>\n",
              "<p>134057 rows × 1 columns</p>\n",
              "</div>\n",
              "      <button class=\"colab-df-convert\" onclick=\"convertToInteractive('df-5bdf10de-9eb8-4bff-88ea-1ec15f734d48')\"\n",
              "              title=\"Convert this dataframe to an interactive table.\"\n",
              "              style=\"display:none;\">\n",
              "        \n",
              "  <svg xmlns=\"http://www.w3.org/2000/svg\" height=\"24px\"viewBox=\"0 0 24 24\"\n",
              "       width=\"24px\">\n",
              "    <path d=\"M0 0h24v24H0V0z\" fill=\"none\"/>\n",
              "    <path d=\"M18.56 5.44l.94 2.06.94-2.06 2.06-.94-2.06-.94-.94-2.06-.94 2.06-2.06.94zm-11 1L8.5 8.5l.94-2.06 2.06-.94-2.06-.94L8.5 2.5l-.94 2.06-2.06.94zm10 10l.94 2.06.94-2.06 2.06-.94-2.06-.94-.94-2.06-.94 2.06-2.06.94z\"/><path d=\"M17.41 7.96l-1.37-1.37c-.4-.4-.92-.59-1.43-.59-.52 0-1.04.2-1.43.59L10.3 9.45l-7.72 7.72c-.78.78-.78 2.05 0 2.83L4 21.41c.39.39.9.59 1.41.59.51 0 1.02-.2 1.41-.59l7.78-7.78 2.81-2.81c.8-.78.8-2.07 0-2.86zM5.41 20L4 18.59l7.72-7.72 1.47 1.35L5.41 20z\"/>\n",
              "  </svg>\n",
              "      </button>\n",
              "      \n",
              "  <style>\n",
              "    .colab-df-container {\n",
              "      display:flex;\n",
              "      flex-wrap:wrap;\n",
              "      gap: 12px;\n",
              "    }\n",
              "\n",
              "    .colab-df-convert {\n",
              "      background-color: #E8F0FE;\n",
              "      border: none;\n",
              "      border-radius: 50%;\n",
              "      cursor: pointer;\n",
              "      display: none;\n",
              "      fill: #1967D2;\n",
              "      height: 32px;\n",
              "      padding: 0 0 0 0;\n",
              "      width: 32px;\n",
              "    }\n",
              "\n",
              "    .colab-df-convert:hover {\n",
              "      background-color: #E2EBFA;\n",
              "      box-shadow: 0px 1px 2px rgba(60, 64, 67, 0.3), 0px 1px 3px 1px rgba(60, 64, 67, 0.15);\n",
              "      fill: #174EA6;\n",
              "    }\n",
              "\n",
              "    [theme=dark] .colab-df-convert {\n",
              "      background-color: #3B4455;\n",
              "      fill: #D2E3FC;\n",
              "    }\n",
              "\n",
              "    [theme=dark] .colab-df-convert:hover {\n",
              "      background-color: #434B5C;\n",
              "      box-shadow: 0px 1px 3px 1px rgba(0, 0, 0, 0.15);\n",
              "      filter: drop-shadow(0px 1px 2px rgba(0, 0, 0, 0.3));\n",
              "      fill: #FFFFFF;\n",
              "    }\n",
              "  </style>\n",
              "\n",
              "      <script>\n",
              "        const buttonEl =\n",
              "          document.querySelector('#df-5bdf10de-9eb8-4bff-88ea-1ec15f734d48 button.colab-df-convert');\n",
              "        buttonEl.style.display =\n",
              "          google.colab.kernel.accessAllowed ? 'block' : 'none';\n",
              "\n",
              "        async function convertToInteractive(key) {\n",
              "          const element = document.querySelector('#df-5bdf10de-9eb8-4bff-88ea-1ec15f734d48');\n",
              "          const dataTable =\n",
              "            await google.colab.kernel.invokeFunction('convertToInteractive',\n",
              "                                                     [key], {});\n",
              "          if (!dataTable) return;\n",
              "\n",
              "          const docLinkHtml = 'Like what you see? Visit the ' +\n",
              "            '<a target=\"_blank\" href=https://colab.research.google.com/notebooks/data_table.ipynb>data table notebook</a>'\n",
              "            + ' to learn more about interactive tables.';\n",
              "          element.innerHTML = '';\n",
              "          dataTable['output_type'] = 'display_data';\n",
              "          await google.colab.output.renderOutput(dataTable, element);\n",
              "          const docLink = document.createElement('div');\n",
              "          docLink.innerHTML = docLinkHtml;\n",
              "          element.appendChild(docLink);\n",
              "        }\n",
              "      </script>\n",
              "    </div>\n",
              "  </div>\n",
              "  "
            ]
          },
          "metadata": {},
          "execution_count": 20
        }
      ]
    },
    {
      "cell_type": "code",
      "source": [
        "#session데이터와 user데이터를 합쳐줌 (아이디가 겹치는 것만)\n",
        "A=user.merge(session,how='inner',left_on='id',right_on='user_id',sort=True)\n",
        "A"
      ],
      "metadata": {
        "colab": {
          "base_uri": "https://localhost:8080/",
          "height": 424
        },
        "id": "_S35cAts4W4z",
        "outputId": "1289dbc3-c4e2-4ebe-ffc8-a15deae48b1b"
      },
      "execution_count": null,
      "outputs": [
        {
          "output_type": "execute_result",
          "data": {
            "text/plain": [
              "               id signup_method  gender   age country_destination  \\\n",
              "0      002qnbzfs5      facebook  FEMALE  26.0                  US   \n",
              "1      0035hobuyj         basic  FEMALE  47.0                  US   \n",
              "2      006t3vhawl         basic  FEMALE  67.0                  US   \n",
              "3      006z8b0uws      facebook    MALE  30.0                  US   \n",
              "4      00bxmflswn         basic  FEMALE  23.0                  FR   \n",
              "...           ...           ...     ...   ...                 ...   \n",
              "15956  zzlo8vf821      facebook  FEMALE  31.0                  US   \n",
              "15957  zzpauwg2r8         basic  FEMALE  45.0                  US   \n",
              "15958  zzq55plahq      facebook    MALE  32.0                  US   \n",
              "15959  zzv8sgicbk         basic    MALE  27.0                  US   \n",
              "15960  zzvr84im58      facebook    MALE  32.0                  US   \n",
              "\n",
              "       gap_booking  secs_elapsed  \n",
              "0              0.0          8232  \n",
              "1              2.0         11730  \n",
              "2              5.0         31362  \n",
              "3              8.0         27018  \n",
              "4              0.0         33398  \n",
              "...            ...           ...  \n",
              "15956          0.0         16524  \n",
              "15957          9.0         47147  \n",
              "15958          1.0         18751  \n",
              "15959          0.0         19295  \n",
              "15960          2.0         15214  \n",
              "\n",
              "[15961 rows x 7 columns]"
            ],
            "text/html": [
              "\n",
              "  <div id=\"df-be1ac7bf-b3ba-437d-95ef-b6bc7ea1d758\">\n",
              "    <div class=\"colab-df-container\">\n",
              "      <div>\n",
              "<style scoped>\n",
              "    .dataframe tbody tr th:only-of-type {\n",
              "        vertical-align: middle;\n",
              "    }\n",
              "\n",
              "    .dataframe tbody tr th {\n",
              "        vertical-align: top;\n",
              "    }\n",
              "\n",
              "    .dataframe thead th {\n",
              "        text-align: right;\n",
              "    }\n",
              "</style>\n",
              "<table border=\"1\" class=\"dataframe\">\n",
              "  <thead>\n",
              "    <tr style=\"text-align: right;\">\n",
              "      <th></th>\n",
              "      <th>id</th>\n",
              "      <th>signup_method</th>\n",
              "      <th>gender</th>\n",
              "      <th>age</th>\n",
              "      <th>country_destination</th>\n",
              "      <th>gap_booking</th>\n",
              "      <th>secs_elapsed</th>\n",
              "    </tr>\n",
              "  </thead>\n",
              "  <tbody>\n",
              "    <tr>\n",
              "      <th>0</th>\n",
              "      <td>002qnbzfs5</td>\n",
              "      <td>facebook</td>\n",
              "      <td>FEMALE</td>\n",
              "      <td>26.0</td>\n",
              "      <td>US</td>\n",
              "      <td>0.0</td>\n",
              "      <td>8232</td>\n",
              "    </tr>\n",
              "    <tr>\n",
              "      <th>1</th>\n",
              "      <td>0035hobuyj</td>\n",
              "      <td>basic</td>\n",
              "      <td>FEMALE</td>\n",
              "      <td>47.0</td>\n",
              "      <td>US</td>\n",
              "      <td>2.0</td>\n",
              "      <td>11730</td>\n",
              "    </tr>\n",
              "    <tr>\n",
              "      <th>2</th>\n",
              "      <td>006t3vhawl</td>\n",
              "      <td>basic</td>\n",
              "      <td>FEMALE</td>\n",
              "      <td>67.0</td>\n",
              "      <td>US</td>\n",
              "      <td>5.0</td>\n",
              "      <td>31362</td>\n",
              "    </tr>\n",
              "    <tr>\n",
              "      <th>3</th>\n",
              "      <td>006z8b0uws</td>\n",
              "      <td>facebook</td>\n",
              "      <td>MALE</td>\n",
              "      <td>30.0</td>\n",
              "      <td>US</td>\n",
              "      <td>8.0</td>\n",
              "      <td>27018</td>\n",
              "    </tr>\n",
              "    <tr>\n",
              "      <th>4</th>\n",
              "      <td>00bxmflswn</td>\n",
              "      <td>basic</td>\n",
              "      <td>FEMALE</td>\n",
              "      <td>23.0</td>\n",
              "      <td>FR</td>\n",
              "      <td>0.0</td>\n",
              "      <td>33398</td>\n",
              "    </tr>\n",
              "    <tr>\n",
              "      <th>...</th>\n",
              "      <td>...</td>\n",
              "      <td>...</td>\n",
              "      <td>...</td>\n",
              "      <td>...</td>\n",
              "      <td>...</td>\n",
              "      <td>...</td>\n",
              "      <td>...</td>\n",
              "    </tr>\n",
              "    <tr>\n",
              "      <th>15956</th>\n",
              "      <td>zzlo8vf821</td>\n",
              "      <td>facebook</td>\n",
              "      <td>FEMALE</td>\n",
              "      <td>31.0</td>\n",
              "      <td>US</td>\n",
              "      <td>0.0</td>\n",
              "      <td>16524</td>\n",
              "    </tr>\n",
              "    <tr>\n",
              "      <th>15957</th>\n",
              "      <td>zzpauwg2r8</td>\n",
              "      <td>basic</td>\n",
              "      <td>FEMALE</td>\n",
              "      <td>45.0</td>\n",
              "      <td>US</td>\n",
              "      <td>9.0</td>\n",
              "      <td>47147</td>\n",
              "    </tr>\n",
              "    <tr>\n",
              "      <th>15958</th>\n",
              "      <td>zzq55plahq</td>\n",
              "      <td>facebook</td>\n",
              "      <td>MALE</td>\n",
              "      <td>32.0</td>\n",
              "      <td>US</td>\n",
              "      <td>1.0</td>\n",
              "      <td>18751</td>\n",
              "    </tr>\n",
              "    <tr>\n",
              "      <th>15959</th>\n",
              "      <td>zzv8sgicbk</td>\n",
              "      <td>basic</td>\n",
              "      <td>MALE</td>\n",
              "      <td>27.0</td>\n",
              "      <td>US</td>\n",
              "      <td>0.0</td>\n",
              "      <td>19295</td>\n",
              "    </tr>\n",
              "    <tr>\n",
              "      <th>15960</th>\n",
              "      <td>zzvr84im58</td>\n",
              "      <td>facebook</td>\n",
              "      <td>MALE</td>\n",
              "      <td>32.0</td>\n",
              "      <td>US</td>\n",
              "      <td>2.0</td>\n",
              "      <td>15214</td>\n",
              "    </tr>\n",
              "  </tbody>\n",
              "</table>\n",
              "<p>15961 rows × 7 columns</p>\n",
              "</div>\n",
              "      <button class=\"colab-df-convert\" onclick=\"convertToInteractive('df-be1ac7bf-b3ba-437d-95ef-b6bc7ea1d758')\"\n",
              "              title=\"Convert this dataframe to an interactive table.\"\n",
              "              style=\"display:none;\">\n",
              "        \n",
              "  <svg xmlns=\"http://www.w3.org/2000/svg\" height=\"24px\"viewBox=\"0 0 24 24\"\n",
              "       width=\"24px\">\n",
              "    <path d=\"M0 0h24v24H0V0z\" fill=\"none\"/>\n",
              "    <path d=\"M18.56 5.44l.94 2.06.94-2.06 2.06-.94-2.06-.94-.94-2.06-.94 2.06-2.06.94zm-11 1L8.5 8.5l.94-2.06 2.06-.94-2.06-.94L8.5 2.5l-.94 2.06-2.06.94zm10 10l.94 2.06.94-2.06 2.06-.94-2.06-.94-.94-2.06-.94 2.06-2.06.94z\"/><path d=\"M17.41 7.96l-1.37-1.37c-.4-.4-.92-.59-1.43-.59-.52 0-1.04.2-1.43.59L10.3 9.45l-7.72 7.72c-.78.78-.78 2.05 0 2.83L4 21.41c.39.39.9.59 1.41.59.51 0 1.02-.2 1.41-.59l7.78-7.78 2.81-2.81c.8-.78.8-2.07 0-2.86zM5.41 20L4 18.59l7.72-7.72 1.47 1.35L5.41 20z\"/>\n",
              "  </svg>\n",
              "      </button>\n",
              "      \n",
              "  <style>\n",
              "    .colab-df-container {\n",
              "      display:flex;\n",
              "      flex-wrap:wrap;\n",
              "      gap: 12px;\n",
              "    }\n",
              "\n",
              "    .colab-df-convert {\n",
              "      background-color: #E8F0FE;\n",
              "      border: none;\n",
              "      border-radius: 50%;\n",
              "      cursor: pointer;\n",
              "      display: none;\n",
              "      fill: #1967D2;\n",
              "      height: 32px;\n",
              "      padding: 0 0 0 0;\n",
              "      width: 32px;\n",
              "    }\n",
              "\n",
              "    .colab-df-convert:hover {\n",
              "      background-color: #E2EBFA;\n",
              "      box-shadow: 0px 1px 2px rgba(60, 64, 67, 0.3), 0px 1px 3px 1px rgba(60, 64, 67, 0.15);\n",
              "      fill: #174EA6;\n",
              "    }\n",
              "\n",
              "    [theme=dark] .colab-df-convert {\n",
              "      background-color: #3B4455;\n",
              "      fill: #D2E3FC;\n",
              "    }\n",
              "\n",
              "    [theme=dark] .colab-df-convert:hover {\n",
              "      background-color: #434B5C;\n",
              "      box-shadow: 0px 1px 3px 1px rgba(0, 0, 0, 0.15);\n",
              "      filter: drop-shadow(0px 1px 2px rgba(0, 0, 0, 0.3));\n",
              "      fill: #FFFFFF;\n",
              "    }\n",
              "  </style>\n",
              "\n",
              "      <script>\n",
              "        const buttonEl =\n",
              "          document.querySelector('#df-be1ac7bf-b3ba-437d-95ef-b6bc7ea1d758 button.colab-df-convert');\n",
              "        buttonEl.style.display =\n",
              "          google.colab.kernel.accessAllowed ? 'block' : 'none';\n",
              "\n",
              "        async function convertToInteractive(key) {\n",
              "          const element = document.querySelector('#df-be1ac7bf-b3ba-437d-95ef-b6bc7ea1d758');\n",
              "          const dataTable =\n",
              "            await google.colab.kernel.invokeFunction('convertToInteractive',\n",
              "                                                     [key], {});\n",
              "          if (!dataTable) return;\n",
              "\n",
              "          const docLinkHtml = 'Like what you see? Visit the ' +\n",
              "            '<a target=\"_blank\" href=https://colab.research.google.com/notebooks/data_table.ipynb>data table notebook</a>'\n",
              "            + ' to learn more about interactive tables.';\n",
              "          element.innerHTML = '';\n",
              "          dataTable['output_type'] = 'display_data';\n",
              "          await google.colab.output.renderOutput(dataTable, element);\n",
              "          const docLink = document.createElement('div');\n",
              "          docLink.innerHTML = docLinkHtml;\n",
              "          element.appendChild(docLink);\n",
              "        }\n",
              "      </script>\n",
              "    </div>\n",
              "  </div>\n",
              "  "
            ]
          },
          "metadata": {},
          "execution_count": 21
        }
      ]
    },
    {
      "cell_type": "code",
      "source": [
        "#독립변수로 사용할 범주형 변수들을 이산형 변수로 바꿔주기 위해서 원핫인코딩을 진행 \n",
        "A=pd.get_dummies(data=A,columns=['gender'])\n",
        "A=pd.get_dummies(data=A,columns=['signup_method'])\n",
        "A=pd.get_dummies(data=A,columns=['country_destination'])"
      ],
      "metadata": {
        "id": "OEaZKttP4_59"
      },
      "execution_count": null,
      "outputs": []
    },
    {
      "cell_type": "code",
      "source": [
        "#target변수도 이산형으로 바꿔줌 \n",
        "A['gap_booking'].mean()\n",
        "A['gap_booking']=np.where(A['gap_booking']>49,1,0)"
      ],
      "metadata": {
        "id": "mCWtarcy5K60"
      },
      "execution_count": null,
      "outputs": []
    },
    {
      "cell_type": "code",
      "source": [
        "#최종A데이터 겹치는 것만 담아서 데이터가 많이 손실됨 총 15\n",
        "A.info()"
      ],
      "metadata": {
        "colab": {
          "base_uri": "https://localhost:8080/"
        },
        "id": "aBKb2Vtf5Uk6",
        "outputId": "80065a6d-9d01-4776-c461-bb52da1fe3f1"
      },
      "execution_count": null,
      "outputs": [
        {
          "output_type": "stream",
          "name": "stdout",
          "text": [
            "<class 'pandas.core.frame.DataFrame'>\n",
            "Int64Index: 15961 entries, 0 to 15960\n",
            "Data columns (total 19 columns):\n",
            " #   Column                  Non-Null Count  Dtype  \n",
            "---  ------                  --------------  -----  \n",
            " 0   id                      15961 non-null  object \n",
            " 1   age                     15961 non-null  float64\n",
            " 2   gap_booking             15961 non-null  int64  \n",
            " 3   secs_elapsed            15961 non-null  int64  \n",
            " 4   gender_FEMALE           15961 non-null  uint8  \n",
            " 5   gender_MALE             15961 non-null  uint8  \n",
            " 6   signup_method_basic     15961 non-null  uint8  \n",
            " 7   signup_method_facebook  15961 non-null  uint8  \n",
            " 8   signup_method_google    15961 non-null  uint8  \n",
            " 9   country_destination_AU  15961 non-null  uint8  \n",
            " 10  country_destination_CA  15961 non-null  uint8  \n",
            " 11  country_destination_DE  15961 non-null  uint8  \n",
            " 12  country_destination_ES  15961 non-null  uint8  \n",
            " 13  country_destination_FR  15961 non-null  uint8  \n",
            " 14  country_destination_GB  15961 non-null  uint8  \n",
            " 15  country_destination_IT  15961 non-null  uint8  \n",
            " 16  country_destination_NL  15961 non-null  uint8  \n",
            " 17  country_destination_PT  15961 non-null  uint8  \n",
            " 18  country_destination_US  15961 non-null  uint8  \n",
            "dtypes: float64(1), int64(2), object(1), uint8(15)\n",
            "memory usage: 857.3+ KB\n"
          ]
        }
      ]
    },
    {
      "cell_type": "markdown",
      "source": [
        "# 데이터 분리 및 스케일링"
      ],
      "metadata": {
        "id": "k-g4bGfJ2n_k"
      }
    },
    {
      "cell_type": "code",
      "source": [
        "x_data=A[['age','gender_FEMALE','gender_MALE','signup_method_basic','signup_method_facebook','signup_method_google',\n",
        "             'country_destination_AU','country_destination_CA','country_destination_DE','country_destination_ES','country_destination_FR','country_destination_GB',\n",
        "             'country_destination_IT','country_destination_NL','country_destination_PT','country_destination_US','secs_elapsed']].to_numpy()\n",
        "y_data=A[['gap_booking']].to_numpy()"
      ],
      "metadata": {
        "id": "JLI9drpA5ilt"
      },
      "execution_count": null,
      "outputs": []
    },
    {
      "cell_type": "code",
      "source": [
        "#train_test_split함수를 통해서 4:1의 비율로 훈련세트와 테스트세트를 나눈다. \n",
        "from sklearn.model_selection import train_test_split\n",
        "train_input,test_input,train_target,test_target=train_test_split(x_data,y_data,test_size=0.2,random_state=42)\n",
        "print(train_input.shape,train_target.shape)\n",
        "print(test_input.shape,test_target.shape)"
      ],
      "metadata": {
        "colab": {
          "base_uri": "https://localhost:8080/"
        },
        "id": "FVhfws0Z5_t_",
        "outputId": "53a295f9-1129-40ff-c6ce-f4dbf1e9d1bb"
      },
      "execution_count": null,
      "outputs": [
        {
          "output_type": "stream",
          "name": "stdout",
          "text": [
            "(12768, 17) (12768, 1)\n",
            "(3193, 17) (3193, 1)\n"
          ]
        }
      ]
    },
    {
      "cell_type": "code",
      "source": [
        "#input 데이터 스케일링 \n",
        "from sklearn.preprocessing import StandardScaler\n",
        "ss=StandardScaler()\n",
        "ss.fit(train_input)\n",
        "train_scaled=ss.transform(train_input)\n",
        "test_scaled=ss.transform(test_input)\n",
        "print(train_scaled.shape,test_scaled.shape)"
      ],
      "metadata": {
        "colab": {
          "base_uri": "https://localhost:8080/"
        },
        "id": "Ew6JhiLK6GGb",
        "outputId": "9cbc3fb1-42c8-459a-f035-dbb222931007"
      },
      "execution_count": null,
      "outputs": [
        {
          "output_type": "stream",
          "name": "stdout",
          "text": [
            "(12768, 17) (3193, 17)\n"
          ]
        }
      ]
    },
    {
      "cell_type": "code",
      "source": [
        "#분류모델에서 정확도가 과도하게 높아지는 것을 막기 위해 오버샘플링 중 SMOTE를 이용한다. \n",
        "#target데이터가 불균형데이터로 예상되기 때문이다. \n",
        "from imblearn.over_sampling import SMOTE\n",
        "\n",
        "smote = SMOTE(random_state=42)\n",
        "train_scaled_over, train_target_over = smote.fit_resample(train_scaled, train_target)\n",
        "print(\"SMOTE 적용 전 학습용 피처/레이블 데이터 세트 : \", train_scaled.shape, train_target.shape)\n",
        "print('SMOTE 적용 후 학습용 피처/레이블 데이터 세트 :', train_scaled_over.shape, train_target_over.shape)"
      ],
      "metadata": {
        "colab": {
          "base_uri": "https://localhost:8080/"
        },
        "id": "6OiHkED86JA7",
        "outputId": "fb4a03b7-2e6d-4139-b59c-c14fadbb762a"
      },
      "execution_count": null,
      "outputs": [
        {
          "output_type": "stream",
          "name": "stdout",
          "text": [
            "SMOTE 적용 전 학습용 피처/레이블 데이터 세트 :  (12768, 17) (12768, 1)\n",
            "SMOTE 적용 후 학습용 피처/레이블 데이터 세트 : (19030, 17) (19030,)\n"
          ]
        }
      ]
    },
    {
      "cell_type": "markdown",
      "source": [
        "# 모델링"
      ],
      "metadata": {
        "id": "DRdnbNFG3Lqo"
      }
    },
    {
      "cell_type": "code",
      "source": [
        "#로지스틱 회귀 \n",
        "from sklearn.linear_model import LogisticRegression\n",
        "logreg = LogisticRegression(random_state=100,C=0.01,solver='liblinear')\n",
        "logreg.fit(train_scaled_over, train_target_over.ravel())\n",
        "pred_log=logreg.predict(test_scaled)\n",
        "from sklearn.metrics import confusion_matrix,accuracy_score,precision_score,recall_score,f1_score\n",
        "\n",
        "\n",
        "test_acc=accuracy_score(test_target.ravel(), pred_log) \n",
        "test_cm=confusion_matrix(test_target.ravel(),pred_log)\n",
        "test_prc=precision_score(test_target.ravel(),pred_log)\n",
        "test_rcll=precision_score(test_target.ravel(),pred_log)\n",
        "test_f1=f1_score(test_target.ravel(),pred_log)\n",
        "\n",
        "print(test_cm)\n",
        "print('\\n')\n",
        "print('정확도:',round(test_acc*100,2))\n",
        "print('정밀도:',round(test_prc*100,2)) \n",
        "print('재현율:',round(test_rcll*100,2))  \n",
        "print('F1:',round(test_f1*100,2)) "
      ],
      "metadata": {
        "colab": {
          "base_uri": "https://localhost:8080/"
        },
        "id": "9PhZotK16LqJ",
        "outputId": "b2ca726f-a7f9-42ab-ff29-c7200961a109"
      },
      "execution_count": null,
      "outputs": [
        {
          "output_type": "stream",
          "name": "stdout",
          "text": [
            "[[1322 1076]\n",
            " [ 342  453]]\n",
            "\n",
            "\n",
            "정확도: 55.59\n",
            "정밀도: 29.63\n",
            "재현율: 29.63\n",
            "F1: 38.98\n"
          ]
        }
      ]
    },
    {
      "cell_type": "code",
      "source": [
        "#랜덤포레스트 \n",
        "from sklearn.ensemble import RandomForestClassifier\n",
        "rfc = RandomForestClassifier(n_estimators=100,min_samples_split=5)\n",
        "rfc.fit(train_scaled_over , train_target_over)\n",
        "pred = rfc.predict(test_scaled)\n",
        "test_acc=accuracy_score(test_target, pred) \n",
        "print(test_acc)"
      ],
      "metadata": {
        "colab": {
          "base_uri": "https://localhost:8080/"
        },
        "id": "bTodeka06cYx",
        "outputId": "51a39fed-f5e2-4032-9d3e-b4dee7c64ec5"
      },
      "execution_count": null,
      "outputs": [
        {
          "output_type": "stream",
          "name": "stdout",
          "text": [
            "0.6038208581271531\n"
          ]
        }
      ]
    },
    {
      "cell_type": "code",
      "source": [
        "#랜덤포레스트 그리드서치 수행 \n",
        "params = { 'n_estimators' : [10, 100],\n",
        "           'max_depth' : [6, 8, 10, 12],\n",
        "           'min_samples_leaf' : [8, 12, 18],\n",
        "           'min_samples_split' : [8, 16, 20]\n",
        "            }\n",
        "from sklearn.model_selection import GridSearchCV\n",
        "gs=GridSearchCV(rfc,params,n_jobs=-1,cv=3)\n",
        "A=gs.fit(train_scaled_over,train_target_over)\n",
        "dt=gs.best_estimator_\n",
        "print(dt.score(train_scaled,train_target))\n",
        "print(dt)"
      ],
      "metadata": {
        "colab": {
          "base_uri": "https://localhost:8080/"
        },
        "id": "qX77KCGR7awy",
        "outputId": "6ccd91cf-4322-4b68-94a7-dec73a474a08"
      },
      "execution_count": null,
      "outputs": [
        {
          "output_type": "stream",
          "name": "stdout",
          "text": [
            "0.6696428571428571\n",
            "RandomForestClassifier(max_depth=12, min_samples_leaf=8, min_samples_split=16)\n"
          ]
        }
      ]
    },
    {
      "cell_type": "code",
      "source": [
        "#XGBoost수행 \n",
        "from xgboost.sklearn import XGBClassifier\n",
        "eval=[(test_scaled,test_target)]\n",
        "xgb = XGBClassifier(max_depth=10, learning_rate=0.03, n_estimators=100,\n",
        "                    objective='binary:logistic', subsample=0.6, colsample_bytree=0.6, seed=40,early_stopping_rounds=100,\n",
        "                    eval_set=eval,verbose=1\n",
        "                    )\n",
        "xgb.fit(train_scaled_over,train_target_over.ravel())\n",
        "pred = xgb.predict(test_scaled) \n",
        "test_acc=accuracy_score(test_target.ravel(), pred) \n",
        "print(test_acc)"
      ],
      "metadata": {
        "colab": {
          "base_uri": "https://localhost:8080/"
        },
        "id": "D1DPrFnw7wSO",
        "outputId": "9fba30a5-88f8-451a-bbf2-cbe219dd4892"
      },
      "execution_count": null,
      "outputs": [
        {
          "output_type": "stream",
          "name": "stdout",
          "text": [
            "0.6348261822737238\n"
          ]
        }
      ]
    },
    {
      "cell_type": "code",
      "source": [
        "#XGBoost그리드 서치 수행 \n",
        "from sklearn.model_selection import GridSearchCV\n",
        "params={'n_estimators':[100, 200, 400,600],'max_depth': [4,6, 8, 10,12],'learning_rate':[0.01,0.03,0.06,0.1]}\n",
        "gs=GridSearchCV(xgb,params,n_jobs=-1,cv=3,scoring='accuracy',verbose=1)\n",
        "gs.fit(train_scaled_over,train_target_over)\n",
        "dt=gs.best_estimator_\n",
        "print(dt.score(train_scaled,train_target))\n",
        "print(dt)\n",
        "print(gs.cv_results_['mean_test_score'])\n",
        "best_index=np.argmax(gs.cv_results_['mean_test_score'])\n"
      ],
      "metadata": {
        "colab": {
          "base_uri": "https://localhost:8080/"
        },
        "id": "UQLKzhm98bdn",
        "outputId": "5a796f84-d272-40d2-dcfe-f03309075934"
      },
      "execution_count": null,
      "outputs": [
        {
          "output_type": "stream",
          "name": "stdout",
          "text": [
            "Fitting 3 folds for each of 80 candidates, totalling 240 fits\n",
            "0.8240914786967418\n",
            "XGBClassifier(colsample_bytree=0.6, early_stopping_rounds=100,\n",
            "              eval_set=[(array([[ 0.34511091,  0.91957606, -0.91957606, ..., -0.05535223,\n",
            "         0.47717115, -0.28338647],\n",
            "       [-0.82526521, -1.08745763,  1.08745763, ..., -0.05535223,\n",
            "         0.47717115, -0.43029089],\n",
            "       [-0.28509162,  0.91957606, -0.91957606, ..., -0.05535223,\n",
            "         0.47717115, -0.35062269],\n",
            "       ...,\n",
            "       [-1.00532307,  0.91957606, -0.91957606, ..., -0.05535223,\n",
            "         0.47717115, -0.53342442],\n",
            "       [-0.28509162,  0.91957606, -0.91957606, ..., -0.05535223,\n",
            "         0.47717115, -0.31061593],\n",
            "       [-0.10503375, -1.08745763,  1.08745763, ..., -0.05535223,\n",
            "         0.47717115, -0.28127994]]),\n",
            "                         array([[0],\n",
            "       [0],\n",
            "       [0],\n",
            "       ...,\n",
            "       [0],\n",
            "       [1],\n",
            "       [0]]))],\n",
            "              learning_rate=0.03, max_depth=12, n_estimators=600, seed=40,\n",
            "              subsample=0.6, verbose=1)\n",
            "[0.59653259 0.60205022 0.60882939 0.62060101 0.61045845 0.61865646\n",
            " 0.63499971 0.65023974 0.62716959 0.64183132 0.65670344 0.66989369\n",
            " 0.64445881 0.66169556 0.67215322 0.67793389 0.65796451 0.67136509\n",
            " 0.67882704 0.68145474 0.60457268 0.62086364 0.64340834 0.65528499\n",
            " 0.62533054 0.64939907 0.66411358 0.67152326 0.64813751 0.66642531\n",
            " 0.6761475  0.67987861 0.66589949 0.67693554 0.68108711 0.68129748\n",
            " 0.67036644 0.67877465 0.67888015 0.68297877 0.61986541 0.64388156\n",
            " 0.6605928  0.66511237 0.64903116 0.66590021 0.67136586 0.67394089\n",
            " 0.66206368 0.67336238 0.67562234 0.67767166 0.67183815 0.67772417\n",
            " 0.6788802  0.67856486 0.67730325 0.6784071  0.67378285 0.67730327\n",
            " 0.633371   0.65465449 0.66779273 0.67042032 0.65801746 0.66831775\n",
            " 0.6721543  0.67199641 0.66931579 0.67604268 0.67530682 0.67625249\n",
            " 0.67336204 0.67530673 0.67662039 0.67467581 0.67619995 0.6768306\n",
            " 0.67725055 0.67593662]\n"
          ]
        }
      ]
    },
    {
      "cell_type": "code",
      "source": [
        "#실제값과 예측값 비교\n",
        "for i in range(10):\n",
        "  print('real:',test_target[i],'[predict:',pred[i])"
      ],
      "metadata": {
        "colab": {
          "base_uri": "https://localhost:8080/"
        },
        "id": "DVUfFINJtygv",
        "outputId": "e1c3e0ed-93a3-4b26-ec90-9b6d901f3df9"
      },
      "execution_count": null,
      "outputs": [
        {
          "output_type": "stream",
          "name": "stdout",
          "text": [
            "real: [0] [predict: 1\n",
            "real: [0] [predict: 1\n",
            "real: [0] [predict: 0\n",
            "real: [0] [predict: 0\n",
            "real: [0] [predict: 1\n",
            "real: [0] [predict: 1\n",
            "real: [1] [predict: 1\n",
            "real: [0] [predict: 0\n",
            "real: [0] [predict: 0\n",
            "real: [1] [predict: 1\n"
          ]
        }
      ]
    },
    {
      "cell_type": "code",
      "source": [
        "#변수 중요도 확인 \n",
        "from xgboost import plot_importance\n",
        "from matplotlib import pyplot\n",
        "plot_importance(xgb)\n",
        "pyplot.show()\n",
        "#f16은 US\n",
        "#f10은 IT\n",
        "#f1은 age\n",
        "#f3은 gendermale"
      ],
      "metadata": {
        "colab": {
          "base_uri": "https://localhost:8080/",
          "height": 295
        },
        "id": "yhJdRsFS52c2",
        "outputId": "6f8351a3-1d57-4ba2-a111-0de1b169c4b2"
      },
      "execution_count": null,
      "outputs": [
        {
          "output_type": "display_data",
          "data": {
            "text/plain": [
              "<Figure size 432x288 with 1 Axes>"
            ],
            "image/png": "[encoded data removed]"
          },
          "metadata": {
            "needs_background": "light"
          }
        }
      ]
    },
    {
      "cell_type": "code",
      "source": [
        "import matplotlib.pyplot as plt\n",
        "\n",
        "\n",
        "\n",
        "fig = plt.figure( figsize = (12, 4) )\n",
        "chart = fig.add_subplot(1,1,1)\n",
        "chart.plot(test_target[:100], marker='o', color='blue', label='real')\n",
        "chart.plot(pred[:100], marker='^', color='red', label='predict')\n",
        "chart.set_title('real vs predict')\n",
        "plt.xlabel('index')\n",
        "plt.ylabel('real vs predict')\n",
        "plt.legend(loc = 'best') "
      ],
      "metadata": {
        "colab": {
          "base_uri": "https://localhost:8080/",
          "height": 313
        },
        "id": "GTw7VxTOYYMd",
        "outputId": "5e3e0f72-b28d-4ab7-c8c5-ffd7d47f8af0"
      },
      "execution_count": null,
      "outputs": [
        {
          "output_type": "execute_result",
          "data": {
            "text/plain": [
              "<matplotlib.legend.Legend at 0x7fef3a303490>"
            ]
          },
          "metadata": {},
          "execution_count": 36
        },
        {
          "output_type": "display_data",
          "data": {
            "text/plain": [
              "<Figure size 864x288 with 1 Axes>"
            ],
            "image/png": "[encoded data removed]"
          },
          "metadata": {
            "needs_background": "light"
          }
        }
      ]
    }
  ]
}