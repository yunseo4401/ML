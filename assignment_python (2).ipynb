{
  "nbformat": 4,
  "nbformat_minor": 0,
  "metadata": {
    "colab": {
      "provenance": [],
      "collapsed_sections": []
    },
    "kernelspec": {
      "name": "python3",
      "display_name": "Python 3"
    },
    "language_info": {
      "name": "python"
    }
  },
  "cells": [
    {
      "cell_type": "markdown",
      "source": [
        "# 1번 문제\n",
        "\n",
        "예상 출력결과: \n",
        "\n",
        "139771300307664 (주소 값은 환경마다 다르기 때문에 값이 같지 않아도 됩니다.)"
      ],
      "metadata": {
        "id": "P25GXqBdw8co"
      }
    },
    {
      "cell_type": "code",
      "execution_count": null,
      "metadata": {
        "colab": {
          "base_uri": "https://localhost:8080/"
        },
        "id": "a5pTiqfJY7Vc",
        "outputId": "cc98370c-cea1-425d-b219-b2004d215457"
      },
      "outputs": [
        {
          "output_type": "stream",
          "name": "stdout",
          "text": [
            "140003620333872\n"
          ]
        }
      ],
      "source": [
        "# apple 변수의 주소 값을 출력해보기 (hint: id()를 사용해보기)\n",
        "apple = \"사과\"\n",
        "print()"
      ]
    },
    {
      "cell_type": "markdown",
      "source": [
        "# 2번 문제\n",
        "예상 출력결과:\n",
        "\n",
        "3\n",
        "\n",
        "1\n",
        "\n",
        "6\n",
        "\n",
        "2.0\n"
      ],
      "metadata": {
        "id": "a0rUSrJMxK9q"
      }
    },
    {
      "cell_type": "code",
      "source": [
        "number_1, number_2, number_3, number_4 = 1, 2, 3, 4\n",
        "\n",
        "# number_1와 number_2 더하기 결과 출력하기\n",
        "print()\n",
        "\n",
        "# number_4에서 number_3 빼기 결과 출력하기\n",
        "print()\n",
        "\n",
        "# number_2와 number_3 곱하기 결과 출력하기\n",
        "print()\n",
        "\n",
        "# number_4를 number_2로 나누기 결과 출력하기\n",
        "print() "
      ],
      "metadata": {
        "colab": {
          "base_uri": "https://localhost:8080/"
        },
        "id": "UpWU4yiHZMvL",
        "outputId": "8f780226-bb4e-45d7-f765-f075cd264359"
      },
      "execution_count": null,
      "outputs": [
        {
          "output_type": "stream",
          "name": "stdout",
          "text": [
            "3\n",
            "1\n",
            "6\n",
            "2.0\n"
          ]
        }
      ]
    },
    {
      "cell_type": "markdown",
      "source": [
        "# 3번 문제\n",
        "예상 출력결과:\n",
        "\n",
        "Life\n",
        "\n",
        "python\n"
      ],
      "metadata": {
        "id": "HFYFHDwbxYbD"
      }
    },
    {
      "cell_type": "code",
      "source": [
        "sentence = \"Life is short, you need python\"\n",
        "\n",
        "# 슬라이싱을 통해서 Life만 word_1에 할당하기\n",
        "word_1 = \n",
        "print(word_1)\n",
        "# 슬라이싱을 통해서 python만 word_2에 할당하기\n",
        "word_2 = \n",
        "print(word_2)\n",
        "\n"
      ],
      "metadata": {
        "colab": {
          "base_uri": "https://localhost:8080/"
        },
        "id": "59scgn_Oblo9",
        "outputId": "069f7279-0e8e-4f63-f52c-6168df9e0500"
      },
      "execution_count": null,
      "outputs": [
        {
          "output_type": "stream",
          "name": "stdout",
          "text": [
            "Life\n",
            "python\n"
          ]
        }
      ]
    },
    {
      "cell_type": "markdown",
      "source": [
        "# 4번 문제\n",
        "예상 출력결과:\n",
        "\n",
        "1234 혹은 46\n"
      ],
      "metadata": {
        "id": "9VCfcf_GxcwM"
      }
    },
    {
      "cell_type": "code",
      "source": [
        "'''\n",
        "다음 아래의 code를 실행하면 아래와 같은 오류가 발생합니다.\n",
        "TypeError: unsupported operand type(s) for +: 'int' and 'str'\n",
        "에러가 안생기도록 데이터 타입을 변형해 주세요.\n",
        "'''\n",
        "\n",
        "try:\n",
        "  print(12 + \"34\")\n",
        "except Exception as e:\n",
        "  print(\"----아래와 같은 에러가 발생했습니다. 데이터 타입 변형을 해주세요.----\")\n",
        "  print(e)"
      ],
      "metadata": {
        "colab": {
          "base_uri": "https://localhost:8080/"
        },
        "id": "CCcn9aSPdvvM",
        "outputId": "20041a27-2ef9-4921-b388-fc12e33904b6"
      },
      "execution_count": null,
      "outputs": [
        {
          "output_type": "stream",
          "name": "stdout",
          "text": [
            "----아래와 같은 에러가 발생했습니다. 데이터 타입 변형을 해주세요.----\n",
            "unsupported operand type(s) for +: 'int' and 'str'\n"
          ]
        }
      ]
    },
    {
      "cell_type": "markdown",
      "source": [
        "# 5번 문제\n",
        "예상 출력결과: \n",
        "\n",
        "1 는 홀수입니다.\n",
        "\n",
        "2 는 짝수입니다.\n",
        "\n",
        "3 는 홀수입니다.\n",
        "\n",
        "4 는 짝수입니다.\n",
        "\n",
        "5 는 홀수입니다.\n",
        "\n",
        "6 는 짝수입니다.\n",
        "\n",
        "7 는 홀수입니다.\n",
        "\n",
        "8 는 짝수입니다.\n",
        "\n",
        "9 는 홀수입니다.\n",
        "\n",
        "10 는 짝수입니다."
      ],
      "metadata": {
        "id": "a9vAt9bHyCcY"
      }
    },
    {
      "cell_type": "code",
      "source": [
        "x = [1, 2, 3, 4, 5, 6, 7, 8, 9, 10]\n",
        "\n",
        "for i in x:\n",
        "  # 조건식 채우기\n",
        "  if :\n",
        "    print(i, \"는 짝수입니다.\")\n",
        "  else:\n",
        "    print(i,\"는 홀수입니다.\")"
      ],
      "metadata": {
        "id": "OkIRBGwUeFM-",
        "colab": {
          "base_uri": "https://localhost:8080/"
        },
        "outputId": "63e260af-ebf4-4fba-9af7-60668c0c7876"
      },
      "execution_count": null,
      "outputs": [
        {
          "output_type": "stream",
          "name": "stdout",
          "text": [
            "1 는 홀수입니다.\n",
            "2 는 짝수입니다.\n",
            "3 는 홀수입니다.\n",
            "4 는 짝수입니다.\n",
            "5 는 홀수입니다.\n",
            "6 는 짝수입니다.\n",
            "7 는 홀수입니다.\n",
            "8 는 짝수입니다.\n",
            "9 는 홀수입니다.\n",
            "10 는 짝수입니다.\n"
          ]
        }
      ]
    },
    {
      "cell_type": "code",
      "source": [
        "x = [1, 2, 3, 4, 5, 6, 7, 8, 9, 10]\n",
        "\n",
        "index = 0\n",
        "\n",
        "while index < 10 :\n",
        "  # 조건식 채우기\n",
        "  if :\n",
        "    print(x[index], \"는 짝수입니다.\")\n",
        "  else:\n",
        "    print(x[index], \"는 홀수입니다.\")\n",
        "  index += 1"
      ],
      "metadata": {
        "colab": {
          "base_uri": "https://localhost:8080/"
        },
        "id": "oMpLTTBUy5dj",
        "outputId": "ab249364-d351-4993-b017-a38a2b4db111"
      },
      "execution_count": null,
      "outputs": [
        {
          "output_type": "stream",
          "name": "stdout",
          "text": [
            "1 는 홀수입니다.\n",
            "2 는 짝수입니다.\n",
            "3 는 홀수입니다.\n",
            "4 는 짝수입니다.\n",
            "5 는 홀수입니다.\n",
            "6 는 짝수입니다.\n",
            "7 는 홀수입니다.\n",
            "8 는 짝수입니다.\n",
            "9 는 홀수입니다.\n",
            "10 는 짝수입니다.\n"
          ]
        }
      ]
    },
    {
      "cell_type": "markdown",
      "source": [
        "# 6번 문제\n",
        "\n",
        "두 파라미터의 더하기 값을 return 하는 addition 함수를 완성하세요.\n",
        "\n",
        "예상 출력결과:\n",
        "100"
      ],
      "metadata": {
        "id": "n3x8IwEG3MkI"
      }
    },
    {
      "cell_type": "code",
      "source": [
        "# 매개변수로 받고 더하기 함수를 완성 후, return하기\n",
        "def addition():\n",
        "  \n",
        "\n",
        "  return result\n",
        "\n",
        "number_1 = 86\n",
        "number_2 = 14\n",
        "\n",
        "result = addition(number_1, number_2)\n",
        "print(result)"
      ],
      "metadata": {
        "id": "dXPdug_O8BiR",
        "colab": {
          "base_uri": "https://localhost:8080/"
        },
        "outputId": "9abb9c46-3091-4cd1-81bd-fa6aa2cae249"
      },
      "execution_count": null,
      "outputs": [
        {
          "output_type": "stream",
          "name": "stdout",
          "text": [
            "100\n"
          ]
        }
      ]
    },
    {
      "cell_type": "markdown",
      "source": [
        "# 7번 문제\n",
        "\n",
        "예상출력 결과:\n",
        "matrix_np 형태:  \n",
        "(3, 2)\n",
        "\n",
        "matrix_np의 전치행렬:  \n",
        "[[1 3 5]\n",
        "\n",
        " [2 4 6]]\n",
        " \n",
        "행렬 곱 결과:\n",
        "\n",
        "[[35 44]\n",
        "\n",
        " [44 56]]\n",
        "\n",
        "result의 대각행렬: \n",
        "\n",
        " [35 56]"
      ],
      "metadata": {
        "id": "wkNZryG43kmo"
      }
    },
    {
      "cell_type": "code",
      "source": [
        "import numpy as np\n",
        "\n",
        "matrix_np = np.array([\n",
        "    [1, 2],\n",
        "    [3, 4],\n",
        "    [5, 6]\n",
        "])\n",
        "\n",
        "# matrix_np의 형태 출력 해보기\n",
        "print(\"matrix_np 형태: \", )\n",
        "\n",
        "# matrix_np를 전치(transpose) 해보기 (hint: T or transpose())\n",
        "matrix_tp_np = matrix_np.T\n",
        "print(\"matrix_np의 전치행렬: \", )\n",
        "\n",
        "# matrix_tp_np와 matrix_np를 행렬 곱 해보기 (hint: @, 출력은 2x2 행렬)\n",
        "result = \n",
        "print(\"행렬 곱 결과:\", result)\n",
        "\n",
        "# result의 결과에서 대각행렬 구하기\n",
        "print(\"result의 대각행렬: \", )"
      ],
      "metadata": {
        "colab": {
          "base_uri": "https://localhost:8080/"
        },
        "id": "b2ncvEOI5Li2",
        "outputId": "9725a82e-193e-40c8-fac6-2fe9f48dd2df"
      },
      "execution_count": null,
      "outputs": [
        {
          "output_type": "stream",
          "name": "stdout",
          "text": [
            "matrix_np 형태:  (3, 2)\n",
            "matrix_np의 전치행렬:  [[1 3 5]\n",
            " [2 4 6]]\n",
            "행렬 곱 결과: [[35 44]\n",
            " [44 56]]\n",
            "result의 대각행렬:  [35 56]\n"
          ]
        }
      ]
    },
    {
      "cell_type": "markdown",
      "source": [
        "# 8번 문제\n",
        "예상출력 결과:\n",
        "\n",
        "1차원 벡터:  [1 2 3 4 5 6]\n",
        "\n",
        "(2, 3) 형태의 행렬:  \n",
        "[[1 2 3]\n",
        "\n",
        " [4 5 6]]"
      ],
      "metadata": {
        "id": "X2z2q-n3RaYb"
      }
    },
    {
      "cell_type": "code",
      "source": [
        "import numpy as np\n",
        "\n",
        "matrix_np = np.array([\n",
        "    [1, 2],\n",
        "    [3, 4],\n",
        "    [5, 6]\n",
        "])\n",
        "\n",
        "# matrix_np를 1차원 벡터로 만들기\n",
        "print(\"1차원 벡터: \", )\n",
        "\n",
        "# matrix_np를 (2, 3) 형태의 행렬로 만들기 (전치행렬은 제외)\n",
        "print(\"(2, 3) 형태의 행렬: \", )"
      ],
      "metadata": {
        "colab": {
          "base_uri": "https://localhost:8080/"
        },
        "id": "AR_Y8zpBFcrE",
        "outputId": "18821414-a2f3-4178-ce8b-fb2f667f3d1d"
      },
      "execution_count": null,
      "outputs": [
        {
          "output_type": "stream",
          "name": "stdout",
          "text": [
            "1차원 벡터:  [1 2 3 4 5 6]\n",
            "(2, 3) 형태의 행렬:  [[1 2 3]\n",
            " [4 5 6]]\n"
          ]
        }
      ]
    }
  ]
}