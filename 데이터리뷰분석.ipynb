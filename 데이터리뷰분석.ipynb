{
  "nbformat": 4,
  "nbformat_minor": 0,
  "metadata": {
    "colab": {
      "provenance": [],
      "mount_file_id": "1p0taNBKwocjD7Ey-l9592RXg6iEtjCdx",
      "authorship_tag": "ABX9TyPoGPKmHim0ZRckYiIgyGR/",
      "include_colab_link": true
    },
    "kernelspec": {
      "name": "python3",
      "display_name": "Python 3"
    },
    "language_info": {
      "name": "python"
    }
  },
  "cells": [
    {
      "cell_type": "markdown",
      "metadata": {
        "id": "view-in-github",
        "colab_type": "text"
      },
      "source": [
        "<a href=\"https://colab.research.google.com/github/yunseo4401/start/blob/master/%EB%8D%B0%EC%9D%B4%ED%84%B0%EB%A6%AC%EB%B7%B0%EB%B6%84%EC%84%9D.ipynb\" target=\"_parent\"><img src=\"https://colab.research.google.com/assets/colab-badge.svg\" alt=\"Open In Colab\"/></a>"
      ]
    },
    {
      "cell_type": "code",
      "execution_count": null,
      "metadata": {
        "colab": {
          "base_uri": "https://localhost:8080/"
        },
        "id": "2KDzBqgI4sLF",
        "outputId": "fd39c954-b538-4df7-8945-9700be3beffc"
      },
      "outputs": [
        {
          "output_type": "stream",
          "name": "stdout",
          "text": [
            "Looking in indexes: https://pypi.org/simple, https://us-python.pkg.dev/colab-wheels/public/simple/\n",
            "Collecting google-play-scraper\n",
            "  Downloading google_play_scraper-1.2.2-py3-none-any.whl (28 kB)\n",
            "Installing collected packages: google-play-scraper\n",
            "Successfully installed google-play-scraper-1.2.2\n"
          ]
        }
      ],
      "source": [
        "! pip install google-play-scraper"
      ]
    },
    {
      "cell_type": "code",
      "source": [
        "from google_play_scraper import Sort,reviews_all\n",
        "raw_data=reviews_all('com.dxx.firenow',\n",
        "lang='en',\n",
        "country='Us',\n",
        "sort=Sort.MOST_RELEVANT, \n",
        ")\n",
        "from pprint import pprint\n",
        "pprint(raw_data[:5])"
      ],
      "metadata": {
        "id": "0nMkVzGc7x3V",
        "colab": {
          "base_uri": "https://localhost:8080/"
        },
        "outputId": "74456605-2d53-4740-a588-03934df7a8b9"
      },
      "execution_count": null,
      "outputs": [
        {
          "output_type": "stream",
          "name": "stdout",
          "text": [
            "[{'at': datetime.datetime(2022, 10, 4, 0, 40, 2),\n",
            "  'content': 'Fun game, but lots of repetition and click rewards... I paid to '\n",
            "             \"have ads removed so my experience may be different. So far it's \"\n",
            "             'been a fun game, at least day 7 in a row for me. Logging in and '\n",
            "             'spending 15 minutes absolutely wailing on zombies is a lot of '\n",
            "             \"fun. I like trying new builds and items as they're unlocked. It \"\n",
            "             \"can be a challenge if you don't get the items you are used to \"\n",
            "             'running.',\n",
            "  'repliedAt': None,\n",
            "  'replyContent': None,\n",
            "  'reviewCreatedVersion': '1.5.3',\n",
            "  'reviewId': 'bd4a46ef-c19f-424e-a95e-64001193c9e0',\n",
            "  'score': 4,\n",
            "  'thumbsUpCount': 217,\n",
            "  'userImage': 'https://play-lh.googleusercontent.com/a/ALm5wu3HODE6oyQXku7YXZv5vTXZYuXbFvWszwea3C4=mo',\n",
            "  'userName': 'joshua mckay'},\n",
            " {'at': datetime.datetime(2022, 9, 29, 1, 49, 21),\n",
            "  'content': 'Great game, I really enjoy it and it is a great time killer. I '\n",
            "             'love the new technology you can unlock and I appreciate all the '\n",
            "             'daily rewards. However there are a few problems. No parts of the '\n",
            "             \"game is online so I don't understand why I would need an \"\n",
            "             'internet connection to do most things, (although adding a '\n",
            "             'multiplayer game mode would be awesome.) And I feel the game '\n",
            "             'needs extra of just everything, a few more enemies, weapons, and '\n",
            "             \"bosses would be nice to see. Other than that it's a super fun \"\n",
            "             'game!',\n",
            "  'repliedAt': None,\n",
            "  'replyContent': None,\n",
            "  'reviewCreatedVersion': '1.5.3',\n",
            "  'reviewId': 'eca8281b-e890-40f3-abd4-c320a98114fe',\n",
            "  'score': 4,\n",
            "  'thumbsUpCount': 344,\n",
            "  'userImage': 'https://play-lh.googleusercontent.com/a-/ACNPEu9Gflwa5kFO_EnsE80nEgZCYBud6sqxInyt-3dn-A',\n",
            "  'userName': 'Dylan (ToastyTitan105)'},\n",
            " {'at': datetime.datetime(2022, 10, 7, 23, 55, 56),\n",
            "  'content': \"Super addicted and I'm not even sure why. The challenge is \"\n",
            "             \"perfect, it's very much the same everytime, but since you only \"\n",
            "             'have so many slots, it makes for a different game each time. I '\n",
            "             \"would like a speedup button so I didn't have to play the full 15 \"\n",
            "             'minutes through, but being able to stop and come back without '\n",
            "             'losing progress is really nice. Slow progression to merge gear, '\n",
            "             \"but I'm F2P so that's not unexpected. Only ads are to gain \"\n",
            "             \"rewards, so that's a plus too.\",\n",
            "  'repliedAt': None,\n",
            "  'replyContent': None,\n",
            "  'reviewCreatedVersion': '1.5.3',\n",
            "  'reviewId': 'b4df37dc-bd18-4053-a766-3f1a06e55301',\n",
            "  'score': 5,\n",
            "  'thumbsUpCount': 103,\n",
            "  'userImage': 'https://play-lh.googleusercontent.com/a-/ACNPEu_2gHMym22guS7Y8kz-0PsrmT17zW7zZW2IIFJnIv0',\n",
            "  'userName': 'Joe Benforte'},\n",
            " {'at': datetime.datetime(2022, 10, 8, 2, 8, 48),\n",
            "  'content': 'Fun game. I do have an issue with the game crashing when trying '\n",
            "             'to open the game after a recent session. The only workaround I '\n",
            "             'found was having to force stop and clear the cache. Other than '\n",
            "             \"that it's a fun game and practically has no ads apart from the \"\n",
            "             'usual \"watch ad; get free coins/gems/keys etc. If there\\'s ever '\n",
            "             \"a fix for the issue I have. I'll definitely change it to 5*\",\n",
            "  'repliedAt': None,\n",
            "  'replyContent': None,\n",
            "  'reviewCreatedVersion': '1.5.3',\n",
            "  'reviewId': 'ef0ee7ec-f2f9-4182-ad41-1848ccd8bc07',\n",
            "  'score': 4,\n",
            "  'thumbsUpCount': 1,\n",
            "  'userImage': 'https://play-lh.googleusercontent.com/a/ALm5wu2WwApQY-L57AP5HmOMQGp-_YGVcAWN8MGZe1S6=mo',\n",
            "  'userName': 'IsItSheen'},\n",
            " {'at': datetime.datetime(2022, 10, 2, 5, 55, 3),\n",
            "  'content': 'I am addicted, the gameplay is super fun and engaging the '\n",
            "             'progression system is amazing, I never feel completely stuck '\n",
            "             'where I have to grind to proceed but also face challenges to '\n",
            "             'move forward. I am amazed by the lack of ads, usually when I '\n",
            "             \"find a fun app it's so bogged down with ads that I can only \"\n",
            "             'tolerate it for so long. This is one of the best mobile apps I '\n",
            "             'have played in a long long time. Great work!',\n",
            "  'repliedAt': None,\n",
            "  'replyContent': None,\n",
            "  'reviewCreatedVersion': '1.5.3',\n",
            "  'reviewId': 'be687851-bc1c-475c-af2d-6c25608ccb7b',\n",
            "  'score': 5,\n",
            "  'thumbsUpCount': 128,\n",
            "  'userImage': 'https://play-lh.googleusercontent.com/a-/ACNPEu9L8lCT22twCnWAbuY-y83PrMPDg7YAqOxWbuAJAg',\n",
            "  'userName': 'gharr27'}]\n"
          ]
        }
      ]
    },
    {
      "cell_type": "code",
      "source": [
        "import csv\n",
        "data_li=[(info['content'],info['score'],info['thumbsUpCount'],info['at']) for info in raw_data]"
      ],
      "metadata": {
        "id": "urqV1G3g74K2"
      },
      "execution_count": null,
      "outputs": []
    },
    {
      "cell_type": "code",
      "source": [
        "with open(\"/content/drive/MyDrive/Untitled0.csv\", 'wt', encoding='utf-8', newline='') as file:\n",
        "        csv_writer = csv.writer(file)\n",
        "        csv_writer.writerow([\"contents\", \"star\", \"agree\", \"date\"])\n",
        "\n",
        "        for data in data_li:\n",
        "            csv_writer.writerow(data)"
      ],
      "metadata": {
        "id": "2xpfDvVk9kTr"
      },
      "execution_count": null,
      "outputs": []
    },
    {
      "cell_type": "code",
      "source": [
        "import pandas as pd\n",
        "\n",
        "review_df = pd.read_csv(\"/content/drive/MyDrive/Untitled0.csv\")\n",
        "review_df"
      ],
      "metadata": {
        "id": "LFo6U7RA-BaI",
        "outputId": "a7a9af02-67c8-444a-f25d-c6ab041fbde9",
        "colab": {
          "base_uri": "https://localhost:8080/",
          "height": 424
        }
      },
      "execution_count": null,
      "outputs": [
        {
          "output_type": "execute_result",
          "data": {
            "text/plain": [
              "                                                contents  star  agree  \\\n",
              "0      Fun game, but lots of repetition and click rew...     4    217   \n",
              "1      Great game, I really enjoy it and it is a grea...     4    344   \n",
              "2      Super addicted and I'm not even sure why. The ...     5    103   \n",
              "3      Fun game. I do have an issue with the game cra...     4      1   \n",
              "4      I am addicted, the gameplay is super fun and e...     5    128   \n",
              "...                                                  ...   ...    ...   \n",
              "26013                                                Wow     4      0   \n",
              "26014                                         Grind game     3      0   \n",
              "26015                                             🥰🥰🥰🥰🥰🥰     5      0   \n",
              "26016                                    🥶🥶🥶🥶🥶🥶🥶🥶🥶🥶🥶🥶🥶🥶🥶     5      0   \n",
              "26017                                    😂 😂 😂 😂 😂 😂 😂 😂     5      0   \n",
              "\n",
              "                      date  \n",
              "0      2022-10-04 00:40:02  \n",
              "1      2022-09-29 01:49:21  \n",
              "2      2022-10-07 23:55:56  \n",
              "3      2022-10-08 02:08:48  \n",
              "4      2022-10-02 05:55:03  \n",
              "...                    ...  \n",
              "26013  2022-10-12 15:18:34  \n",
              "26014  2022-10-12 10:00:02  \n",
              "26015  2022-10-10 15:15:47  \n",
              "26016  2022-10-02 09:02:48  \n",
              "26017  2022-10-11 21:10:02  \n",
              "\n",
              "[26018 rows x 4 columns]"
            ],
            "text/html": [
              "\n",
              "  <div id=\"df-7207b42f-7c8b-4c07-b03f-e6b2ea78fe3a\">\n",
              "    <div class=\"colab-df-container\">\n",
              "      <div>\n",
              "<style scoped>\n",
              "    .dataframe tbody tr th:only-of-type {\n",
              "        vertical-align: middle;\n",
              "    }\n",
              "\n",
              "    .dataframe tbody tr th {\n",
              "        vertical-align: top;\n",
              "    }\n",
              "\n",
              "    .dataframe thead th {\n",
              "        text-align: right;\n",
              "    }\n",
              "</style>\n",
              "<table border=\"1\" class=\"dataframe\">\n",
              "  <thead>\n",
              "    <tr style=\"text-align: right;\">\n",
              "      <th></th>\n",
              "      <th>contents</th>\n",
              "      <th>star</th>\n",
              "      <th>agree</th>\n",
              "      <th>date</th>\n",
              "    </tr>\n",
              "  </thead>\n",
              "  <tbody>\n",
              "    <tr>\n",
              "      <th>0</th>\n",
              "      <td>Fun game, but lots of repetition and click rew...</td>\n",
              "      <td>4</td>\n",
              "      <td>217</td>\n",
              "      <td>2022-10-04 00:40:02</td>\n",
              "    </tr>\n",
              "    <tr>\n",
              "      <th>1</th>\n",
              "      <td>Great game, I really enjoy it and it is a grea...</td>\n",
              "      <td>4</td>\n",
              "      <td>344</td>\n",
              "      <td>2022-09-29 01:49:21</td>\n",
              "    </tr>\n",
              "    <tr>\n",
              "      <th>2</th>\n",
              "      <td>Super addicted and I'm not even sure why. The ...</td>\n",
              "      <td>5</td>\n",
              "      <td>103</td>\n",
              "      <td>2022-10-07 23:55:56</td>\n",
              "    </tr>\n",
              "    <tr>\n",
              "      <th>3</th>\n",
              "      <td>Fun game. I do have an issue with the game cra...</td>\n",
              "      <td>4</td>\n",
              "      <td>1</td>\n",
              "      <td>2022-10-08 02:08:48</td>\n",
              "    </tr>\n",
              "    <tr>\n",
              "      <th>4</th>\n",
              "      <td>I am addicted, the gameplay is super fun and e...</td>\n",
              "      <td>5</td>\n",
              "      <td>128</td>\n",
              "      <td>2022-10-02 05:55:03</td>\n",
              "    </tr>\n",
              "    <tr>\n",
              "      <th>...</th>\n",
              "      <td>...</td>\n",
              "      <td>...</td>\n",
              "      <td>...</td>\n",
              "      <td>...</td>\n",
              "    </tr>\n",
              "    <tr>\n",
              "      <th>26013</th>\n",
              "      <td>Wow</td>\n",
              "      <td>4</td>\n",
              "      <td>0</td>\n",
              "      <td>2022-10-12 15:18:34</td>\n",
              "    </tr>\n",
              "    <tr>\n",
              "      <th>26014</th>\n",
              "      <td>Grind game</td>\n",
              "      <td>3</td>\n",
              "      <td>0</td>\n",
              "      <td>2022-10-12 10:00:02</td>\n",
              "    </tr>\n",
              "    <tr>\n",
              "      <th>26015</th>\n",
              "      <td>🥰🥰🥰🥰🥰🥰</td>\n",
              "      <td>5</td>\n",
              "      <td>0</td>\n",
              "      <td>2022-10-10 15:15:47</td>\n",
              "    </tr>\n",
              "    <tr>\n",
              "      <th>26016</th>\n",
              "      <td>🥶🥶🥶🥶🥶🥶🥶🥶🥶🥶🥶🥶🥶🥶🥶</td>\n",
              "      <td>5</td>\n",
              "      <td>0</td>\n",
              "      <td>2022-10-02 09:02:48</td>\n",
              "    </tr>\n",
              "    <tr>\n",
              "      <th>26017</th>\n",
              "      <td>😂 😂 😂 😂 😂 😂 😂 😂</td>\n",
              "      <td>5</td>\n",
              "      <td>0</td>\n",
              "      <td>2022-10-11 21:10:02</td>\n",
              "    </tr>\n",
              "  </tbody>\n",
              "</table>\n",
              "<p>26018 rows × 4 columns</p>\n",
              "</div>\n",
              "      <button class=\"colab-df-convert\" onclick=\"convertToInteractive('df-7207b42f-7c8b-4c07-b03f-e6b2ea78fe3a')\"\n",
              "              title=\"Convert this dataframe to an interactive table.\"\n",
              "              style=\"display:none;\">\n",
              "        \n",
              "  <svg xmlns=\"http://www.w3.org/2000/svg\" height=\"24px\"viewBox=\"0 0 24 24\"\n",
              "       width=\"24px\">\n",
              "    <path d=\"M0 0h24v24H0V0z\" fill=\"none\"/>\n",
              "    <path d=\"M18.56 5.44l.94 2.06.94-2.06 2.06-.94-2.06-.94-.94-2.06-.94 2.06-2.06.94zm-11 1L8.5 8.5l.94-2.06 2.06-.94-2.06-.94L8.5 2.5l-.94 2.06-2.06.94zm10 10l.94 2.06.94-2.06 2.06-.94-2.06-.94-.94-2.06-.94 2.06-2.06.94z\"/><path d=\"M17.41 7.96l-1.37-1.37c-.4-.4-.92-.59-1.43-.59-.52 0-1.04.2-1.43.59L10.3 9.45l-7.72 7.72c-.78.78-.78 2.05 0 2.83L4 21.41c.39.39.9.59 1.41.59.51 0 1.02-.2 1.41-.59l7.78-7.78 2.81-2.81c.8-.78.8-2.07 0-2.86zM5.41 20L4 18.59l7.72-7.72 1.47 1.35L5.41 20z\"/>\n",
              "  </svg>\n",
              "      </button>\n",
              "      \n",
              "  <style>\n",
              "    .colab-df-container {\n",
              "      display:flex;\n",
              "      flex-wrap:wrap;\n",
              "      gap: 12px;\n",
              "    }\n",
              "\n",
              "    .colab-df-convert {\n",
              "      background-color: #E8F0FE;\n",
              "      border: none;\n",
              "      border-radius: 50%;\n",
              "      cursor: pointer;\n",
              "      display: none;\n",
              "      fill: #1967D2;\n",
              "      height: 32px;\n",
              "      padding: 0 0 0 0;\n",
              "      width: 32px;\n",
              "    }\n",
              "\n",
              "    .colab-df-convert:hover {\n",
              "      background-color: #E2EBFA;\n",
              "      box-shadow: 0px 1px 2px rgba(60, 64, 67, 0.3), 0px 1px 3px 1px rgba(60, 64, 67, 0.15);\n",
              "      fill: #174EA6;\n",
              "    }\n",
              "\n",
              "    [theme=dark] .colab-df-convert {\n",
              "      background-color: #3B4455;\n",
              "      fill: #D2E3FC;\n",
              "    }\n",
              "\n",
              "    [theme=dark] .colab-df-convert:hover {\n",
              "      background-color: #434B5C;\n",
              "      box-shadow: 0px 1px 3px 1px rgba(0, 0, 0, 0.15);\n",
              "      filter: drop-shadow(0px 1px 2px rgba(0, 0, 0, 0.3));\n",
              "      fill: #FFFFFF;\n",
              "    }\n",
              "  </style>\n",
              "\n",
              "      <script>\n",
              "        const buttonEl =\n",
              "          document.querySelector('#df-7207b42f-7c8b-4c07-b03f-e6b2ea78fe3a button.colab-df-convert');\n",
              "        buttonEl.style.display =\n",
              "          google.colab.kernel.accessAllowed ? 'block' : 'none';\n",
              "\n",
              "        async function convertToInteractive(key) {\n",
              "          const element = document.querySelector('#df-7207b42f-7c8b-4c07-b03f-e6b2ea78fe3a');\n",
              "          const dataTable =\n",
              "            await google.colab.kernel.invokeFunction('convertToInteractive',\n",
              "                                                     [key], {});\n",
              "          if (!dataTable) return;\n",
              "\n",
              "          const docLinkHtml = 'Like what you see? Visit the ' +\n",
              "            '<a target=\"_blank\" href=https://colab.research.google.com/notebooks/data_table.ipynb>data table notebook</a>'\n",
              "            + ' to learn more about interactive tables.';\n",
              "          element.innerHTML = '';\n",
              "          dataTable['output_type'] = 'display_data';\n",
              "          await google.colab.output.renderOutput(dataTable, element);\n",
              "          const docLink = document.createElement('div');\n",
              "          docLink.innerHTML = docLinkHtml;\n",
              "          element.appendChild(docLink);\n",
              "        }\n",
              "      </script>\n",
              "    </div>\n",
              "  </div>\n",
              "  "
            ]
          },
          "metadata": {},
          "execution_count": 6
        }
      ]
    },
    {
      "cell_type": "code",
      "source": [
        "data_df=pd.read_csv(\"/content/drive/MyDrive/Untitled0.csv\")\n",
        "data_df.info()"
      ],
      "metadata": {
        "id": "cACaHrjRDplB",
        "colab": {
          "base_uri": "https://localhost:8080/"
        },
        "outputId": "d8cc7a95-38ad-413b-b4ad-3759493aa9ae"
      },
      "execution_count": null,
      "outputs": [
        {
          "output_type": "stream",
          "name": "stdout",
          "text": [
            "<class 'pandas.core.frame.DataFrame'>\n",
            "RangeIndex: 26018 entries, 0 to 26017\n",
            "Data columns (total 4 columns):\n",
            " #   Column    Non-Null Count  Dtype \n",
            "---  ------    --------------  ----- \n",
            " 0   contents  26018 non-null  object\n",
            " 1   star      26018 non-null  int64 \n",
            " 2   agree     26018 non-null  int64 \n",
            " 3   date      26018 non-null  object\n",
            "dtypes: int64(2), object(2)\n",
            "memory usage: 813.2+ KB\n"
          ]
        }
      ]
    },
    {
      "cell_type": "code",
      "source": [
        "!pip install spacy\n",
        "import pandas as pd\n",
        "import numpy as np\n",
        "import matplotlib.pyplot as plt\n",
        "import seaborn as sns\n",
        "import nltk\n",
        "import re\n",
        "import os\n",
        "import json\n",
        "import sklearn\n",
        "from sklearn.model_selection import train_test_split\n",
        "\n",
        "data_df.head()\n",
        "\n"
      ],
      "metadata": {
        "colab": {
          "base_uri": "https://localhost:8080/",
          "height": 805
        },
        "id": "AFlHqPnP-N_Z",
        "outputId": "91840010-770d-468b-814a-93ef1344b876"
      },
      "execution_count": null,
      "outputs": [
        {
          "output_type": "stream",
          "name": "stdout",
          "text": [
            "Looking in indexes: https://pypi.org/simple, https://us-python.pkg.dev/colab-wheels/public/simple/\n",
            "Requirement already satisfied: spacy in /usr/local/lib/python3.7/dist-packages (3.4.1)\n",
            "Requirement already satisfied: tqdm<5.0.0,>=4.38.0 in /usr/local/lib/python3.7/dist-packages (from spacy) (4.64.1)\n",
            "Requirement already satisfied: thinc<8.2.0,>=8.1.0 in /usr/local/lib/python3.7/dist-packages (from spacy) (8.1.3)\n",
            "Requirement already satisfied: typing-extensions<4.2.0,>=3.7.4 in /usr/local/lib/python3.7/dist-packages (from spacy) (4.1.1)\n",
            "Requirement already satisfied: numpy>=1.15.0 in /usr/local/lib/python3.7/dist-packages (from spacy) (1.21.6)\n",
            "Requirement already satisfied: wasabi<1.1.0,>=0.9.1 in /usr/local/lib/python3.7/dist-packages (from spacy) (0.10.1)\n",
            "Requirement already satisfied: spacy-legacy<3.1.0,>=3.0.9 in /usr/local/lib/python3.7/dist-packages (from spacy) (3.0.10)\n",
            "Requirement already satisfied: catalogue<2.1.0,>=2.0.6 in /usr/local/lib/python3.7/dist-packages (from spacy) (2.0.8)\n",
            "Requirement already satisfied: typer<0.5.0,>=0.3.0 in /usr/local/lib/python3.7/dist-packages (from spacy) (0.4.2)\n",
            "Requirement already satisfied: packaging>=20.0 in /usr/local/lib/python3.7/dist-packages (from spacy) (21.3)\n",
            "Requirement already satisfied: cymem<2.1.0,>=2.0.2 in /usr/local/lib/python3.7/dist-packages (from spacy) (2.0.6)\n",
            "Requirement already satisfied: murmurhash<1.1.0,>=0.28.0 in /usr/local/lib/python3.7/dist-packages (from spacy) (1.0.8)\n",
            "Requirement already satisfied: requests<3.0.0,>=2.13.0 in /usr/local/lib/python3.7/dist-packages (from spacy) (2.23.0)\n",
            "Requirement already satisfied: langcodes<4.0.0,>=3.2.0 in /usr/local/lib/python3.7/dist-packages (from spacy) (3.3.0)\n",
            "Requirement already satisfied: srsly<3.0.0,>=2.4.3 in /usr/local/lib/python3.7/dist-packages (from spacy) (2.4.4)\n",
            "Requirement already satisfied: setuptools in /usr/local/lib/python3.7/dist-packages (from spacy) (57.4.0)\n",
            "Requirement already satisfied: preshed<3.1.0,>=3.0.2 in /usr/local/lib/python3.7/dist-packages (from spacy) (3.0.7)\n",
            "Requirement already satisfied: spacy-loggers<2.0.0,>=1.0.0 in /usr/local/lib/python3.7/dist-packages (from spacy) (1.0.3)\n",
            "Requirement already satisfied: pydantic!=1.8,!=1.8.1,<1.10.0,>=1.7.4 in /usr/local/lib/python3.7/dist-packages (from spacy) (1.9.2)\n",
            "Requirement already satisfied: pathy>=0.3.5 in /usr/local/lib/python3.7/dist-packages (from spacy) (0.6.2)\n",
            "Requirement already satisfied: jinja2 in /usr/local/lib/python3.7/dist-packages (from spacy) (2.11.3)\n",
            "Requirement already satisfied: zipp>=0.5 in /usr/local/lib/python3.7/dist-packages (from catalogue<2.1.0,>=2.0.6->spacy) (3.9.0)\n",
            "Requirement already satisfied: pyparsing!=3.0.5,>=2.0.2 in /usr/local/lib/python3.7/dist-packages (from packaging>=20.0->spacy) (3.0.9)\n",
            "Requirement already satisfied: smart-open<6.0.0,>=5.2.1 in /usr/local/lib/python3.7/dist-packages (from pathy>=0.3.5->spacy) (5.2.1)\n",
            "Requirement already satisfied: certifi>=2017.4.17 in /usr/local/lib/python3.7/dist-packages (from requests<3.0.0,>=2.13.0->spacy) (2022.9.24)\n",
            "Requirement already satisfied: chardet<4,>=3.0.2 in /usr/local/lib/python3.7/dist-packages (from requests<3.0.0,>=2.13.0->spacy) (3.0.4)\n",
            "Requirement already satisfied: urllib3!=1.25.0,!=1.25.1,<1.26,>=1.21.1 in /usr/local/lib/python3.7/dist-packages (from requests<3.0.0,>=2.13.0->spacy) (1.24.3)\n",
            "Requirement already satisfied: idna<3,>=2.5 in /usr/local/lib/python3.7/dist-packages (from requests<3.0.0,>=2.13.0->spacy) (2.10)\n",
            "Requirement already satisfied: confection<1.0.0,>=0.0.1 in /usr/local/lib/python3.7/dist-packages (from thinc<8.2.0,>=8.1.0->spacy) (0.0.3)\n",
            "Requirement already satisfied: blis<0.8.0,>=0.7.8 in /usr/local/lib/python3.7/dist-packages (from thinc<8.2.0,>=8.1.0->spacy) (0.7.8)\n",
            "Requirement already satisfied: click<9.0.0,>=7.1.1 in /usr/local/lib/python3.7/dist-packages (from typer<0.5.0,>=0.3.0->spacy) (7.1.2)\n",
            "Requirement already satisfied: MarkupSafe>=0.23 in /usr/local/lib/python3.7/dist-packages (from jinja2->spacy) (2.0.1)\n"
          ]
        },
        {
          "output_type": "execute_result",
          "data": {
            "text/plain": [
              "                                            contents  star  agree  \\\n",
              "0  Fun game, but lots of repetition and click rew...     4    217   \n",
              "1  Great game, I really enjoy it and it is a grea...     4    344   \n",
              "2  Super addicted and I'm not even sure why. The ...     5    103   \n",
              "3  Fun game. I do have an issue with the game cra...     4      1   \n",
              "4  I am addicted, the gameplay is super fun and e...     5    128   \n",
              "\n",
              "                  date  \n",
              "0  2022-10-04 00:40:02  \n",
              "1  2022-09-29 01:49:21  \n",
              "2  2022-10-07 23:55:56  \n",
              "3  2022-10-08 02:08:48  \n",
              "4  2022-10-02 05:55:03  "
            ],
            "text/html": [
              "\n",
              "  <div id=\"df-5e151d71-7e5e-4d39-b09d-d48ca0543d0b\">\n",
              "    <div class=\"colab-df-container\">\n",
              "      <div>\n",
              "<style scoped>\n",
              "    .dataframe tbody tr th:only-of-type {\n",
              "        vertical-align: middle;\n",
              "    }\n",
              "\n",
              "    .dataframe tbody tr th {\n",
              "        vertical-align: top;\n",
              "    }\n",
              "\n",
              "    .dataframe thead th {\n",
              "        text-align: right;\n",
              "    }\n",
              "</style>\n",
              "<table border=\"1\" class=\"dataframe\">\n",
              "  <thead>\n",
              "    <tr style=\"text-align: right;\">\n",
              "      <th></th>\n",
              "      <th>contents</th>\n",
              "      <th>star</th>\n",
              "      <th>agree</th>\n",
              "      <th>date</th>\n",
              "    </tr>\n",
              "  </thead>\n",
              "  <tbody>\n",
              "    <tr>\n",
              "      <th>0</th>\n",
              "      <td>Fun game, but lots of repetition and click rew...</td>\n",
              "      <td>4</td>\n",
              "      <td>217</td>\n",
              "      <td>2022-10-04 00:40:02</td>\n",
              "    </tr>\n",
              "    <tr>\n",
              "      <th>1</th>\n",
              "      <td>Great game, I really enjoy it and it is a grea...</td>\n",
              "      <td>4</td>\n",
              "      <td>344</td>\n",
              "      <td>2022-09-29 01:49:21</td>\n",
              "    </tr>\n",
              "    <tr>\n",
              "      <th>2</th>\n",
              "      <td>Super addicted and I'm not even sure why. The ...</td>\n",
              "      <td>5</td>\n",
              "      <td>103</td>\n",
              "      <td>2022-10-07 23:55:56</td>\n",
              "    </tr>\n",
              "    <tr>\n",
              "      <th>3</th>\n",
              "      <td>Fun game. I do have an issue with the game cra...</td>\n",
              "      <td>4</td>\n",
              "      <td>1</td>\n",
              "      <td>2022-10-08 02:08:48</td>\n",
              "    </tr>\n",
              "    <tr>\n",
              "      <th>4</th>\n",
              "      <td>I am addicted, the gameplay is super fun and e...</td>\n",
              "      <td>5</td>\n",
              "      <td>128</td>\n",
              "      <td>2022-10-02 05:55:03</td>\n",
              "    </tr>\n",
              "  </tbody>\n",
              "</table>\n",
              "</div>\n",
              "      <button class=\"colab-df-convert\" onclick=\"convertToInteractive('df-5e151d71-7e5e-4d39-b09d-d48ca0543d0b')\"\n",
              "              title=\"Convert this dataframe to an interactive table.\"\n",
              "              style=\"display:none;\">\n",
              "        \n",
              "  <svg xmlns=\"http://www.w3.org/2000/svg\" height=\"24px\"viewBox=\"0 0 24 24\"\n",
              "       width=\"24px\">\n",
              "    <path d=\"M0 0h24v24H0V0z\" fill=\"none\"/>\n",
              "    <path d=\"M18.56 5.44l.94 2.06.94-2.06 2.06-.94-2.06-.94-.94-2.06-.94 2.06-2.06.94zm-11 1L8.5 8.5l.94-2.06 2.06-.94-2.06-.94L8.5 2.5l-.94 2.06-2.06.94zm10 10l.94 2.06.94-2.06 2.06-.94-2.06-.94-.94-2.06-.94 2.06-2.06.94z\"/><path d=\"M17.41 7.96l-1.37-1.37c-.4-.4-.92-.59-1.43-.59-.52 0-1.04.2-1.43.59L10.3 9.45l-7.72 7.72c-.78.78-.78 2.05 0 2.83L4 21.41c.39.39.9.59 1.41.59.51 0 1.02-.2 1.41-.59l7.78-7.78 2.81-2.81c.8-.78.8-2.07 0-2.86zM5.41 20L4 18.59l7.72-7.72 1.47 1.35L5.41 20z\"/>\n",
              "  </svg>\n",
              "      </button>\n",
              "      \n",
              "  <style>\n",
              "    .colab-df-container {\n",
              "      display:flex;\n",
              "      flex-wrap:wrap;\n",
              "      gap: 12px;\n",
              "    }\n",
              "\n",
              "    .colab-df-convert {\n",
              "      background-color: #E8F0FE;\n",
              "      border: none;\n",
              "      border-radius: 50%;\n",
              "      cursor: pointer;\n",
              "      display: none;\n",
              "      fill: #1967D2;\n",
              "      height: 32px;\n",
              "      padding: 0 0 0 0;\n",
              "      width: 32px;\n",
              "    }\n",
              "\n",
              "    .colab-df-convert:hover {\n",
              "      background-color: #E2EBFA;\n",
              "      box-shadow: 0px 1px 2px rgba(60, 64, 67, 0.3), 0px 1px 3px 1px rgba(60, 64, 67, 0.15);\n",
              "      fill: #174EA6;\n",
              "    }\n",
              "\n",
              "    [theme=dark] .colab-df-convert {\n",
              "      background-color: #3B4455;\n",
              "      fill: #D2E3FC;\n",
              "    }\n",
              "\n",
              "    [theme=dark] .colab-df-convert:hover {\n",
              "      background-color: #434B5C;\n",
              "      box-shadow: 0px 1px 3px 1px rgba(0, 0, 0, 0.15);\n",
              "      filter: drop-shadow(0px 1px 2px rgba(0, 0, 0, 0.3));\n",
              "      fill: #FFFFFF;\n",
              "    }\n",
              "  </style>\n",
              "\n",
              "      <script>\n",
              "        const buttonEl =\n",
              "          document.querySelector('#df-5e151d71-7e5e-4d39-b09d-d48ca0543d0b button.colab-df-convert');\n",
              "        buttonEl.style.display =\n",
              "          google.colab.kernel.accessAllowed ? 'block' : 'none';\n",
              "\n",
              "        async function convertToInteractive(key) {\n",
              "          const element = document.querySelector('#df-5e151d71-7e5e-4d39-b09d-d48ca0543d0b');\n",
              "          const dataTable =\n",
              "            await google.colab.kernel.invokeFunction('convertToInteractive',\n",
              "                                                     [key], {});\n",
              "          if (!dataTable) return;\n",
              "\n",
              "          const docLinkHtml = 'Like what you see? Visit the ' +\n",
              "            '<a target=\"_blank\" href=https://colab.research.google.com/notebooks/data_table.ipynb>data table notebook</a>'\n",
              "            + ' to learn more about interactive tables.';\n",
              "          element.innerHTML = '';\n",
              "          dataTable['output_type'] = 'display_data';\n",
              "          await google.colab.output.renderOutput(dataTable, element);\n",
              "          const docLink = document.createElement('div');\n",
              "          docLink.innerHTML = docLinkHtml;\n",
              "          element.appendChild(docLink);\n",
              "        }\n",
              "      </script>\n",
              "    </div>\n",
              "  </div>\n",
              "  "
            ]
          },
          "metadata": {},
          "execution_count": 8
        }
      ]
    },
    {
      "cell_type": "code",
      "source": [
        "data_df.head()"
      ],
      "metadata": {
        "colab": {
          "base_uri": "https://localhost:8080/",
          "height": 206
        },
        "id": "3uCiLpEJImkW",
        "outputId": "5b5a23a8-4b2a-4236-ba94-452c00259df7"
      },
      "execution_count": null,
      "outputs": [
        {
          "output_type": "execute_result",
          "data": {
            "text/plain": [
              "                                            contents  star  agree  \\\n",
              "0  Fun game, but lots of repetition and click rew...     4    217   \n",
              "1  Great game, I really enjoy it and it is a grea...     4    344   \n",
              "2  Super addicted and I'm not even sure why. The ...     5    103   \n",
              "3  Fun game. I do have an issue with the game cra...     4      1   \n",
              "4  I am addicted, the gameplay is super fun and e...     5    128   \n",
              "\n",
              "                  date  \n",
              "0  2022-10-04 00:40:02  \n",
              "1  2022-09-29 01:49:21  \n",
              "2  2022-10-07 23:55:56  \n",
              "3  2022-10-08 02:08:48  \n",
              "4  2022-10-02 05:55:03  "
            ],
            "text/html": [
              "\n",
              "  <div id=\"df-631d2a6d-b090-4693-a89c-799316c846ef\">\n",
              "    <div class=\"colab-df-container\">\n",
              "      <div>\n",
              "<style scoped>\n",
              "    .dataframe tbody tr th:only-of-type {\n",
              "        vertical-align: middle;\n",
              "    }\n",
              "\n",
              "    .dataframe tbody tr th {\n",
              "        vertical-align: top;\n",
              "    }\n",
              "\n",
              "    .dataframe thead th {\n",
              "        text-align: right;\n",
              "    }\n",
              "</style>\n",
              "<table border=\"1\" class=\"dataframe\">\n",
              "  <thead>\n",
              "    <tr style=\"text-align: right;\">\n",
              "      <th></th>\n",
              "      <th>contents</th>\n",
              "      <th>star</th>\n",
              "      <th>agree</th>\n",
              "      <th>date</th>\n",
              "    </tr>\n",
              "  </thead>\n",
              "  <tbody>\n",
              "    <tr>\n",
              "      <th>0</th>\n",
              "      <td>Fun game, but lots of repetition and click rew...</td>\n",
              "      <td>4</td>\n",
              "      <td>217</td>\n",
              "      <td>2022-10-04 00:40:02</td>\n",
              "    </tr>\n",
              "    <tr>\n",
              "      <th>1</th>\n",
              "      <td>Great game, I really enjoy it and it is a grea...</td>\n",
              "      <td>4</td>\n",
              "      <td>344</td>\n",
              "      <td>2022-09-29 01:49:21</td>\n",
              "    </tr>\n",
              "    <tr>\n",
              "      <th>2</th>\n",
              "      <td>Super addicted and I'm not even sure why. The ...</td>\n",
              "      <td>5</td>\n",
              "      <td>103</td>\n",
              "      <td>2022-10-07 23:55:56</td>\n",
              "    </tr>\n",
              "    <tr>\n",
              "      <th>3</th>\n",
              "      <td>Fun game. I do have an issue with the game cra...</td>\n",
              "      <td>4</td>\n",
              "      <td>1</td>\n",
              "      <td>2022-10-08 02:08:48</td>\n",
              "    </tr>\n",
              "    <tr>\n",
              "      <th>4</th>\n",
              "      <td>I am addicted, the gameplay is super fun and e...</td>\n",
              "      <td>5</td>\n",
              "      <td>128</td>\n",
              "      <td>2022-10-02 05:55:03</td>\n",
              "    </tr>\n",
              "  </tbody>\n",
              "</table>\n",
              "</div>\n",
              "      <button class=\"colab-df-convert\" onclick=\"convertToInteractive('df-631d2a6d-b090-4693-a89c-799316c846ef')\"\n",
              "              title=\"Convert this dataframe to an interactive table.\"\n",
              "              style=\"display:none;\">\n",
              "        \n",
              "  <svg xmlns=\"http://www.w3.org/2000/svg\" height=\"24px\"viewBox=\"0 0 24 24\"\n",
              "       width=\"24px\">\n",
              "    <path d=\"M0 0h24v24H0V0z\" fill=\"none\"/>\n",
              "    <path d=\"M18.56 5.44l.94 2.06.94-2.06 2.06-.94-2.06-.94-.94-2.06-.94 2.06-2.06.94zm-11 1L8.5 8.5l.94-2.06 2.06-.94-2.06-.94L8.5 2.5l-.94 2.06-2.06.94zm10 10l.94 2.06.94-2.06 2.06-.94-2.06-.94-.94-2.06-.94 2.06-2.06.94z\"/><path d=\"M17.41 7.96l-1.37-1.37c-.4-.4-.92-.59-1.43-.59-.52 0-1.04.2-1.43.59L10.3 9.45l-7.72 7.72c-.78.78-.78 2.05 0 2.83L4 21.41c.39.39.9.59 1.41.59.51 0 1.02-.2 1.41-.59l7.78-7.78 2.81-2.81c.8-.78.8-2.07 0-2.86zM5.41 20L4 18.59l7.72-7.72 1.47 1.35L5.41 20z\"/>\n",
              "  </svg>\n",
              "      </button>\n",
              "      \n",
              "  <style>\n",
              "    .colab-df-container {\n",
              "      display:flex;\n",
              "      flex-wrap:wrap;\n",
              "      gap: 12px;\n",
              "    }\n",
              "\n",
              "    .colab-df-convert {\n",
              "      background-color: #E8F0FE;\n",
              "      border: none;\n",
              "      border-radius: 50%;\n",
              "      cursor: pointer;\n",
              "      display: none;\n",
              "      fill: #1967D2;\n",
              "      height: 32px;\n",
              "      padding: 0 0 0 0;\n",
              "      width: 32px;\n",
              "    }\n",
              "\n",
              "    .colab-df-convert:hover {\n",
              "      background-color: #E2EBFA;\n",
              "      box-shadow: 0px 1px 2px rgba(60, 64, 67, 0.3), 0px 1px 3px 1px rgba(60, 64, 67, 0.15);\n",
              "      fill: #174EA6;\n",
              "    }\n",
              "\n",
              "    [theme=dark] .colab-df-convert {\n",
              "      background-color: #3B4455;\n",
              "      fill: #D2E3FC;\n",
              "    }\n",
              "\n",
              "    [theme=dark] .colab-df-convert:hover {\n",
              "      background-color: #434B5C;\n",
              "      box-shadow: 0px 1px 3px 1px rgba(0, 0, 0, 0.15);\n",
              "      filter: drop-shadow(0px 1px 2px rgba(0, 0, 0, 0.3));\n",
              "      fill: #FFFFFF;\n",
              "    }\n",
              "  </style>\n",
              "\n",
              "      <script>\n",
              "        const buttonEl =\n",
              "          document.querySelector('#df-631d2a6d-b090-4693-a89c-799316c846ef button.colab-df-convert');\n",
              "        buttonEl.style.display =\n",
              "          google.colab.kernel.accessAllowed ? 'block' : 'none';\n",
              "\n",
              "        async function convertToInteractive(key) {\n",
              "          const element = document.querySelector('#df-631d2a6d-b090-4693-a89c-799316c846ef');\n",
              "          const dataTable =\n",
              "            await google.colab.kernel.invokeFunction('convertToInteractive',\n",
              "                                                     [key], {});\n",
              "          if (!dataTable) return;\n",
              "\n",
              "          const docLinkHtml = 'Like what you see? Visit the ' +\n",
              "            '<a target=\"_blank\" href=https://colab.research.google.com/notebooks/data_table.ipynb>data table notebook</a>'\n",
              "            + ' to learn more about interactive tables.';\n",
              "          element.innerHTML = '';\n",
              "          dataTable['output_type'] = 'display_data';\n",
              "          await google.colab.output.renderOutput(dataTable, element);\n",
              "          const docLink = document.createElement('div');\n",
              "          docLink.innerHTML = docLinkHtml;\n",
              "          element.appendChild(docLink);\n",
              "        }\n",
              "      </script>\n",
              "    </div>\n",
              "  </div>\n",
              "  "
            ]
          },
          "metadata": {},
          "execution_count": 9
        }
      ]
    },
    {
      "cell_type": "code",
      "source": [
        "sns.countplot(x='star',data=data_df)"
      ],
      "metadata": {
        "colab": {
          "base_uri": "https://localhost:8080/",
          "height": 300
        },
        "id": "Xq3Hw76jIWUR",
        "outputId": "6aa55272-595b-42c9-c5bb-6dc191550284"
      },
      "execution_count": null,
      "outputs": [
        {
          "output_type": "execute_result",
          "data": {
            "text/plain": [
              "<matplotlib.axes._subplots.AxesSubplot at 0x7f69d4f19c10>"
            ]
          },
          "metadata": {},
          "execution_count": 10
        },
        {
          "output_type": "display_data",
          "data": {
            "text/plain": [
              "<Figure size 432x288 with 1 Axes>"
            ],
            "image/png": "[encoded data removed]"
          },
          "metadata": {
            "needs_background": "light"
          }
        }
      ]
    },
    {
      "cell_type": "code",
      "source": [
        "#별점을 통해서 레이블링 작업수행 \n",
        "df_except_neut = data_df['star'] != 3\n",
        "data_df = data_df[df_except_neut]\n",
        "\n",
        "# 레이블링 할당 (긍정 : 1, 부정 : 0)\n",
        "data_df['sentiment'] = [1 if i > 3 else 0 for i in data_df['star']]\n",
        "\n",
        "# nan 값 제거\n",
        "data_df = data_df.dropna()\n",
        "\n",
        "# 중복 제거\n",
        "data_df = data_df.drop_duplicates()\n",
        "\n",
        "data_df.reset_index(drop=True, inplace=True)\n",
        "\n",
        "data_df"
      ],
      "metadata": {
        "colab": {
          "base_uri": "https://localhost:8080/",
          "height": 532
        },
        "id": "ASoXIlF1IzOa",
        "outputId": "bbd77abe-7eb4-4e99-c2b3-dc93ac854316"
      },
      "execution_count": null,
      "outputs": [
        {
          "output_type": "stream",
          "name": "stderr",
          "text": [
            "/usr/local/lib/python3.7/dist-packages/ipykernel_launcher.py:6: SettingWithCopyWarning: \n",
            "A value is trying to be set on a copy of a slice from a DataFrame.\n",
            "Try using .loc[row_indexer,col_indexer] = value instead\n",
            "\n",
            "See the caveats in the documentation: https://pandas.pydata.org/pandas-docs/stable/user_guide/indexing.html#returning-a-view-versus-a-copy\n",
            "  \n"
          ]
        },
        {
          "output_type": "execute_result",
          "data": {
            "text/plain": [
              "                                                contents  star  agree  \\\n",
              "0      Fun game, but lots of repetition and click rew...     4    217   \n",
              "1      Great game, I really enjoy it and it is a grea...     4    344   \n",
              "2      Super addicted and I'm not even sure why. The ...     5    103   \n",
              "3      Fun game. I do have an issue with the game cra...     4      1   \n",
              "4      I am addicted, the gameplay is super fun and e...     5    128   \n",
              "...                                                  ...   ...    ...   \n",
              "24915                                                  👍     5      0   \n",
              "24916                                                Wow     4      0   \n",
              "24917                                             🥰🥰🥰🥰🥰🥰     5      0   \n",
              "24918                                    🥶🥶🥶🥶🥶🥶🥶🥶🥶🥶🥶🥶🥶🥶🥶     5      0   \n",
              "24919                                    😂 😂 😂 😂 😂 😂 😂 😂     5      0   \n",
              "\n",
              "                      date  sentiment  \n",
              "0      2022-10-04 00:40:02          1  \n",
              "1      2022-09-29 01:49:21          1  \n",
              "2      2022-10-07 23:55:56          1  \n",
              "3      2022-10-08 02:08:48          1  \n",
              "4      2022-10-02 05:55:03          1  \n",
              "...                    ...        ...  \n",
              "24915  2022-10-12 15:17:52          1  \n",
              "24916  2022-10-12 15:18:34          1  \n",
              "24917  2022-10-10 15:15:47          1  \n",
              "24918  2022-10-02 09:02:48          1  \n",
              "24919  2022-10-11 21:10:02          1  \n",
              "\n",
              "[24920 rows x 5 columns]"
            ],
            "text/html": [
              "\n",
              "  <div id=\"df-bb01168d-bbdb-4dab-994a-4ba2bc4ed0e0\">\n",
              "    <div class=\"colab-df-container\">\n",
              "      <div>\n",
              "<style scoped>\n",
              "    .dataframe tbody tr th:only-of-type {\n",
              "        vertical-align: middle;\n",
              "    }\n",
              "\n",
              "    .dataframe tbody tr th {\n",
              "        vertical-align: top;\n",
              "    }\n",
              "\n",
              "    .dataframe thead th {\n",
              "        text-align: right;\n",
              "    }\n",
              "</style>\n",
              "<table border=\"1\" class=\"dataframe\">\n",
              "  <thead>\n",
              "    <tr style=\"text-align: right;\">\n",
              "      <th></th>\n",
              "      <th>contents</th>\n",
              "      <th>star</th>\n",
              "      <th>agree</th>\n",
              "      <th>date</th>\n",
              "      <th>sentiment</th>\n",
              "    </tr>\n",
              "  </thead>\n",
              "  <tbody>\n",
              "    <tr>\n",
              "      <th>0</th>\n",
              "      <td>Fun game, but lots of repetition and click rew...</td>\n",
              "      <td>4</td>\n",
              "      <td>217</td>\n",
              "      <td>2022-10-04 00:40:02</td>\n",
              "      <td>1</td>\n",
              "    </tr>\n",
              "    <tr>\n",
              "      <th>1</th>\n",
              "      <td>Great game, I really enjoy it and it is a grea...</td>\n",
              "      <td>4</td>\n",
              "      <td>344</td>\n",
              "      <td>2022-09-29 01:49:21</td>\n",
              "      <td>1</td>\n",
              "    </tr>\n",
              "    <tr>\n",
              "      <th>2</th>\n",
              "      <td>Super addicted and I'm not even sure why. The ...</td>\n",
              "      <td>5</td>\n",
              "      <td>103</td>\n",
              "      <td>2022-10-07 23:55:56</td>\n",
              "      <td>1</td>\n",
              "    </tr>\n",
              "    <tr>\n",
              "      <th>3</th>\n",
              "      <td>Fun game. I do have an issue with the game cra...</td>\n",
              "      <td>4</td>\n",
              "      <td>1</td>\n",
              "      <td>2022-10-08 02:08:48</td>\n",
              "      <td>1</td>\n",
              "    </tr>\n",
              "    <tr>\n",
              "      <th>4</th>\n",
              "      <td>I am addicted, the gameplay is super fun and e...</td>\n",
              "      <td>5</td>\n",
              "      <td>128</td>\n",
              "      <td>2022-10-02 05:55:03</td>\n",
              "      <td>1</td>\n",
              "    </tr>\n",
              "    <tr>\n",
              "      <th>...</th>\n",
              "      <td>...</td>\n",
              "      <td>...</td>\n",
              "      <td>...</td>\n",
              "      <td>...</td>\n",
              "      <td>...</td>\n",
              "    </tr>\n",
              "    <tr>\n",
              "      <th>24915</th>\n",
              "      <td>👍</td>\n",
              "      <td>5</td>\n",
              "      <td>0</td>\n",
              "      <td>2022-10-12 15:17:52</td>\n",
              "      <td>1</td>\n",
              "    </tr>\n",
              "    <tr>\n",
              "      <th>24916</th>\n",
              "      <td>Wow</td>\n",
              "      <td>4</td>\n",
              "      <td>0</td>\n",
              "      <td>2022-10-12 15:18:34</td>\n",
              "      <td>1</td>\n",
              "    </tr>\n",
              "    <tr>\n",
              "      <th>24917</th>\n",
              "      <td>🥰🥰🥰🥰🥰🥰</td>\n",
              "      <td>5</td>\n",
              "      <td>0</td>\n",
              "      <td>2022-10-10 15:15:47</td>\n",
              "      <td>1</td>\n",
              "    </tr>\n",
              "    <tr>\n",
              "      <th>24918</th>\n",
              "      <td>🥶🥶🥶🥶🥶🥶🥶🥶🥶🥶🥶🥶🥶🥶🥶</td>\n",
              "      <td>5</td>\n",
              "      <td>0</td>\n",
              "      <td>2022-10-02 09:02:48</td>\n",
              "      <td>1</td>\n",
              "    </tr>\n",
              "    <tr>\n",
              "      <th>24919</th>\n",
              "      <td>😂 😂 😂 😂 😂 😂 😂 😂</td>\n",
              "      <td>5</td>\n",
              "      <td>0</td>\n",
              "      <td>2022-10-11 21:10:02</td>\n",
              "      <td>1</td>\n",
              "    </tr>\n",
              "  </tbody>\n",
              "</table>\n",
              "<p>24920 rows × 5 columns</p>\n",
              "</div>\n",
              "      <button class=\"colab-df-convert\" onclick=\"convertToInteractive('df-bb01168d-bbdb-4dab-994a-4ba2bc4ed0e0')\"\n",
              "              title=\"Convert this dataframe to an interactive table.\"\n",
              "              style=\"display:none;\">\n",
              "        \n",
              "  <svg xmlns=\"http://www.w3.org/2000/svg\" height=\"24px\"viewBox=\"0 0 24 24\"\n",
              "       width=\"24px\">\n",
              "    <path d=\"M0 0h24v24H0V0z\" fill=\"none\"/>\n",
              "    <path d=\"M18.56 5.44l.94 2.06.94-2.06 2.06-.94-2.06-.94-.94-2.06-.94 2.06-2.06.94zm-11 1L8.5 8.5l.94-2.06 2.06-.94-2.06-.94L8.5 2.5l-.94 2.06-2.06.94zm10 10l.94 2.06.94-2.06 2.06-.94-2.06-.94-.94-2.06-.94 2.06-2.06.94z\"/><path d=\"M17.41 7.96l-1.37-1.37c-.4-.4-.92-.59-1.43-.59-.52 0-1.04.2-1.43.59L10.3 9.45l-7.72 7.72c-.78.78-.78 2.05 0 2.83L4 21.41c.39.39.9.59 1.41.59.51 0 1.02-.2 1.41-.59l7.78-7.78 2.81-2.81c.8-.78.8-2.07 0-2.86zM5.41 20L4 18.59l7.72-7.72 1.47 1.35L5.41 20z\"/>\n",
              "  </svg>\n",
              "      </button>\n",
              "      \n",
              "  <style>\n",
              "    .colab-df-container {\n",
              "      display:flex;\n",
              "      flex-wrap:wrap;\n",
              "      gap: 12px;\n",
              "    }\n",
              "\n",
              "    .colab-df-convert {\n",
              "      background-color: #E8F0FE;\n",
              "      border: none;\n",
              "      border-radius: 50%;\n",
              "      cursor: pointer;\n",
              "      display: none;\n",
              "      fill: #1967D2;\n",
              "      height: 32px;\n",
              "      padding: 0 0 0 0;\n",
              "      width: 32px;\n",
              "    }\n",
              "\n",
              "    .colab-df-convert:hover {\n",
              "      background-color: #E2EBFA;\n",
              "      box-shadow: 0px 1px 2px rgba(60, 64, 67, 0.3), 0px 1px 3px 1px rgba(60, 64, 67, 0.15);\n",
              "      fill: #174EA6;\n",
              "    }\n",
              "\n",
              "    [theme=dark] .colab-df-convert {\n",
              "      background-color: #3B4455;\n",
              "      fill: #D2E3FC;\n",
              "    }\n",
              "\n",
              "    [theme=dark] .colab-df-convert:hover {\n",
              "      background-color: #434B5C;\n",
              "      box-shadow: 0px 1px 3px 1px rgba(0, 0, 0, 0.15);\n",
              "      filter: drop-shadow(0px 1px 2px rgba(0, 0, 0, 0.3));\n",
              "      fill: #FFFFFF;\n",
              "    }\n",
              "  </style>\n",
              "\n",
              "      <script>\n",
              "        const buttonEl =\n",
              "          document.querySelector('#df-bb01168d-bbdb-4dab-994a-4ba2bc4ed0e0 button.colab-df-convert');\n",
              "        buttonEl.style.display =\n",
              "          google.colab.kernel.accessAllowed ? 'block' : 'none';\n",
              "\n",
              "        async function convertToInteractive(key) {\n",
              "          const element = document.querySelector('#df-bb01168d-bbdb-4dab-994a-4ba2bc4ed0e0');\n",
              "          const dataTable =\n",
              "            await google.colab.kernel.invokeFunction('convertToInteractive',\n",
              "                                                     [key], {});\n",
              "          if (!dataTable) return;\n",
              "\n",
              "          const docLinkHtml = 'Like what you see? Visit the ' +\n",
              "            '<a target=\"_blank\" href=https://colab.research.google.com/notebooks/data_table.ipynb>data table notebook</a>'\n",
              "            + ' to learn more about interactive tables.';\n",
              "          element.innerHTML = '';\n",
              "          dataTable['output_type'] = 'display_data';\n",
              "          await google.colab.output.renderOutput(dataTable, element);\n",
              "          const docLink = document.createElement('div');\n",
              "          docLink.innerHTML = docLinkHtml;\n",
              "          element.appendChild(docLink);\n",
              "        }\n",
              "      </script>\n",
              "    </div>\n",
              "  </div>\n",
              "  "
            ]
          },
          "metadata": {},
          "execution_count": 11
        }
      ]
    },
    {
      "cell_type": "code",
      "source": [
        "import seaborn as sns\n",
        "\n",
        "sns.countplot(x='sentiment', data=data_df)\n",
        "print(\"긍정 개수:\", (data_df[\"sentiment\"] == 1).sum())\n",
        "print(\"부정 개수:\", (data_df[\"sentiment\"] == 0).sum()) "
      ],
      "metadata": {
        "colab": {
          "base_uri": "https://localhost:8080/",
          "height": 315
        },
        "id": "EL-xphLBKg85",
        "outputId": "5822130f-9094-46ba-f544-6d630f2b95db"
      },
      "execution_count": null,
      "outputs": [
        {
          "output_type": "stream",
          "name": "stdout",
          "text": [
            "긍정 개수: 21909\n",
            "부정 개수: 3011\n"
          ]
        },
        {
          "output_type": "display_data",
          "data": {
            "text/plain": [
              "<Figure size 432x288 with 1 Axes>"
            ],
            "image/png": "[encoded data removed]"
          },
          "metadata": {
            "needs_background": "light"
          }
        }
      ]
    },
    {
      "cell_type": "code",
      "source": [
        "def equal_ratio(df): #downsampling\n",
        "    # 레이블링 확인\n",
        "    pos = df['sentiment'] == 1\n",
        "    neg = df['sentiment'] == 0\n",
        "\n",
        "    # pos와 neg 구분\n",
        "    pos = df[pos]\n",
        "    neg = df[neg]\n",
        "\n",
        "    # 이전 개수 출력\n",
        "    print(len(pos),\"before pos\")\n",
        "    print(len(neg),\"before neg\")\n",
        "\n",
        "    # 비율 맞춤\n",
        "    pos_len = len(pos)\n",
        "    neg_len = len(neg)\n",
        "    max_len = max(pos_len, neg_len)\n",
        "\n",
        "    DFF = abs(pos_len - neg_len)\n",
        "    ratio = 1 - (DFF / max_len)\n",
        "    \n",
        "    if pos_len == neg_len:\n",
        "      pass\n",
        "    elif pos_len > neg_len:\n",
        "        pos = pos.sample(frac=ratio, random_state=82)\n",
        "    else:\n",
        "        neg = neg.sample(frac=ratio, random_state=82)\n",
        "\n",
        "    # 이후 개수 출력\n",
        "    print(len(pos),\"after pos\")\n",
        "    print(len(neg),\"after neg\")\n",
        "\n",
        "    df = pd.concat([pos, neg], axis=0)\n",
        "    df = sklearn.utils.shuffle(df, random_state=82).reset_index(drop=True)\n",
        "    \n",
        "    return df"
      ],
      "metadata": {
        "id": "c_kmB-e6Km7a"
      },
      "execution_count": null,
      "outputs": []
    },
    {
      "cell_type": "code",
      "source": [
        "data_df = equal_ratio(data_df)\n",
        "sns.countplot(x='sentiment', data=data_df)"
      ],
      "metadata": {
        "colab": {
          "base_uri": "https://localhost:8080/",
          "height": 370
        },
        "id": "6fyCH6J-KxgO",
        "outputId": "000e867f-1595-4d4e-d10f-ff36f48270bd"
      },
      "execution_count": null,
      "outputs": [
        {
          "output_type": "stream",
          "name": "stdout",
          "text": [
            "21909 before pos\n",
            "3011 before neg\n",
            "3011 after pos\n",
            "3011 after neg\n"
          ]
        },
        {
          "output_type": "execute_result",
          "data": {
            "text/plain": [
              "<matplotlib.axes._subplots.AxesSubplot at 0x7f69d494a8d0>"
            ]
          },
          "metadata": {},
          "execution_count": 14
        },
        {
          "output_type": "display_data",
          "data": {
            "text/plain": [
              "<Figure size 432x288 with 1 Axes>"
            ],
            "image/png": "[encoded data removed]"
          },
          "metadata": {
            "needs_background": "light"
          }
        }
      ]
    },
    {
      "cell_type": "code",
      "source": [
        "import spacy\n",
        "nlp = spacy.load(\"en_core_web_sm\")"
      ],
      "metadata": {
        "id": "NNT-GkowK94g"
      },
      "execution_count": null,
      "outputs": []
    },
    {
      "cell_type": "code",
      "source": [
        "def preprocessing(review):\n",
        "    #re\n",
        "    review = re.sub(\"[^a-zA-Z]\", \" \", review)\n",
        "    word_li = review.lower().split()\n",
        "    sentence = ' '.join(word_li)\n",
        "    \n",
        "    # lemmatization (spacy)\n",
        "    token_li = nlp(sentence)\n",
        "    word_li = [token.lemma_ for token in token_li if not token.is_stop]\n",
        "\n",
        "    # 문자열로 변환 (띄어쓰기 한 칸 기준으로)\n",
        "    sentence = ' '.join(word_li)    \n",
        "    \n",
        "    return sentence"
      ],
      "metadata": {
        "id": "ZaJ_W91TLGJC"
      },
      "execution_count": null,
      "outputs": []
    },
    {
      "cell_type": "code",
      "source": [
        "from tqdm import tqdm\n",
        "tqdm.pandas()\n",
        "data_df[\"prepro\"] = data_df[\"contents\"].progress_apply(preprocessing)  "
      ],
      "metadata": {
        "colab": {
          "base_uri": "https://localhost:8080/"
        },
        "id": "mEsr8gESLOzg",
        "outputId": "0b7956cd-a259-42b9-fca3-a7104e2e31ab"
      },
      "execution_count": null,
      "outputs": [
        {
          "output_type": "stream",
          "name": "stderr",
          "text": [
            "100%|██████████| 6022/6022 [00:58<00:00, 103.43it/s]\n"
          ]
        }
      ]
    },
    {
      "cell_type": "code",
      "source": [
        "print(\"공백 제거 전 데이터 개수: \", len(data_df))\n",
        "\n",
        "not_empty_value = data_df[\"prepro\"] != \"\"\n",
        "data_df = data_df[not_empty_value]\n",
        "print(\"공백 제거 후 데이터 개수: \", len(data_df))"
      ],
      "metadata": {
        "colab": {
          "base_uri": "https://localhost:8080/"
        },
        "id": "sfB9OT-ML41p",
        "outputId": "a661d230-7ee1-4f8d-ba7b-e605f4a255ae"
      },
      "execution_count": null,
      "outputs": [
        {
          "output_type": "stream",
          "name": "stdout",
          "text": [
            "공백 제거 전 데이터 개수:  6022\n",
            "공백 제거 후 데이터 개수:  5969\n"
          ]
        }
      ]
    },
    {
      "cell_type": "code",
      "source": [
        "x_feature = data_df[\"prepro\"].copy()\n",
        "y_label = data_df[\"sentiment\"].copy()\n",
        "pprint(x_feature)"
      ],
      "metadata": {
        "colab": {
          "base_uri": "https://localhost:8080/"
        },
        "id": "pFP-4g6PL8o1",
        "outputId": "444660d7-0541-447b-8b22-4f1ccf9eeb89"
      },
      "execution_count": null,
      "outputs": [
        {
          "output_type": "stream",
          "name": "stdout",
          "text": [
            "0                            great game u t level offline\n",
            "1                           addict fun good not ad second\n",
            "2                                 free force add fun play\n",
            "3                                  love good offline game\n",
            "4                                            entertaining\n",
            "                              ...                        \n",
            "6017                                good lot time consume\n",
            "6018    stage nice fun easy suddenly stage super hard ...\n",
            "6019           excellent far ad optional good progression\n",
            "6020        not play game m touch happen maybe game break\n",
            "6021        give star s way enemy screen make lag fix lag\n",
            "Name: prepro, Length: 5969, dtype: object\n"
          ]
        }
      ]
    },
    {
      "cell_type": "code",
      "source": [
        "x_train, x_test, y_train, y_test = train_test_split(x_feature, y_label, test_size=0.2, random_state=42)"
      ],
      "metadata": {
        "id": "75ZMnu0vNV2F"
      },
      "execution_count": null,
      "outputs": []
    },
    {
      "cell_type": "code",
      "source": [
        "from sklearn.feature_extraction.text import CountVectorizer\n",
        "bow_vectorizer=CountVectorizer(analyzer='word',max_features=3000)\n",
        "x_bow_train=bow_vectorizer.fit_transform(x_train)\n",
        "\n",
        "y_train=np.array(y_train)\n",
        "x_bow_test=bow_vectorizer.transform(x_test)\n",
        "y_test=np.array(y_test)"
      ],
      "metadata": {
        "colab": {
          "base_uri": "https://localhost:8080/"
        },
        "id": "_53d4bUFMliR",
        "outputId": "61dcfec6-5043-4066-df13-b239feb1d669"
      },
      "execution_count": null,
      "outputs": [
        {
          "output_type": "stream",
          "name": "stdout",
          "text": [
            "<4775x3000 sparse matrix of type '<class 'numpy.int64'>'\n",
            "\twith 36278 stored elements in Compressed Sparse Row format>\n"
          ]
        }
      ]
    },
    {
      "cell_type": "code",
      "source": [
        "from sklearn.model_selection import GridSearchCV\n",
        "from sklearn.naive_bayes import MultinomialNB\n",
        "mod=MultinomialNB()\n",
        "mod.fit(x_bow_train,y_train)\n",
        "\n",
        "\n",
        "hyper_parmas = {\"alpha\": [1,2,3]}\n",
        "\n",
        "grid_mod_bow_model = GridSearchCV(mod, param_grid=hyper_parmas, cv=5, refit=True, return_train_score=True)\n",
        "grid_mod_bow_model.fit(x_bow_train, y_train)\n",
        "\n",
        "from sklearn.metrics import accuracy_score\n",
        "y_pred=mod.predict(x_bow_test)\n",
        "accuracy_score(y_test,y_pred)"
      ],
      "metadata": {
        "colab": {
          "base_uri": "https://localhost:8080/"
        },
        "id": "moEPFg0ANkPF",
        "outputId": "1c132f70-3f7f-492b-9daf-c651bfe6171a"
      },
      "execution_count": null,
      "outputs": [
        {
          "output_type": "execute_result",
          "data": {
            "text/plain": [
              "0.8894472361809045"
            ]
          },
          "metadata": {},
          "execution_count": 31
        }
      ]
    },
    {
      "cell_type": "code",
      "source": [
        "result_di = {\n",
        "    \"test_contents\": x_bow_test,\n",
        "    \"sentiment\": y_test,\n",
        "    \"bow\": y_pred}\n",
        "    \n",
        "result_df = pd.DataFrame(result_di)\n",
        "result_df.to_csv(\"./sentiment classification.csv\")"
      ],
      "metadata": {
        "id": "qtrbgOyRBZmV"
      },
      "execution_count": null,
      "outputs": []
    }
  ]
}