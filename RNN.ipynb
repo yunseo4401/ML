{
  "nbformat": 4,
  "nbformat_minor": 0,
  "metadata": {
    "colab": {
      "provenance": [],
      "authorship_tag": "ABX9TyOAuFsjxN8KMlAJRyPcmgCm",
      "include_colab_link": true
    },
    "kernelspec": {
      "name": "python3",
      "display_name": "Python 3"
    },
    "language_info": {
      "name": "python"
    }
  },
  "cells": [
    {
      "cell_type": "markdown",
      "metadata": {
        "id": "view-in-github",
        "colab_type": "text"
      },
      "source": [
        "<a href=\"https://colab.research.google.com/github/yunseo4401/ML/blob/master/RNN.ipynb\" target=\"_parent\"><img src=\"https://colab.research.google.com/assets/colab-badge.svg\" alt=\"Open In Colab\"/></a>"
      ]
    },
    {
      "cell_type": "code",
      "execution_count": 11,
      "metadata": {
        "colab": {
          "base_uri": "https://localhost:8080/"
        },
        "id": "T5g9HT31fJCq",
        "outputId": "a978d31c-e0e4-4c87-f4a5-bb925181871c"
      },
      "outputs": [
        {
          "output_type": "stream",
          "name": "stdout",
          "text": [
            "(60000, 28, 28) (60000,)\n",
            "(10000, 28, 28) (10000,)\n"
          ]
        }
      ],
      "source": [
        "from tensorflow import keras\n",
        "(train_input,train_target),(test_input,test_target)=keras.datasets.fashion_mnist.load_data()\n",
        "print(train_input.shape,train_target.shape)\n",
        "print(test_input.shape,test_target.shape)"
      ]
    },
    {
      "cell_type": "code",
      "source": [
        "train_scaled=train_input/255.0 \n",
        "#255로 나누어 정규화 \n",
        "train_scaled=train_scaled.reshape(-1,28,28,1)\n",
        "#1차원배열로 바꾸어 줌 "
      ],
      "metadata": {
        "id": "VEGcEn2qfMMc"
      },
      "execution_count": 12,
      "outputs": []
    },
    {
      "cell_type": "code",
      "source": [
        "from sklearn.model_selection import train_test_split \n",
        "train_scaled,val_scaled,train_target,val_target=train_test_split(train_scaled,train_target,test_size=0.2,random_state=42)"
      ],
      "metadata": {
        "id": "XdE1yTS4fMQ2"
      },
      "execution_count": 13,
      "outputs": []
    },
    {
      "cell_type": "code",
      "source": [
        "model=keras.Sequential()"
      ],
      "metadata": {
        "id": "w8u7C2akfV8-"
      },
      "execution_count": 14,
      "outputs": []
    },
    {
      "cell_type": "code",
      "source": [
        "model.add(keras.layers.Conv2D(32,kernel_size=3,activation='relu',padding='same',input_shape=(28,28,1)))\n",
        "model.add(keras.layers.MaxPooling2D(2))  \n",
        "model.add(keras.layers.Conv2D(64,kernel_size=(3,3),activation='relu',padding='same'))\n",
        "model.add(keras.layers.MaxPooling2D(2))"
      ],
      "metadata": {
        "id": "XbN3JqI_fZZ0"
      },
      "execution_count": 15,
      "outputs": []
    },
    {
      "cell_type": "code",
      "source": [
        "model.add(keras.layers.Flatten())\n",
        "model.add(keras.layers.Dense(100,activation='relu'))\n",
        "model.add(keras.layers.Dropout(0.4))\n",
        "model.add(keras.layers.Dense(10,activation='softmax'))"
      ],
      "metadata": {
        "id": "5KlhsMOVgF5T"
      },
      "execution_count": 16,
      "outputs": []
    },
    {
      "cell_type": "code",
      "source": [
        "model.summary()"
      ],
      "metadata": {
        "colab": {
          "base_uri": "https://localhost:8080/"
        },
        "id": "iQd5XtGugaLc",
        "outputId": "d632246e-ed7c-4f60-e04d-12e26d7fe8b9"
      },
      "execution_count": 17,
      "outputs": [
        {
          "output_type": "stream",
          "name": "stdout",
          "text": [
            "Model: \"sequential_1\"\n",
            "_________________________________________________________________\n",
            " Layer (type)                Output Shape              Param #   \n",
            "=================================================================\n",
            " conv2d_3 (Conv2D)           (None, 28, 28, 32)        320       \n",
            "                                                                 \n",
            " max_pooling2d_2 (MaxPooling  (None, 14, 14, 32)       0         \n",
            " 2D)                                                             \n",
            "                                                                 \n",
            " conv2d_4 (Conv2D)           (None, 14, 14, 64)        18496     \n",
            "                                                                 \n",
            " max_pooling2d_3 (MaxPooling  (None, 7, 7, 64)         0         \n",
            " 2D)                                                             \n",
            "                                                                 \n",
            " flatten_1 (Flatten)         (None, 3136)              0         \n",
            "                                                                 \n",
            " dense_2 (Dense)             (None, 100)               313700    \n",
            "                                                                 \n",
            " dropout_1 (Dropout)         (None, 100)               0         \n",
            "                                                                 \n",
            " dense_3 (Dense)             (None, 10)                1010      \n",
            "                                                                 \n",
            "=================================================================\n",
            "Total params: 333,526\n",
            "Trainable params: 333,526\n",
            "Non-trainable params: 0\n",
            "_________________________________________________________________\n"
          ]
        }
      ]
    },
    {
      "cell_type": "code",
      "source": [
        "model.compile(optimizer='adam',loss='sparse_categorical_crossentropy',metrics='accuracy')\n",
        "early_stopping_cb=keras.callbacks.EarlyStopping(patience=2,restore_best_weights=True)\n",
        "history=model.fit(train_scaled,train_target,epochs=20,validation_data=(val_scaled,val_target),callbacks=[early_stopping_cb])"
      ],
      "metadata": {
        "colab": {
          "base_uri": "https://localhost:8080/"
        },
        "id": "8ZMBaxksgeJ8",
        "outputId": "a0f85858-704e-40b0-fb0e-2d023434f07a"
      },
      "execution_count": 18,
      "outputs": [
        {
          "output_type": "stream",
          "name": "stdout",
          "text": [
            "Epoch 1/20\n",
            "1500/1500 [==============================] - 45s 29ms/step - loss: 0.5280 - accuracy: 0.8113 - val_loss: 0.3382 - val_accuracy: 0.8737\n",
            "Epoch 2/20\n",
            "1500/1500 [==============================] - 66s 44ms/step - loss: 0.3535 - accuracy: 0.8718 - val_loss: 0.2920 - val_accuracy: 0.8911\n",
            "Epoch 3/20\n",
            "1500/1500 [==============================] - 57s 38ms/step - loss: 0.2997 - accuracy: 0.8925 - val_loss: 0.2638 - val_accuracy: 0.9028\n",
            "Epoch 4/20\n",
            "1500/1500 [==============================] - 50s 33ms/step - loss: 0.2714 - accuracy: 0.9001 - val_loss: 0.2501 - val_accuracy: 0.9087\n",
            "Epoch 5/20\n",
            "1500/1500 [==============================] - 43s 29ms/step - loss: 0.2468 - accuracy: 0.9086 - val_loss: 0.2370 - val_accuracy: 0.9128\n",
            "Epoch 6/20\n",
            "1500/1500 [==============================] - 45s 30ms/step - loss: 0.2266 - accuracy: 0.9162 - val_loss: 0.2416 - val_accuracy: 0.9138\n",
            "Epoch 7/20\n",
            "1500/1500 [==============================] - 44s 29ms/step - loss: 0.2101 - accuracy: 0.9233 - val_loss: 0.2469 - val_accuracy: 0.9140\n"
          ]
        }
      ]
    },
    {
      "cell_type": "code",
      "source": [
        "import matplotlib.pyplot as plt\n",
        "plt.plot(history.history['loss'])\n",
        "plt.plot(history.history['val_loss'])\n",
        "plt.xlabel('epoch')\n",
        "plt.ylabel('loss')\n",
        "plt.legend(['train','val'])\n",
        "plt.show()"
      ],
      "metadata": {
        "colab": {
          "base_uri": "https://localhost:8080/",
          "height": 279
        },
        "id": "c2aUf61uh0Ft",
        "outputId": "4ecaa7d0-2c96-414b-9ab9-ecea3044b300"
      },
      "execution_count": 19,
      "outputs": [
        {
          "output_type": "display_data",
          "data": {
            "text/plain": [
              "<Figure size 432x288 with 1 Axes>"
            ],
            "image/png": "[encoded data removed]"
          },
          "metadata": {
            "needs_background": "light"
          }
        }
      ]
    },
    {
      "cell_type": "code",
      "source": [
        "model.evaluate(val_scaled,val_target)\n",
        "plt.imshow(val_scaled[0].reshape(28,28),cmap='gray_r')\n",
        "plt.show()"
      ],
      "metadata": {
        "colab": {
          "base_uri": "https://localhost:8080/",
          "height": 283
        },
        "id": "w7WenpY5h1tW",
        "outputId": "237253ee-3c5b-4edf-c9cb-3f2296d2f7e6"
      },
      "execution_count": 20,
      "outputs": [
        {
          "output_type": "stream",
          "name": "stdout",
          "text": [
            "375/375 [==============================] - 3s 9ms/step - loss: 0.2370 - accuracy: 0.9128\n"
          ]
        },
        {
          "output_type": "display_data",
          "data": {
            "text/plain": [
              "<Figure size 432x288 with 1 Axes>"
            ],
            "image/png": "[encoded data removed]"
          },
          "metadata": {
            "needs_background": "light"
          }
        }
      ]
    },
    {
      "cell_type": "code",
      "source": [
        "preds=model.predict(val_scaled[0:1])\n",
        "print(preds) #10개의 클래스에 대한 예측 확률 출력 "
      ],
      "metadata": {
        "colab": {
          "base_uri": "https://localhost:8080/"
        },
        "id": "v3hylA2-iDNW",
        "outputId": "7daa7b28-fc33-4651-eef1-98ba7fe9fb9c"
      },
      "execution_count": 21,
      "outputs": [
        {
          "output_type": "stream",
          "name": "stdout",
          "text": [
            "1/1 [==============================] - 0s 104ms/step\n",
            "[[2.9331613e-14 3.0338724e-16 1.5250339e-14 1.0612756e-14 1.9791836e-14\n",
            "  6.7570558e-15 2.0867029e-13 1.3385576e-13 1.0000000e+00 1.0285800e-15]]\n"
          ]
        }
      ]
    },
    {
      "cell_type": "code",
      "source": [
        "plt.bar(range(1,11),preds[0])\n",
        "plt.xlabel('class')\n",
        "plt.ylabel('prob')\n",
        "plt.show()"
      ],
      "metadata": {
        "colab": {
          "base_uri": "https://localhost:8080/",
          "height": 279
        },
        "id": "MCEndxTQiLH6",
        "outputId": "7bb26cd5-eb56-4831-d153-32f5b429f66f"
      },
      "execution_count": 23,
      "outputs": [
        {
          "output_type": "display_data",
          "data": {
            "text/plain": [
              "<Figure size 432x288 with 1 Axes>"
            ],
            "image/png": "[encoded data removed]"
          },
          "metadata": {
            "needs_background": "light"
          }
        }
      ]
    }
  ]
}